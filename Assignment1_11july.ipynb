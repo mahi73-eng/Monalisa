{
  "nbformat": 4,
  "nbformat_minor": 0,
  "metadata": {
    "colab": {
      "provenance": [],
      "toc_visible": true
    },
    "kernelspec": {
      "name": "python3",
      "display_name": "Python 3"
    },
    "language_info": {
      "name": "python"
    }
  },
  "cells": [
    {
      "cell_type": "code",
      "execution_count": null,
      "metadata": {
        "id": "vMzhGGqwj_CI"
      },
      "outputs": [],
      "source": [
        "#1. What is Python, and why is it popular ?\n",
        "#ans: Python is an interpreted programming language. It was created by Guido Van Rossum and first released in 1991. Python supports multiple programming paradigms,including procedural, object-oriented and functional programming.\n",
        "# python is popular because it has a clean and readable syntax. Even beginners can start writing useful code quickly.Python used for web development, data analysis,machine learning, automation game development. It is very versatile and multi-purpose.Python has powerful third party libraries like NumPy, Pandas, Flask."
      ]
    },
    {
      "cell_type": "markdown",
      "source": [],
      "metadata": {
        "id": "KHzwsHGzvvJ1"
      }
    },
    {
      "cell_type": "code",
      "source": [
        "#2. What is an interpreter in Python ?\n",
        "#Interpreters are the computer program that will convert the source code or an high level language into intermediate code (machine level language). It is also called translator in programming terminology.For example Python is an interpreted language because it executes line-by-line instructions. There are actually two way to execute python code one is in Interactive mode and another thing is having Python prompts which is also called script mode. Python does not convert high level code into low level code as many other programming languages do rather it will scan the entire code into something called bytecode."
      ],
      "metadata": {
        "id": "CmXT3v1pvwQY"
      },
      "execution_count": null,
      "outputs": []
    },
    {
      "cell_type": "code",
      "source": [
        "#3. What are pre-defined keywords in Python ?\n",
        "#Predefined keywords in Python are reserved words that have special meanings and functionalities within the language. These keywords are fundamental to Python's syntax and structure, and they cannot be used as identifiers (such as variable names, function names, or class names) in your code. Example:True,False,None,And,As,Break,else etc."
      ],
      "metadata": {
        "id": "JcsxxybHygOr"
      },
      "execution_count": null,
      "outputs": []
    },
    {
      "cell_type": "code",
      "source": [
        "#4 . Can keywords be used as variable names ?\n",
        "#No. keywords can't be used as variable name."
      ],
      "metadata": {
        "id": "PfZ4VVNvzjZ_"
      },
      "execution_count": null,
      "outputs": []
    },
    {
      "cell_type": "code",
      "source": [
        "#5. What is mutability in Python ?\n",
        "#In Python, mutability refers to the ability of an object to be modified after it has been created. There are few mutable objects in python for example:list,dict,set etc.. There are few immutable objects also which cannot be changed after creation. like: int, tuple,str etc.Mutable objects are more efficient for frequent updates & immutable objects cannot be altered, so you avoid unexpected changes."
      ],
      "metadata": {
        "id": "XVpPHIc_0zRq"
      },
      "execution_count": null,
      "outputs": []
    },
    {
      "cell_type": "code",
      "source": [
        "#6.  Why are lists mutable, but tuples are immutable ?\n",
        "#Lists are meant to be dynamic and flexible. you can add, remove or change elements as needed in list Thats why lists are mutable. Tuples are designed to be fixed collections of related values. We cannot change, replace or delete element in tuples. Thats why tuples are immutable."
      ],
      "metadata": {
        "id": "_DyHPM4H4ZDj"
      },
      "execution_count": null,
      "outputs": []
    },
    {
      "cell_type": "code",
      "source": [
        "#7. What is the difference between “==” and “is” operators in Python?\n",
        "# \"==\" (Equality Operator): This operator compares the values of two objects. It checks if the content or data held by the objects are the same.Example:\n",
        "#list1 = [3, 2, 1]\n",
        "#list2 = [3, 2, 1]\n",
        "#print(list1 == list2) # Output: True (values are the same)\n",
        "# \"is\" (Identity Operator):This operator checks for object identity. It determines if two variables reference the exact same object in memory.Example:\n",
        "#list1=[3,2,1]\n",
        "#list2=[3,2,1]\n",
        "#print(list1 is list2) ## Output: False (they are separate objects in memory)\n"
      ],
      "metadata": {
        "id": "Y2vpLzop58lX"
      },
      "execution_count": null,
      "outputs": []
    },
    {
      "cell_type": "code",
      "source": [
        "#8. What are logical operators in Python ?\n",
        "#Logical operators in Python are used to combine conditional statements and evaluate their truth values, resulting in a Boolean output (True or False). They are also known as Boolean operators. Python has three primary logical operators:\n",
        "#and operator: This operator returns True if both of the conditions it connects are True. If even one of the conditions is False, the entire expression evaluates to False.\n",
        "#or operator: This operator returns True if at least one of the conditions it connects is True. The expression only evaluates to False if both conditions are False.\n",
        "#not operator: This operator is a unary operator, meaning it operates on a single condition. It reverses the Boolean value of the condition. If a condition is True, not makes it False, and if it's False, not makes it True.\n"
      ],
      "metadata": {
        "id": "GF0GFd678-sx"
      },
      "execution_count": null,
      "outputs": []
    },
    {
      "cell_type": "code",
      "source": [
        "#9.What is type casting in Python ?\n",
        "#Type casting, also known as type conversion, is the process of converting one data type into another. Ex: you want to change the data type of a variable from an integer 2 to a float 2.0. This is a case where you'd use type casting.Type casting can be broadly categorized into two types: implicit (automatic) casting and explicit (manual) casting.\n",
        "\n",
        "#10.What is the difference between implicit and explicit type casting ?\n",
        "#Implicit casting, also called automatic type conversion, is done automatically by the compiler when different data types are mixed in an expression. Explicit casting, or type casting, is performed manually by the programmer by explicitly specifying the desired data type.\n",
        "#Implicit(Automatic Type Conversion): Occurs automatically when the system handles the conversion without the programmer’s intervention.Generally involves converting a “smaller” data type to a “larger” one to prevent data loss.Ex: converting an integer to a floating-point number.\n",
        "# Explicit (Manual Type Conversion): Requires the programmer to explicitly specify the type conversion. Involves converting a “larger” data type to a “smaller” one. Example: Converting a float to an integer or a string to an integer."
      ],
      "metadata": {
        "id": "OvMe0VgF-U6-"
      },
      "execution_count": null,
      "outputs": []
    },
    {
      "cell_type": "code",
      "source": [
        "#11. What is the purpose of conditional statements in Python ?\n",
        "#The purpose of conditional statements in Python is to control the flow of execution in a program based on whether certain conditions are true or false. They enable decision-making within the code, allowing different blocks of code to be executed depending on the outcome of evaluated conditions."
      ],
      "metadata": {
        "id": "ALXx3_0ER1uD"
      },
      "execution_count": null,
      "outputs": []
    },
    {
      "cell_type": "code",
      "source": [
        "#12. How does the elif statement work ?\n",
        "#The “elif” keyword in Python, stands for “else if”. It can be used in conditional statements to check for multiple conditions. For example, if the first condition is false, it moves on to the next “elif” statement to check if that condition is true. If none of the conditions are true, the code will execute the else statement.Example:\n",
        "#if condition1:\n",
        "    # execute code if condition1 is true\n",
        "#elif condition2:\n",
        "    # execute code if condition2 is true\n",
        "#else:\n",
        "    # execute code if all conditions are false"
      ],
      "metadata": {
        "id": "TRgn06N4SPwk"
      },
      "execution_count": null,
      "outputs": []
    },
    {
      "cell_type": "code",
      "source": [
        "#13.What is the difference between for and while loops ?\n",
        "#The fundamental difference between for loops and while loops in Python lies in their primary use cases and how they control iteration:\n",
        "#for loop:   Purpose: Designed for iterating over a sequence (e.g., lists, tuples, strings, dictionaries, ranges) or other iterable objects.  Control: The number of iterations is typically known in advance, as it depends on the length of the sequence being iterated. The loop automatically handles the iteration over each element in the sequence.\n",
        "#Example:for item in [1, 2, 3]:\n",
        "              # print(item)\n",
        "#while loop:  Purpose: Designed for repeatedly executing a block of code as long as a specified condition remains true.  Control: The number of iterations is generally unknown in advance, as it depends on when the specified condition becomes false. The programmer is responsible for ensuring that the condition eventually becomes false to prevent an infinite loop.\n",
        "#Example: count = 0\n",
        "        #while count < 3:\n",
        "            #print(count)\n",
        "            #count += 1"
      ],
      "metadata": {
        "id": "ooYZ36GITE53"
      },
      "execution_count": null,
      "outputs": []
    },
    {
      "cell_type": "code",
      "source": [
        "#14. Describe a scenario where a while loop is more suitable than a for loop?\n",
        "#A while loop is more preferable when the condition has nothing to do with a collection/array and does not require a set number of iterations.\n",
        "#Example : user input validation :Imagine you're writing a program that asks the user to enter a password and it sould keep asking untill the correct password is entered.\n",
        "# explanation: here you don't know how many attempts the user will need, the loop continues until the condition become true. a for loop does not make any sense here, while loop will be perfect."
      ],
      "metadata": {
        "id": "A2c-_V1DUYBs"
      },
      "execution_count": null,
      "outputs": []
    },
    {
      "cell_type": "code",
      "source": [
        "#1.Write a Python program to print \"Hello, World!\n",
        "print(\"Hello,World!\")"
      ],
      "metadata": {
        "colab": {
          "base_uri": "https://localhost:8080/"
        },
        "id": "K4YkAu7crZxj",
        "outputId": "5756316e-ac5d-43c0-d625-4807e866a9ec"
      },
      "execution_count": null,
      "outputs": [
        {
          "output_type": "stream",
          "name": "stdout",
          "text": [
            "Hello,World!\n"
          ]
        }
      ]
    },
    {
      "cell_type": "code",
      "source": [
        "#2.Write a Python program that displays your name and age\n",
        "name=\"Monalisa\"\n",
        "age=25\n",
        "print(\"My name is :\",name, \",\" ,\"My age is:\",age)"
      ],
      "metadata": {
        "colab": {
          "base_uri": "https://localhost:8080/"
        },
        "id": "Lm58AKY-sM9E",
        "outputId": "39501c68-fbb4-4249-fef8-a2e44c33600d"
      },
      "execution_count": null,
      "outputs": [
        {
          "output_type": "stream",
          "name": "stdout",
          "text": [
            "My name is : Monalisa , My age is: 25\n"
          ]
        }
      ]
    },
    {
      "cell_type": "code",
      "source": [
        "#3.Write code to print all the pre-defined keywords in Python using the keyword library\n",
        "import keyword\n",
        "\n",
        "print(\"Python Keywords:\", keyword.kwlist)"
      ],
      "metadata": {
        "colab": {
          "base_uri": "https://localhost:8080/"
        },
        "id": "rKiFjE2wuEvp",
        "outputId": "16a141a1-8efe-4026-d563-e79aa5351a79"
      },
      "execution_count": null,
      "outputs": [
        {
          "output_type": "stream",
          "name": "stdout",
          "text": [
            "Python Keywords: ['False', 'None', 'True', 'and', 'as', 'assert', 'async', 'await', 'break', 'class', 'continue', 'def', 'del', 'elif', 'else', 'except', 'finally', 'for', 'from', 'global', 'if', 'import', 'in', 'is', 'lambda', 'nonlocal', 'not', 'or', 'pass', 'raise', 'return', 'try', 'while', 'with', 'yield']\n"
          ]
        }
      ]
    },
    {
      "cell_type": "code",
      "source": [
        "#4.Write a program that checks if a given word is a Python keyword.\n",
        "import keyword\n",
        "\n",
        "s = \"while\"\n",
        "\n",
        "if s in keyword.kwlist:\n",
        "\n",
        "    print(\"'{s}' is a Python keyword.\")\n",
        "else:\n",
        "\n",
        "    print(\"'{s}' is not a Python keyword.\")"
      ],
      "metadata": {
        "colab": {
          "base_uri": "https://localhost:8080/"
        },
        "id": "Yg-vvsGkxbiQ",
        "outputId": "f93faa84-01f4-40c1-f454-910b4ef59dea"
      },
      "execution_count": null,
      "outputs": [
        {
          "output_type": "stream",
          "name": "stdout",
          "text": [
            "'{s}' is a Python keyword.\n"
          ]
        }
      ]
    },
    {
      "cell_type": "code",
      "source": [
        "#5.Create a list and tuple in Python, and demonstrate how attempting to change an element works differently for each.\n",
        "create_list = [10, 20, 30, 40]\n",
        "print(\"my list: \",create_list)\n",
        "create_list[1] = 25\n",
        "print(\"Modified list: \",create_list)\n",
        "create_tuple = (100, 200, 300, 400)\n",
        "print(\"my tuple: \",create_tuple)\n",
        "# The following line will cause a TypeError because tuples are immutable\n",
        "create_tuple[1] = 250\n",
        "print(\"Modified tuple: \",create_tuple) # This line will not be reached due to the error above"
      ],
      "metadata": {
        "colab": {
          "base_uri": "https://localhost:8080/",
          "height": 245
        },
        "id": "iryggL_XzHbG",
        "outputId": "17ca2452-666e-4c43-c197-2d5c85b20a9e"
      },
      "execution_count": null,
      "outputs": [
        {
          "output_type": "stream",
          "name": "stdout",
          "text": [
            "my list:  [10, 20, 30, 40]\n",
            "Modified list:  [10, 25, 30, 40]\n",
            "my tuple:  (100, 200, 300, 400)\n"
          ]
        },
        {
          "output_type": "error",
          "ename": "TypeError",
          "evalue": "'tuple' object does not support item assignment",
          "traceback": [
            "\u001b[0;31m---------------------------------------------------------------------------\u001b[0m",
            "\u001b[0;31mTypeError\u001b[0m                                 Traceback (most recent call last)",
            "\u001b[0;32m/tmp/ipython-input-9-2379233001.py\u001b[0m in \u001b[0;36m<cell line: 0>\u001b[0;34m()\u001b[0m\n\u001b[1;32m      6\u001b[0m \u001b[0mcreate_tuple\u001b[0m \u001b[0;34m=\u001b[0m \u001b[0;34m(\u001b[0m\u001b[0;36m100\u001b[0m\u001b[0;34m,\u001b[0m \u001b[0;36m200\u001b[0m\u001b[0;34m,\u001b[0m \u001b[0;36m300\u001b[0m\u001b[0;34m,\u001b[0m \u001b[0;36m400\u001b[0m\u001b[0;34m)\u001b[0m\u001b[0;34m\u001b[0m\u001b[0;34m\u001b[0m\u001b[0m\n\u001b[1;32m      7\u001b[0m \u001b[0mprint\u001b[0m\u001b[0;34m(\u001b[0m\u001b[0;34m\"my tuple: \"\u001b[0m\u001b[0;34m,\u001b[0m\u001b[0mcreate_tuple\u001b[0m\u001b[0;34m)\u001b[0m\u001b[0;34m\u001b[0m\u001b[0;34m\u001b[0m\u001b[0m\n\u001b[0;32m----> 8\u001b[0;31m \u001b[0mcreate_tuple\u001b[0m\u001b[0;34m[\u001b[0m\u001b[0;36m1\u001b[0m\u001b[0;34m]\u001b[0m \u001b[0;34m=\u001b[0m \u001b[0;36m250\u001b[0m\u001b[0;34m\u001b[0m\u001b[0;34m\u001b[0m\u001b[0m\n\u001b[0m\u001b[1;32m      9\u001b[0m \u001b[0mprint\u001b[0m\u001b[0;34m(\u001b[0m\u001b[0;34m\"Modified tuple: \"\u001b[0m\u001b[0;34m,\u001b[0m\u001b[0mcreate_tuple\u001b[0m\u001b[0;34m)\u001b[0m\u001b[0;34m\u001b[0m\u001b[0;34m\u001b[0m\u001b[0m\n",
            "\u001b[0;31mTypeError\u001b[0m: 'tuple' object does not support item assignment"
          ]
        }
      ]
    },
    {
      "cell_type": "code",
      "source": [
        "#6. Write a function to demonstrate the behavior of mutable and immutable arguments\n",
        "def modify_list(lst):\n",
        "    lst.append(4)\n",
        "\n",
        "my_list = [1, 2, 3]\n",
        "modify_list(my_list)\n",
        "print(my_list)"
      ],
      "metadata": {
        "colab": {
          "base_uri": "https://localhost:8080/"
        },
        "id": "dLh6jCVTySAA",
        "outputId": "9e5e406c-eb4d-43fa-cba6-7d7bcf478fd4"
      },
      "execution_count": null,
      "outputs": [
        {
          "output_type": "stream",
          "name": "stdout",
          "text": [
            "[1, 2, 3, 4]\n"
          ]
        }
      ]
    },
    {
      "cell_type": "code",
      "source": [
        "#7. Write a program that performs basic arithmetic operations on two user-input numbers\n",
        "a=int(input(\"a: \"))\n",
        "b=int(input(\"b: \"))\n",
        "c=a+b\n",
        "d=b-a\n",
        "e=b/a\n",
        "f=a*b\n",
        "print(c,d,e,f)"
      ],
      "metadata": {
        "colab": {
          "base_uri": "https://localhost:8080/"
        },
        "id": "33CGk5Yl3Sit",
        "outputId": "a8c38790-e5b4-4947-83f9-8b8b6a742473"
      },
      "execution_count": null,
      "outputs": [
        {
          "output_type": "stream",
          "name": "stdout",
          "text": [
            "a: 5\n",
            "b: 10\n",
            "15 5 2.0 50\n"
          ]
        }
      ]
    },
    {
      "cell_type": "code",
      "source": [
        "#8. Write a program to demonstrate the use of logical operators.\n",
        "a = 10\n",
        "b = 12\n",
        "c = 0\n",
        "if a or b or c:\n",
        "    print(\"Atleast one number has boolean value as True\")\n",
        "else:\n",
        "    print(\"All the numbers have boolean value as False\")"
      ],
      "metadata": {
        "colab": {
          "base_uri": "https://localhost:8080/"
        },
        "id": "3hgP9HQone65",
        "outputId": "f54a89d8-3354-4776-86cc-d669e59c2eea"
      },
      "execution_count": null,
      "outputs": [
        {
          "output_type": "stream",
          "name": "stdout",
          "text": [
            "Atleast one number has boolean value as True\n"
          ]
        }
      ]
    },
    {
      "cell_type": "code",
      "source": [
        "#9.Write a Python program to convert user input from string to integer, float, and boolean types.\n",
        "num1 = input(\"a: \")\n",
        "num2 = input(\"b: \")\n",
        "num3 = input(\"c: \")\n",
        "print(int(num1), float(num2), bool(num3))\n"
      ],
      "metadata": {
        "colab": {
          "base_uri": "https://localhost:8080/"
        },
        "id": "8G5hufy2oh2M",
        "outputId": "fecf56b9-b8ea-4a5a-c9ca-cb08865b3c22"
      },
      "execution_count": null,
      "outputs": [
        {
          "output_type": "stream",
          "name": "stdout",
          "text": [
            "a: 5\n",
            "b: 4\n",
            "c: 8\n",
            "5 4.0 True\n"
          ]
        }
      ]
    },
    {
      "cell_type": "code",
      "source": [
        "#10.Write code to demonstrate type casting with list elements.\n",
        "a=[1,2,3,4,5,6]\n",
        "c = [str(x) for x in a]\n",
        "print(c)"
      ],
      "metadata": {
        "colab": {
          "base_uri": "https://localhost:8080/"
        },
        "id": "2I3M9sZyquGa",
        "outputId": "487c84ab-c3e2-4ca4-9f00-50b0cb47621a"
      },
      "execution_count": null,
      "outputs": [
        {
          "output_type": "stream",
          "name": "stdout",
          "text": [
            "['1', '2', '3', '4', '5', '6']\n"
          ]
        }
      ]
    },
    {
      "cell_type": "code",
      "source": [
        "#11.Write a program that checks if a number is positive, negative, or zero.\n",
        "num = int(input(\"Enter a number: \"))\n",
        "\n",
        "if num > 0:\n",
        "    print(\"The number is positive.\")\n",
        "elif num < 0:\n",
        "    print(\"The number is negative.\")\n",
        "else:\n",
        "    print(\"The number is zero.\")"
      ],
      "metadata": {
        "colab": {
          "base_uri": "https://localhost:8080/"
        },
        "id": "ZeA38EkMs96e",
        "outputId": "b0389950-93b9-4294-e0d6-b84c01a26ace"
      },
      "execution_count": null,
      "outputs": [
        {
          "output_type": "stream",
          "name": "stdout",
          "text": [
            "Enter a number: 5\n",
            "The number is positive.\n"
          ]
        }
      ]
    },
    {
      "cell_type": "code",
      "source": [
        "#12.Write a for loop to print numbers from 1 to 10.\n",
        "for i in range(1,10+1):\n",
        "    print(i)\n"
      ],
      "metadata": {
        "colab": {
          "base_uri": "https://localhost:8080/"
        },
        "id": "GyFhEW0etYml",
        "outputId": "fd17587e-3054-4da5-e845-cc57b1f3e1fb"
      },
      "execution_count": null,
      "outputs": [
        {
          "output_type": "stream",
          "name": "stdout",
          "text": [
            "1\n",
            "2\n",
            "3\n",
            "4\n",
            "5\n",
            "6\n",
            "7\n",
            "8\n",
            "9\n",
            "10\n"
          ]
        }
      ]
    },
    {
      "cell_type": "code",
      "source": [
        "#13.Write a Python program to find the sum of all even numbers between 1 and 50.\n",
        "sum_of_even_numbers = 0\n",
        "\n",
        "for number in range(1, 50+1):\n",
        "    if number % 2 == 0:\n",
        "        sum_of_even_numbers += number\n",
        "print(sum_of_even_numbers)"
      ],
      "metadata": {
        "colab": {
          "base_uri": "https://localhost:8080/"
        },
        "id": "IR6j2nmxt8rJ",
        "outputId": "95bbc6b3-798c-4592-ce54-db83324b8572"
      },
      "execution_count": null,
      "outputs": [
        {
          "output_type": "stream",
          "name": "stdout",
          "text": [
            "650\n"
          ]
        }
      ]
    },
    {
      "cell_type": "code",
      "source": [
        "#14.Write a program to reverse a string using a while loop.\n",
        "\n",
        "input_string = input(\"Enter a string: \")\n",
        "reversed_string = \"\"\n",
        "length = len(input_string)\n",
        "index = length - 1\n",
        "\n",
        "while index >= 0:\n",
        "    reversed_string += input_string[index]\n",
        "    index -= 1\n",
        "\n",
        "print(\"Reversed string:\", reversed_string)"
      ],
      "metadata": {
        "colab": {
          "base_uri": "https://localhost:8080/"
        },
        "id": "ZN2R9OtrugUN",
        "outputId": "f5ddc65a-4e46-4240-ab89-55a6d2309554"
      },
      "execution_count": null,
      "outputs": [
        {
          "output_type": "stream",
          "name": "stdout",
          "text": [
            "Enter a string: ball\n",
            "Reversed string: llab\n"
          ]
        }
      ]
    },
    {
      "cell_type": "code",
      "source": [
        "#15.Write a Python program to calculate the factorial of a number provided by the user using a while loop.\n",
        "\n",
        "number = int(input(\"Enter a number: \"))\n",
        "factorial = 1\n",
        "current = 1\n",
        "\n",
        "while current <= number:\n",
        "    factorial *= current\n",
        "    current += 1\n",
        "\n",
        "print(\"The factorial of number is :\", factorial)"
      ],
      "metadata": {
        "colab": {
          "base_uri": "https://localhost:8080/"
        },
        "id": "uNhUckztwgSJ",
        "outputId": "69f3c473-f671-44a1-c4f6-1b143380e828"
      },
      "execution_count": null,
      "outputs": [
        {
          "output_type": "stream",
          "name": "stdout",
          "text": [
            "Enter a number: 5\n",
            "The factorial of number is : 120\n"
          ]
        }
      ]
    }
  ]
}