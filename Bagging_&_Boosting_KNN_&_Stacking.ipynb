{
  "nbformat": 4,
  "nbformat_minor": 0,
  "metadata": {
    "colab": {
      "provenance": []
    },
    "kernelspec": {
      "name": "python3",
      "display_name": "Python 3"
    },
    "language_info": {
      "name": "python"
    }
  },
  "cells": [
    {
      "cell_type": "markdown",
      "source": [
        "# Question 1 : What is the fundamental idea behind ensemble techniques? How does bagging differ from boosting in terms of approach and objective?"
      ],
      "metadata": {
        "id": "7SW9p-lYsD7U"
      }
    },
    {
      "cell_type": "markdown",
      "source": [
        "Ensemble techniques combine multiple individual models to improve overall performance. Bagging and boosting are two popular ensemble methods that differ in their approach and objective.\n",
        "\n",
        "Bagging (Bootstrap Aggregating): Bagging trains multiple models independently on different bootstrap samples (random subsets with replacement) of the training data. The final prediction is typically an average (for regression) or majority vote (for classification) of the individual model predictions. The main objective of bagging is to reduce variance and prevent overfitting.\n",
        "Boosting: Boosting trains multiple models sequentially, where each subsequent model focuses on correcting the errors made by the previous models. It assigns higher weights to misclassified samples, giving them more importance in the training of the next model. The final prediction is a weighted combination of the individual model predictions. The main objective of boosting is to reduce bias and improve accuracy."
      ],
      "metadata": {
        "id": "owFpf9Olw11q"
      }
    },
    {
      "cell_type": "markdown",
      "source": [
        "# Question 2: Explain how the Random Forest Classifier reduces overfitting compared to a single decision tree. Mention the role of two key hyperparameters in this process."
      ],
      "metadata": {
        "id": "oqE5Cfcgw6T4"
      }
    },
    {
      "cell_type": "markdown",
      "metadata": {
        "id": "a224374d"
      },
      "source": [
        "Random Forest is an ensemble method that builds multiple decision trees during training and outputs the mode of the classes (for classification) or the average prediction (for regression) of the individual trees. It reduces overfitting compared to a single decision tree primarily through two mechanisms:\n",
        "\n",
        "1.  **Bagging (Bootstrap Aggregating)**: Random Forest uses bagging to create multiple subsets of the training data by sampling with replacement. Each decision tree is trained on a different bootstrap sample. This introduces randomness and reduces the variance of the model, making it less sensitive to the specific training data and thus less prone to overfitting.\n",
        "\n",
        "2.  **Random Subspace (Feature Randomness)**: In addition to bagging, Random Forest also introduces randomness in the features considered at each split in a decision tree. Instead of considering all features, it randomly selects a subset of features at each node. This further decorrelates the individual trees, making the ensemble more robust and less likely to overfit.\n",
        "\n",
        "Two key hyperparameters that play a significant role in this process are:\n",
        "\n",
        "*   **`n_estimators`**: This hyperparameter determines the number of trees in the forest. A larger number of trees generally leads to a more robust model and reduces variance, but it also increases computational cost. Increasing `n_estimators` helps in averaging out the predictions of individual trees, thereby reducing overfitting.\n",
        "\n",
        "*   **`max_features`**: This hyperparameter controls the number of features to consider when looking for the best split at each node. By setting `max_features` to a value less than the total number of features, Random Forest introduces feature randomness, which helps to decorrelate the trees and reduce overfitting. Common choices for classification are `sqrt(n_features)` or `log2(n_features)`, and for regression, `n_features`."
      ]
    },
    {
      "cell_type": "markdown",
      "source": [
        "# Question 3: What is Stacking in ensemble learning? How does it differ from traditional bagging/boosting methods? Provide a simple example use case."
      ],
      "metadata": {
        "id": "ohkpAS0Uy1Xi"
      }
    },
    {
      "cell_type": "markdown",
      "metadata": {
        "id": "65fc1198"
      },
      "source": [
        "\n",
        "\n",
        "Stacking (Stacked Generalization) is an ensemble learning technique where multiple models (called base models) are trained on the training data, and then a meta-model (also called a blender or a stacker) is trained on the predictions of the base models. The meta-model learns how to combine the predictions of the base models to make the final prediction.\n",
        "\n",
        "**How it differs from bagging/boosting:**\n",
        "\n",
        "*   **Bagging and Boosting:** In bagging and boosting, the individual models are typically of the same type (e.g., all decision trees), and their predictions are combined using simple methods like averaging or weighted averaging.\n",
        "*   **Stacking:** Stacking uses diverse base models (e.g., a decision tree, a support vector machine, and a neural network) and a meta-model to learn the optimal way to combine their predictions. This allows stacking to potentially capture more complex relationships in the data and achieve better performance than bagging or boosting, especially when the base models are diverse and their errors are uncorrelated.\n",
        "\n",
        "**Simple Example Use Case:**\n",
        "\n",
        "Imagine you are trying to predict house prices. You could use stacking with the following approach:\n",
        "\n",
        "1.  **Base Models:** Train three different models on your housing dataset:\n",
        "    *   A Linear Regression model.\n",
        "    *   A Ridge Regression model.\n",
        "    *   A Gradient Boosting Regressor model.\n",
        "2.  **Meta-Model:** Train a simple Linear Regression model as your meta-model. The input to this meta-model would be the predictions from the three base models for each house in your training data. The target variable for the meta-model would be the actual house prices.\n",
        "3.  **Prediction:** To predict the price of a new house, first get predictions from each of your base models. Then, feed these predictions into the trained meta-model, which will combine them to produce the final predicted house price.\n",
        "\n",
        "This allows the meta-model to learn which base models are more reliable under different circumstances and how to weigh their predictions accordingly, potentially leading to a more accurate overall prediction than any single base model or simple averaging of their predictions."
      ]
    },
    {
      "cell_type": "markdown",
      "source": [
        "# Question 4:What is the OOB Score in Random Forest, and why is it useful? How does it help in model evaluation without a separate validation set?"
      ],
      "metadata": {
        "id": "YMnlo9-2zFVS"
      }
    },
    {
      "cell_type": "markdown",
      "metadata": {
        "id": "6540a18f"
      },
      "source": [
        "\n",
        "\n",
        "The **Out-of-Bag (OOB) score** is a method for evaluating the performance of a Random Forest model during training without the need for a separate validation set. It leverages the nature of bagging, the technique used in Random Forest to create multiple decision trees.\n",
        "\n",
        "**How it works and why it's useful:**\n",
        "\n",
        "*   **Bagging and Out-of-Bag Samples:** In Random Forest, each decision tree is trained on a bootstrap sample of the training data (a random subset with replacement). This means that for each tree, there will be a portion of the original training data that was *not* included in the bootstrap sample used to train that specific tree. These are called the \"out-of-bag\" samples for that particular tree.\n",
        "*   **OOB Prediction:** For each data point in the original training set, the OOB score is calculated by using only the trees for which that data point was *out-of-bag*. The predictions from these \"out-of-bag\" trees are then aggregated (e.g., majority vote for classification, average for regression) to get an OOB prediction for that data point.\n",
        "*   **Evaluation Metric:** The OOB score is then calculated by comparing these OOB predictions to the actual target values for those data points. For classification, this is typically the accuracy score (proportion of correct predictions), and for regression, it could be mean squared error or R-squared.\n",
        "\n",
        "**How it helps in model evaluation without a separate validation set:**\n",
        "\n",
        "The OOB score provides a reliable estimate of the model's generalization performance on unseen data. Since the OOB samples for each tree were not used in the training of that tree, the OOB predictions are effectively made on data that the tree has not seen. Aggregating these predictions across all trees provides an unbiased evaluation of the Random Forest model, similar to what you would get from a separate validation set.\n",
        "\n",
        "This is particularly useful when you have limited data and don't want to further reduce the training set size by splitting off a validation set. The OOB score allows you to evaluate the model's performance while using all available data for training the individual trees."
      ]
    },
    {
      "cell_type": "markdown",
      "source": [
        "# Question 5: Compare AdaBoost and Gradient Boosting in terms of:\n",
        "● How they handle errors from weak learners\n",
        "\n",
        "● Weight adjustment mechanism\n",
        "\n",
        "● Typical use cases"
      ],
      "metadata": {
        "id": "WhQ-Vo04zYLi"
      }
    },
    {
      "cell_type": "markdown",
      "metadata": {
        "id": "39575611"
      },
      "source": [
        "\n",
        "\n",
        "Here's a comparison of AdaBoost and Gradient Boosting:\n",
        "\n",
        "| Feature                     | AdaBoost (Adaptive Boosting)                                  | Gradient Boosting                                              |\n",
        "| :-------------------------- | :------------------------------------------------------------ | :------------------------------------------------------------- |\n",
        "| **How they handle errors**  | Focuses on misclassified instances by increasing their weights. Subsequent weak learners are trained on this reweighted data. | Focuses on the residuals (errors) of the previous models. Each new weak learner is trained to predict the residual errors. |\n",
        "| **Weight adjustment mechanism** | Adjusts instance weights based on the correctness of prediction by the current weak learner. Correctly classified instances get lower weights, misclassified instances get higher weights. Also assigns weights to weak learners based on their accuracy. | Does not directly adjust instance weights. Instead, it builds models on the negative gradient of the loss function (which represents the errors). |\n",
        "| **Typical use cases**       | Often used for binary classification, but can be extended to multi-class. Can be sensitive to noisy data and outliers. | Widely used for both regression and classification tasks. Generally more robust to noisy data and outliers than AdaBoost. Can handle various loss functions. |\n",
        "\n",
        "In essence, AdaBoost adjusts the *data weights* to emphasize difficult-to-classify instances, while Gradient Boosting adjusts the *predictions* of the previous models by fitting to the residuals (errors) to improve the overall prediction. Gradient Boosting is a more generalized framework and can use different loss functions, making it more flexible than AdaBoost."
      ]
    },
    {
      "cell_type": "markdown",
      "source": [
        "# Question 6:Why does CatBoost perform well on categorical features without requiring extensive preprocessing? Briefly explain its handling of categorical variables."
      ],
      "metadata": {
        "id": "n4_wrROsz3A7"
      }
    },
    {
      "cell_type": "markdown",
      "metadata": {
        "id": "bfd7cec9"
      },
      "source": [
        "\n",
        "\n",
        "CatBoost (Categorical Boosting) is an open-source gradient boosting library that is specifically designed to handle categorical features efficiently and effectively without requiring extensive preprocessing like one-hot encoding. It achieves this through several innovative techniques:\n",
        "\n",
        "1.  **Ordered Boosting:** Unlike traditional gradient boosting algorithms that train models on the same data distribution, CatBoost uses a technique called \"ordered boosting.\" This involves ordering the data and training each subsequent model on a different permutation of the data. This helps to prevent target leakage, which is a common problem when handling categorical features in gradient boosting.\n",
        "\n",
        "2.  **Ordered Target Encoding:** CatBoost uses a special type of target encoding called \"ordered target encoding\" to convert categorical features into numerical ones. Instead of calculating the average target value for each category over the entire dataset (which can lead to target leakage), CatBoost calculates the average target value based on the *previous* data points in the ordered permutation. This helps to prevent the model from using information from the target variable that is not available during inference.\n",
        "\n",
        "3.  **Handling of Categorical Feature Combinations:** CatBoost can automatically identify and use combinations of categorical features to improve model performance. It does this by creating new features based on the interactions between existing categorical features. This can capture complex relationships in the data that would be difficult to find with traditional methods.\n",
        "\n",
        "4.  **Prediction Shift:** CatBoost addresses the \"prediction shift\" problem, which can occur when the distribution of categorical features in the training data is different from the distribution in the test data. It uses a technique called \"prediction shift\" to adjust the predictions of the model to account for these differences.\n",
        "\n",
        "By employing these techniques, CatBoost can effectively handle categorical features without requiring manual preprocessing steps like one-hot encoding, which can lead to high-dimensional sparse data and increased training time. This makes CatBoost a convenient and powerful tool for working with datasets that contain a large number of categorical features."
      ]
    },
    {
      "cell_type": "markdown",
      "source": [
        "# Question 7: KNN Classifier Assignment: Wine Dataset Analysis with optimization\n",
        "Task:\n",
        "1. Load the Wine dataset (sklearn.datasets.load_wine()).\n",
        "2. Split data into 70% train and 30% test.\n",
        "3. Train a KNN classifier (default K=5) without scaling and evaluate using:\n",
        "a. Accuracy\n",
        "b. Precision, Recall, F1-Score (print classification report)\n",
        "4. Apply StandardScaler, retrain KNN, and compare metrics.\n",
        "5. Use GridSearchCV to find the best K (test K=1 to 20) and distance metric\n",
        "(Euclidean, Manhattan).\n"
      ],
      "metadata": {
        "id": "6AbSgYyS0FNJ"
      }
    },
    {
      "cell_type": "markdown",
      "metadata": {
        "id": "ae75b3f6"
      },
      "source": [
        "# Task\n",
        "Analyze the Wine dataset using a KNN classifier. First, train and evaluate a KNN model without scaling. Then, apply StandardScaler, train and evaluate another KNN model, and compare the results. Finally, use GridSearchCV to find the best K and distance metric for the scaled data and evaluate the best model."
      ]
    },
    {
      "cell_type": "markdown",
      "metadata": {
        "id": "f67a36de"
      },
      "source": [
        "## Load the dataset\n",
        "\n",
        "### Subtask:\n",
        "Load the Wine dataset from `sklearn.datasets`.\n"
      ]
    },
    {
      "cell_type": "markdown",
      "metadata": {
        "id": "aa35a440"
      },
      "source": [
        "**Reasoning**:\n",
        "The first step is to load the Wine dataset using the `load_wine` function from `sklearn.datasets`.\n",
        "\n"
      ]
    },
    {
      "cell_type": "code",
      "metadata": {
        "id": "3c9f823b"
      },
      "source": [
        "from sklearn.datasets import load_wine\n",
        "\n",
        "wine = load_wine()"
      ],
      "execution_count": 1,
      "outputs": []
    },
    {
      "cell_type": "markdown",
      "metadata": {
        "id": "e2cba639"
      },
      "source": [
        "## Split the data\n",
        "\n",
        "### Subtask:\n",
        "Split the data into training and testing sets (70% train, 30% test).\n"
      ]
    },
    {
      "cell_type": "markdown",
      "metadata": {
        "id": "fd06f90b"
      },
      "source": [
        "**Reasoning**:\n",
        "Split the loaded wine dataset into training and testing sets as per the instructions.\n",
        "\n"
      ]
    },
    {
      "cell_type": "code",
      "metadata": {
        "id": "c4d66f03"
      },
      "source": [
        "from sklearn.model_selection import train_test_split\n",
        "\n",
        "X_train, X_test, y_train, y_test = train_test_split(wine.data, wine.target, test_size=0.3, random_state=42)"
      ],
      "execution_count": 2,
      "outputs": []
    },
    {
      "cell_type": "markdown",
      "metadata": {
        "id": "833d0e82"
      },
      "source": [
        "## Train and evaluate without scaling\n",
        "\n",
        "### Subtask:\n",
        "Train a KNN classifier with the default K=5 on the unscaled data and evaluate its performance using accuracy, precision, recall, and F1-score.\n"
      ]
    },
    {
      "cell_type": "markdown",
      "metadata": {
        "id": "7ecbdd87"
      },
      "source": [
        "**Reasoning**:\n",
        "Train a KNN classifier with default parameters on the unscaled data and evaluate its performance using accuracy, precision, recall, and F1-score.\n",
        "\n"
      ]
    },
    {
      "cell_type": "code",
      "metadata": {
        "colab": {
          "base_uri": "https://localhost:8080/"
        },
        "id": "8a093fc0",
        "outputId": "6b941f55-4f55-463d-9597-77dc60b54d70"
      },
      "source": [
        "from sklearn.neighbors import KNeighborsClassifier\n",
        "from sklearn.metrics import accuracy_score, classification_report\n",
        "\n",
        "# Instantiate KNN classifier with default K=5\n",
        "knn_unscaled = KNeighborsClassifier(n_neighbors=5)\n",
        "\n",
        "# Fit the model to the unscaled training data\n",
        "knn_unscaled.fit(X_train, y_train)\n",
        "\n",
        "# Make predictions on the unscaled testing data\n",
        "y_pred_unscaled = knn_unscaled.predict(X_test)\n",
        "\n",
        "# Calculate and print accuracy\n",
        "accuracy_unscaled = accuracy_score(y_test, y_pred_unscaled)\n",
        "print(f\"Accuracy (unscaled data): {accuracy_unscaled:.4f}\")\n",
        "\n",
        "# Print classification report\n",
        "print(\"Classification Report (unscaled data):\")\n",
        "print(classification_report(y_test, y_pred_unscaled))"
      ],
      "execution_count": 3,
      "outputs": [
        {
          "output_type": "stream",
          "name": "stdout",
          "text": [
            "Accuracy (unscaled data): 0.7407\n",
            "Classification Report (unscaled data):\n",
            "              precision    recall  f1-score   support\n",
            "\n",
            "           0       0.89      0.89      0.89        19\n",
            "           1       0.75      0.71      0.73        21\n",
            "           2       0.53      0.57      0.55        14\n",
            "\n",
            "    accuracy                           0.74        54\n",
            "   macro avg       0.73      0.73      0.73        54\n",
            "weighted avg       0.74      0.74      0.74        54\n",
            "\n"
          ]
        }
      ]
    },
    {
      "cell_type": "markdown",
      "metadata": {
        "id": "f8c5a136"
      },
      "source": [
        "## Apply standardscaler\n",
        "\n",
        "### Subtask:\n",
        "Apply StandardScaler to the training and testing data.\n"
      ]
    },
    {
      "cell_type": "markdown",
      "metadata": {
        "id": "7aff629c"
      },
      "source": [
        "**Reasoning**:\n",
        "Apply StandardScaler to the training and testing data as per the instructions.\n",
        "\n"
      ]
    },
    {
      "cell_type": "code",
      "metadata": {
        "id": "7277bd6f"
      },
      "source": [
        "from sklearn.preprocessing import StandardScaler\n",
        "\n",
        "# Instantiate StandardScaler\n",
        "scaler = StandardScaler()\n",
        "\n",
        "# Fit the scaler to the training data\n",
        "scaler.fit(X_train)\n",
        "\n",
        "# Transform both training and testing data\n",
        "X_train_scaled = scaler.transform(X_train)\n",
        "X_test_scaled = scaler.transform(X_test)"
      ],
      "execution_count": 4,
      "outputs": []
    },
    {
      "cell_type": "markdown",
      "metadata": {
        "id": "6225b58d"
      },
      "source": [
        "## Train and evaluate with scaling\n",
        "\n",
        "### Subtask:\n",
        "Train a KNN classifier with the default K=5 on the scaled data and evaluate its performance using the same metrics.\n"
      ]
    },
    {
      "cell_type": "markdown",
      "metadata": {
        "id": "35f6148b"
      },
      "source": [
        "**Reasoning**:\n",
        "Train a KNN classifier on the scaled data and evaluate its performance using accuracy and classification report.\n",
        "\n"
      ]
    },
    {
      "cell_type": "code",
      "metadata": {
        "colab": {
          "base_uri": "https://localhost:8080/"
        },
        "id": "9171a6f7",
        "outputId": "e43f3fcf-aa5c-4daa-8391-c07e69739680"
      },
      "source": [
        "# Instantiate KNN classifier with default K=5\n",
        "knn_scaled = KNeighborsClassifier(n_neighbors=5)\n",
        "\n",
        "# Fit the model to the scaled training data\n",
        "knn_scaled.fit(X_train_scaled, y_train)\n",
        "\n",
        "# Make predictions on the scaled testing data\n",
        "y_pred_scaled = knn_scaled.predict(X_test_scaled)\n",
        "\n",
        "# Calculate and print accuracy\n",
        "accuracy_scaled = accuracy_score(y_test, y_pred_scaled)\n",
        "print(f\"Accuracy (scaled data): {accuracy_scaled:.4f}\")\n",
        "\n",
        "# Print classification report\n",
        "print(\"Classification Report (scaled data):\")\n",
        "print(classification_report(y_test, y_pred_scaled))"
      ],
      "execution_count": 5,
      "outputs": [
        {
          "output_type": "stream",
          "name": "stdout",
          "text": [
            "Accuracy (scaled data): 0.9630\n",
            "Classification Report (scaled data):\n",
            "              precision    recall  f1-score   support\n",
            "\n",
            "           0       0.95      1.00      0.97        19\n",
            "           1       1.00      0.90      0.95        21\n",
            "           2       0.93      1.00      0.97        14\n",
            "\n",
            "    accuracy                           0.96        54\n",
            "   macro avg       0.96      0.97      0.96        54\n",
            "weighted avg       0.97      0.96      0.96        54\n",
            "\n"
          ]
        }
      ]
    },
    {
      "cell_type": "markdown",
      "metadata": {
        "id": "b723afe2"
      },
      "source": [
        "## Hyperparameter tuning with gridsearchcv\n",
        "\n",
        "### Subtask:\n",
        "Use GridSearchCV to find the best K (test K=1 to 20) and distance metric (Euclidean, Manhattan) for the scaled data.\n"
      ]
    },
    {
      "cell_type": "markdown",
      "metadata": {
        "id": "6dff3079"
      },
      "source": [
        "**Reasoning**:\n",
        "Use GridSearchCV to find the best hyperparameters for the KNN classifier on the scaled data by testing different values of K and distance metrics.\n",
        "\n"
      ]
    },
    {
      "cell_type": "code",
      "metadata": {
        "colab": {
          "base_uri": "https://localhost:8080/"
        },
        "id": "d1a870cf",
        "outputId": "c92ad4a2-f207-497e-aa7a-07eb6ef67bc0"
      },
      "source": [
        "from sklearn.model_selection import GridSearchCV\n",
        "from sklearn.neighbors import KNeighborsClassifier\n",
        "\n",
        "# Define the parameter grid\n",
        "param_grid = {\n",
        "    'n_neighbors': list(range(1, 21)),\n",
        "    'metric': ['euclidean', 'manhattan']\n",
        "}\n",
        "\n",
        "# Instantiate a KNN classifier\n",
        "knn = KNeighborsClassifier()\n",
        "\n",
        "# Instantiate GridSearchCV\n",
        "grid_search = GridSearchCV(knn, param_grid, cv=5)\n",
        "\n",
        "# Fit GridSearchCV to the scaled training data\n",
        "grid_search.fit(X_train_scaled, y_train)\n",
        "\n",
        "# Print the best parameters\n",
        "print(\"Best parameters found by GridSearchCV:\")\n",
        "print(grid_search.best_params_)"
      ],
      "execution_count": 6,
      "outputs": [
        {
          "output_type": "stream",
          "name": "stdout",
          "text": [
            "Best parameters found by GridSearchCV:\n",
            "{'metric': 'manhattan', 'n_neighbors': 1}\n"
          ]
        }
      ]
    },
    {
      "cell_type": "markdown",
      "metadata": {
        "id": "2664ff0c"
      },
      "source": [
        "## Evaluate the best model\n",
        "\n",
        "### Subtask:\n",
        "Train and evaluate a KNN classifier with the best hyperparameters found by GridSearchCV on the scaled data.\n"
      ]
    },
    {
      "cell_type": "markdown",
      "metadata": {
        "id": "621476f2"
      },
      "source": [
        "**Reasoning**:\n",
        "Train and evaluate a KNN classifier with the best hyperparameters found by GridSearchCV on the scaled data.\n",
        "\n"
      ]
    },
    {
      "cell_type": "code",
      "metadata": {
        "colab": {
          "base_uri": "https://localhost:8080/"
        },
        "id": "4992a485",
        "outputId": "d785697b-59af-41fe-9385-9125a7a552c7"
      },
      "source": [
        "# Instantiate a KNeighborsClassifier with the best parameters\n",
        "knn_best = KNeighborsClassifier(n_neighbors=grid_search.best_params_['n_neighbors'],\n",
        "                                metric=grid_search.best_params_['metric'])\n",
        "\n",
        "# Fit the model to the scaled training data\n",
        "knn_best.fit(X_train_scaled, y_train)\n",
        "\n",
        "# Make predictions on the scaled testing data\n",
        "y_pred_best = knn_best.predict(X_test_scaled)\n",
        "\n",
        "# Calculate and print the accuracy score\n",
        "accuracy_best = accuracy_score(y_test, y_pred_best)\n",
        "print(f\"Accuracy (best model on scaled data): {accuracy_best:.4f}\")\n",
        "\n",
        "# Print the classification report\n",
        "print(\"Classification Report (best model on scaled data):\")\n",
        "print(classification_report(y_test, y_pred_best))"
      ],
      "execution_count": 7,
      "outputs": [
        {
          "output_type": "stream",
          "name": "stdout",
          "text": [
            "Accuracy (best model on scaled data): 0.9630\n",
            "Classification Report (best model on scaled data):\n",
            "              precision    recall  f1-score   support\n",
            "\n",
            "           0       0.95      1.00      0.97        19\n",
            "           1       1.00      0.90      0.95        21\n",
            "           2       0.93      1.00      0.97        14\n",
            "\n",
            "    accuracy                           0.96        54\n",
            "   macro avg       0.96      0.97      0.96        54\n",
            "weighted avg       0.97      0.96      0.96        54\n",
            "\n"
          ]
        }
      ]
    },
    {
      "cell_type": "markdown",
      "metadata": {
        "id": "fd34f9d0"
      },
      "source": [
        "## Compare results\n",
        "\n",
        "### Subtask:\n",
        "Compare the performance metrics of the KNN models trained without scaling, with scaling, and with hyperparameter tuning.\n"
      ]
    },
    {
      "cell_type": "markdown",
      "metadata": {
        "id": "fc9d6b88"
      },
      "source": [
        "**Reasoning**:\n",
        "Print the accuracy scores and summarize the performance differences based on the metrics obtained from the previous steps.\n",
        "\n"
      ]
    },
    {
      "cell_type": "code",
      "metadata": {
        "colab": {
          "base_uri": "https://localhost:8080/"
        },
        "id": "c9908f50",
        "outputId": "b8812cdb-7ac0-458c-dc69-a4fff1609955"
      },
      "source": [
        "# 1. Print the accuracy scores\n",
        "print(f\"Accuracy (unscaled data, K=5): {accuracy_unscaled:.4f}\")\n",
        "print(f\"Accuracy (scaled data, K=5): {accuracy_scaled:.4f}\")\n",
        "print(f\"Accuracy (best model on scaled data): {accuracy_best:.4f}\")\n",
        "\n",
        "# 2. Briefly summarize the differences in performance\n",
        "print(\"\\nPerformance Comparison:\")\n",
        "print(\"------------------------\")\n",
        "print(f\"Unscaled data (K=5) Accuracy: {accuracy_unscaled:.4f}\")\n",
        "print(f\"Scaled data (K=5) Accuracy: {accuracy_scaled:.4f}\")\n",
        "print(f\"Best scaled data (K=1, Manhattan) Accuracy: {accuracy_best:.4f}\")\n",
        "\n",
        "# Based on the classification reports from previous steps:\n",
        "print(\"\\nObservations from Classification Reports:\")\n",
        "print(\"- Without scaling, the performance is significantly lower, especially for classes 1 and 2, as seen in the classification report's precision, recall, and F1-scores.\")\n",
        "print(\"- With scaling (default K=5), the performance drastically improves across all metrics and classes, reaching a high accuracy.\")\n",
        "print(\"- The best model found by GridSearchCV (K=1, Manhattan) on scaled data achieves similar high accuracy as the default K=5 on scaled data, indicating that scaling had the most significant impact.\")\n",
        "\n",
        "# 3. Discuss the impact of scaling and hyperparameter tuning\n",
        "print(\"\\nImpact of Scaling and Hyperparameter Tuning:\")\n",
        "print(\"-------------------------------------------\")\n",
        "print(\"Scaling: Applying StandardScaler had a substantial positive impact on the KNN model's performance. This is because KNN is a distance-based algorithm, and feature scaling ensures that all features contribute equally to the distance calculations, preventing features with larger scales from dominating the decision-making process.\")\n",
        "print(\"Hyperparameter Tuning: While GridSearchCV found optimal parameters (K=1, Manhattan), the improvement in accuracy compared to the scaled model with the default K=5 was negligible in this specific case. This suggests that after scaling, the model was already performing very well, and further tuning provided minimal additional gain. However, in other datasets or with different base model performance, hyperparameter tuning could yield more significant improvements.\")"
      ],
      "execution_count": 8,
      "outputs": [
        {
          "output_type": "stream",
          "name": "stdout",
          "text": [
            "Accuracy (unscaled data, K=5): 0.7407\n",
            "Accuracy (scaled data, K=5): 0.9630\n",
            "Accuracy (best model on scaled data): 0.9630\n",
            "\n",
            "Performance Comparison:\n",
            "------------------------\n",
            "Unscaled data (K=5) Accuracy: 0.7407\n",
            "Scaled data (K=5) Accuracy: 0.9630\n",
            "Best scaled data (K=1, Manhattan) Accuracy: 0.9630\n",
            "\n",
            "Observations from Classification Reports:\n",
            "- Without scaling, the performance is significantly lower, especially for classes 1 and 2, as seen in the classification report's precision, recall, and F1-scores.\n",
            "- With scaling (default K=5), the performance drastically improves across all metrics and classes, reaching a high accuracy.\n",
            "- The best model found by GridSearchCV (K=1, Manhattan) on scaled data achieves similar high accuracy as the default K=5 on scaled data, indicating that scaling had the most significant impact.\n",
            "\n",
            "Impact of Scaling and Hyperparameter Tuning:\n",
            "-------------------------------------------\n",
            "Scaling: Applying StandardScaler had a substantial positive impact on the KNN model's performance. This is because KNN is a distance-based algorithm, and feature scaling ensures that all features contribute equally to the distance calculations, preventing features with larger scales from dominating the decision-making process.\n",
            "Hyperparameter Tuning: While GridSearchCV found optimal parameters (K=1, Manhattan), the improvement in accuracy compared to the scaled model with the default K=5 was negligible in this specific case. This suggests that after scaling, the model was already performing very well, and further tuning provided minimal additional gain. However, in other datasets or with different base model performance, hyperparameter tuning could yield more significant improvements.\n"
          ]
        }
      ]
    },
    {
      "cell_type": "markdown",
      "metadata": {
        "id": "aede69e7"
      },
      "source": [
        "## Summary:\n",
        "\n",
        "### Data Analysis Key Findings\n",
        "\n",
        "*   Applying `StandardScaler` significantly improved the KNN model's performance on the Wine dataset, increasing accuracy from approximately 74.07% (without scaling) to 96.30% (with scaling, K=5).\n",
        "*   Hyperparameter tuning using `GridSearchCV` on the scaled data identified the best parameters as K=1 and the Manhattan distance metric.\n",
        "*   The best model found by `GridSearchCV` (K=1, Manhattan, scaled data) achieved an accuracy of 96.30%, which was the same as the scaled model using the default K=5.\n",
        "\n",
        "### Insights or Next Steps\n",
        "\n",
        "*   Feature scaling is essential for distance-based algorithms like KNN, as it prevents features with larger scales from disproportionately influencing distance calculations.\n",
        "*   While hyperparameter tuning is generally recommended, its impact on performance can be minimal if the base model (after necessary preprocessing like scaling) is already performing near optimally for the given dataset.\n"
      ]
    },
    {
      "cell_type": "markdown",
      "source": [
        "# Question 8 : PCA + KNN with Variance Analysis and Visualization\n",
        " Task:\n",
        "1. Load the Breast Cancer dataset (sklearn.datasets.load_breast_cancer()).\n",
        "2. Apply PCA and plot the scree plot (explained variance ratio).\n",
        "3. Retain 95% variance and transform the dataset.\n",
        "4. Train KNN on the original data and PCA-transformed data, then compare\n",
        "accuracy.\n",
        "5. Visualize the first two principal components using a scatter plot (color by class)."
      ],
      "metadata": {
        "id": "qNFt9UZs1EE8"
      }
    },
    {
      "cell_type": "markdown",
      "metadata": {
        "id": "1686af00"
      },
      "source": [
        "# Task\n",
        "Analyze the Breast Cancer dataset using PCA and KNN. Load the dataset, apply PCA, plot the scree plot, retain 95% variance, transform the data, train KNN on both original and PCA-transformed data, compare accuracies, and visualize the first two principal components."
      ]
    },
    {
      "cell_type": "markdown",
      "metadata": {
        "id": "a0ce0e38"
      },
      "source": [
        "## Load the dataset\n",
        "\n",
        "### Subtask:\n",
        "Load the Breast Cancer dataset from `sklearn.datasets`.\n"
      ]
    },
    {
      "cell_type": "markdown",
      "metadata": {
        "id": "68253235"
      },
      "source": [
        "**Reasoning**:\n",
        "Load the Breast Cancer dataset from `sklearn.datasets`.\n",
        "\n"
      ]
    },
    {
      "cell_type": "code",
      "metadata": {
        "id": "fefb92ae"
      },
      "source": [
        "from sklearn.datasets import load_breast_cancer\n",
        "\n",
        "breast_cancer = load_breast_cancer()"
      ],
      "execution_count": 9,
      "outputs": []
    },
    {
      "cell_type": "markdown",
      "metadata": {
        "id": "07aa8e68"
      },
      "source": [
        "## Apply pca and plot scree plot\n",
        "\n",
        "### Subtask:\n",
        "Apply PCA to the data and plot the explained variance ratio to visualize the variance captured by each principal component (scree plot).\n"
      ]
    },
    {
      "cell_type": "markdown",
      "metadata": {
        "id": "b6efd3ed"
      },
      "source": [
        "**Reasoning**:\n",
        "Apply PCA to the data and plot the explained variance ratio to visualize the variance captured by each principal component.\n",
        "\n"
      ]
    },
    {
      "cell_type": "code",
      "metadata": {
        "colab": {
          "base_uri": "https://localhost:8080/",
          "height": 607
        },
        "id": "ae7b345b",
        "outputId": "95c25972-60d9-4fc8-bcad-0fa811a77fb8"
      },
      "source": [
        "from sklearn.decomposition import PCA\n",
        "import matplotlib.pyplot as plt\n",
        "\n",
        "# Instantiate PCA without specifying n_components\n",
        "pca = PCA()\n",
        "\n",
        "# Fit PCA to the breast cancer data\n",
        "pca.fit(breast_cancer.data)\n",
        "\n",
        "# Calculate cumulative explained variance ratio\n",
        "cumulative_explained_variance = pca.explained_variance_ratio_.cumsum()\n",
        "\n",
        "# Create scree plot\n",
        "plt.figure(figsize=(10, 6))\n",
        "plt.bar(range(1, len(pca.explained_variance_ratio_) + 1), pca.explained_variance_ratio_, alpha=0.5, align='center', label='Individual explained variance')\n",
        "plt.step(range(1, len(cumulative_explained_variance) + 1), cumulative_explained_variance, where='mid', label='Cumulative explained variance')\n",
        "plt.ylabel('Explained variance ratio')\n",
        "plt.xlabel('Principal component index')\n",
        "plt.title('Scree Plot (Explained Variance Ratio)')\n",
        "plt.legend(loc='best')\n",
        "plt.tight_layout()\n",
        "plt.show()"
      ],
      "execution_count": 10,
      "outputs": [
        {
          "output_type": "display_data",
          "data": {
            "text/plain": [
              "<Figure size 1000x600 with 1 Axes>"
            ],
            "image/png": "[encoded data removed]"
          },
          "metadata": {}
        }
      ]
    },
    {
      "cell_type": "markdown",
      "metadata": {
        "id": "c421e2b1"
      },
      "source": [
        "**Reasoning**:\n",
        "The scree plot has been generated, visualizing the explained variance. The next step is to determine the number of components to retain 95% variance and then transform the dataset using this number of components.\n",
        "\n"
      ]
    },
    {
      "cell_type": "code",
      "metadata": {
        "colab": {
          "base_uri": "https://localhost:8080/"
        },
        "id": "545ccca2",
        "outputId": "7244a3bf-6a85-4751-f723-22d538ebe909"
      },
      "source": [
        "# Find the number of components to retain 95% variance\n",
        "n_components_95 = (cumulative_explained_variance >= 0.95).argmax() + 1\n",
        "print(f\"Number of components to retain 95% variance: {n_components_95}\")\n",
        "\n",
        "# Apply PCA with the determined number of components\n",
        "pca_95 = PCA(n_components=n_components_95)\n",
        "X_pca = pca_95.fit_transform(breast_cancer.data)\n",
        "\n",
        "print(f\"Original data shape: {breast_cancer.data.shape}\")\n",
        "print(f\"PCA-transformed data shape: {X_pca.shape}\")"
      ],
      "execution_count": 11,
      "outputs": [
        {
          "output_type": "stream",
          "name": "stdout",
          "text": [
            "Number of components to retain 95% variance: 1\n",
            "Original data shape: (569, 30)\n",
            "PCA-transformed data shape: (569, 1)\n"
          ]
        }
      ]
    },
    {
      "cell_type": "markdown",
      "metadata": {
        "id": "5be572cd"
      },
      "source": [
        "**Reasoning**:\n",
        "The data has been loaded, PCA has been applied, and the data has been transformed to retain 95% variance. The next step is to split both the original and PCA-transformed data into training and testing sets.\n",
        "\n"
      ]
    },
    {
      "cell_type": "code",
      "metadata": {
        "colab": {
          "base_uri": "https://localhost:8080/"
        },
        "id": "993d0e01",
        "outputId": "c1058837-8338-49f0-b261-7c693f52dee7"
      },
      "source": [
        "from sklearn.model_selection import train_test_split\n",
        "\n",
        "# Split original data\n",
        "X_train_orig, X_test_orig, y_train_orig, y_test_orig = train_test_split(\n",
        "    breast_cancer.data, breast_cancer.target, test_size=0.3, random_state=42\n",
        ")\n",
        "\n",
        "# Split PCA-transformed data\n",
        "X_train_pca, X_test_pca, y_train_pca, y_test_pca = train_test_split(\n",
        "    X_pca, breast_cancer.target, test_size=0.3, random_state=42\n",
        ")\n",
        "\n",
        "print(\"Original data split shapes:\")\n",
        "print(f\"  X_train_orig: {X_train_orig.shape}\")\n",
        "print(f\"  X_test_orig: {X_test_orig.shape}\")\n",
        "print(f\"  y_train_orig: {y_train_orig.shape}\")\n",
        "print(f\"  y_test_orig: {y_test_orig.shape}\")\n",
        "\n",
        "print(\"\\nPCA-transformed data split shapes:\")\n",
        "print(f\"  X_train_pca: {X_train_pca.shape}\")\n",
        "print(f\"  X_test_pca: {X_test_pca.shape}\")\n",
        "print(f\"  y_train_pca: {y_train_pca.shape}\")\n",
        "print(f\"  y_test_pca: {y_test_pca.shape}\")"
      ],
      "execution_count": 12,
      "outputs": [
        {
          "output_type": "stream",
          "name": "stdout",
          "text": [
            "Original data split shapes:\n",
            "  X_train_orig: (398, 30)\n",
            "  X_test_orig: (171, 30)\n",
            "  y_train_orig: (398,)\n",
            "  y_test_orig: (171,)\n",
            "\n",
            "PCA-transformed data split shapes:\n",
            "  X_train_pca: (398, 1)\n",
            "  X_test_pca: (171, 1)\n",
            "  y_train_pca: (398,)\n",
            "  y_test_pca: (171,)\n"
          ]
        }
      ]
    },
    {
      "cell_type": "markdown",
      "metadata": {
        "id": "60de30db"
      },
      "source": [
        "**Reasoning**:\n",
        "Split the data into training and testing sets for both the original and PCA-transformed data.\n",
        "\n"
      ]
    },
    {
      "cell_type": "code",
      "metadata": {
        "colab": {
          "base_uri": "https://localhost:8080/"
        },
        "id": "92afbefe",
        "outputId": "45ba68e1-aec5-4593-91ce-09a2cc0cd98f"
      },
      "source": [
        "from sklearn.neighbors import KNeighborsClassifier\n",
        "from sklearn.metrics import accuracy_score\n",
        "\n",
        "# Train KNN on original data\n",
        "knn_orig = KNeighborsClassifier(n_neighbors=5)  # Using default K=5\n",
        "knn_orig.fit(X_train_orig, y_train_orig)\n",
        "y_pred_orig = knn_orig.predict(X_test_orig)\n",
        "accuracy_orig = accuracy_score(y_test_orig, y_pred_orig)\n",
        "print(f\"Accuracy on original data: {accuracy_orig:.4f}\")\n",
        "\n",
        "# Train KNN on PCA-transformed data\n",
        "knn_pca = KNeighborsClassifier(n_neighbors=5) # Using default K=5\n",
        "knn_pca.fit(X_train_pca, y_train_pca)\n",
        "y_pred_pca = knn_pca.predict(X_test_pca)\n",
        "accuracy_pca = accuracy_score(y_test_pca, y_pred_pca)\n",
        "print(f\"Accuracy on PCA-transformed data: {accuracy_pca:.4f}\")"
      ],
      "execution_count": 13,
      "outputs": [
        {
          "output_type": "stream",
          "name": "stdout",
          "text": [
            "Accuracy on original data: 0.9591\n",
            "Accuracy on PCA-transformed data: 0.9532\n"
          ]
        }
      ]
    },
    {
      "cell_type": "markdown",
      "metadata": {
        "id": "46f9a90f"
      },
      "source": [
        "**Reasoning**:\n",
        "Train KNN on the original data and PCA-transformed data, then compare accuracy.\n",
        "\n"
      ]
    },
    {
      "cell_type": "code",
      "metadata": {
        "colab": {
          "base_uri": "https://localhost:8080/"
        },
        "id": "2da2ca8a",
        "outputId": "b8be8afd-848d-4a80-826e-a9fab052945d"
      },
      "source": [
        "# Visualize the first two principal components\n",
        "if X_pca.shape[1] >= 2:\n",
        "    plt.figure(figsize=(8, 6))\n",
        "    scatter = plt.scatter(X_pca[:, 0], X_pca[:, 1], c=breast_cancer.target, cmap='viridis', s=50, alpha=0.7)\n",
        "    plt.xlabel('Principal Component 1')\n",
        "    plt.ylabel('Principal Component 2')\n",
        "    plt.title('Breast Cancer Dataset - First Two Principal Components')\n",
        "    legend = plt.legend(*scatter.legend_elements(), title=\"Classes\")\n",
        "    plt.grid(True)\n",
        "    plt.show()\n",
        "else:\n",
        "    print(\"Cannot visualize the first two components as only 1 component was retained.\")"
      ],
      "execution_count": 14,
      "outputs": [
        {
          "output_type": "stream",
          "name": "stdout",
          "text": [
            "Cannot visualize the first two components as only 1 component was retained.\n"
          ]
        }
      ]
    },
    {
      "cell_type": "markdown",
      "metadata": {
        "id": "d53c57db"
      },
      "source": [
        "## Visualize first two principal components\n",
        "\n",
        "### Subtask:\n",
        "Visualize the first two principal components using a scatter plot (color by class).\n"
      ]
    },
    {
      "cell_type": "markdown",
      "metadata": {
        "id": "add9122f"
      },
      "source": [
        "**Reasoning**:\n",
        "Visualize the first two principal components using a scatter plot, coloring the points by class, if there are at least two principal components available.\n",
        "\n"
      ]
    },
    {
      "cell_type": "code",
      "metadata": {
        "colab": {
          "base_uri": "https://localhost:8080/"
        },
        "id": "383a4986",
        "outputId": "814a2e49-b95f-48b1-fa5a-eb4a11c513c3"
      },
      "source": [
        "import matplotlib.pyplot as plt\n",
        "\n",
        "# Visualize the first two principal components\n",
        "if X_pca.shape[1] >= 2:\n",
        "    plt.figure(figsize=(8, 6))\n",
        "    scatter = plt.scatter(X_pca[:, 0], X_pca[:, 1], c=breast_cancer.target, cmap='viridis', s=50, alpha=0.7)\n",
        "    plt.xlabel('Principal Component 1')\n",
        "    plt.ylabel('Principal Component 2')\n",
        "    plt.title('Breast Cancer Dataset - First Two Principal Components')\n",
        "    legend = plt.legend(*scatter.legend_elements(), title=\"Classes\")\n",
        "    plt.grid(True)\n",
        "    plt.show()\n",
        "else:\n",
        "    print(\"Cannot visualize the first two components as fewer than 2 components were retained.\")"
      ],
      "execution_count": 15,
      "outputs": [
        {
          "output_type": "stream",
          "name": "stdout",
          "text": [
            "Cannot visualize the first two components as fewer than 2 components were retained.\n"
          ]
        }
      ]
    },
    {
      "cell_type": "markdown",
      "metadata": {
        "id": "81252d39"
      },
      "source": [
        "## Summary:\n",
        "\n",
        "### Data Analysis Key Findings\n",
        "\n",
        "*   Applying PCA revealed that the first principal component captures a significant portion of the variance, with the cumulative explained variance reaching 95% with just one component.\n",
        "*   Retaining 95% of the variance reduced the dimensionality of the dataset from 30 features to 1 principal component.\n",
        "*   The KNN classifier trained on the original 30 features achieved an accuracy of approximately 0.9591 on the test set.\n",
        "*   The KNN classifier trained on the single PCA-transformed feature achieved a slightly lower accuracy of approximately 0.9532 on the test set.\n",
        "*   Visualization of the first two principal components was not possible because only one component was retained to meet the 95% variance threshold.\n",
        "\n",
        "### Insights or Next Steps\n",
        "\n",
        "*   While PCA significantly reduced dimensionality, the slight decrease in KNN accuracy suggests that some discriminatory information might be contained in the lower variance components.\n",
        "*   Further analysis could involve exploring the trade-off between dimensionality reduction and model performance by retaining a few more components or trying different classification algorithms.\n"
      ]
    },
    {
      "cell_type": "markdown",
      "source": [
        "# Question 9:KNN Regressor with Distance Metrics and K-Value Analysis\n",
        "Task:\n",
        "1. Generate a synthetic regression dataset\n",
        "(sklearn.datasets.make_regression(n_samples=500, n_features=10)).\n",
        "2. Train a KNN regressor with:\n",
        "a. Euclidean distance (K=5)\n",
        "b. Manhattan distance (K=5)\n",
        "c. Compare Mean Squared Error (MSE) for both.\n",
        "3. Test K=1, 5, 10, 20, 50 and plot K vs. MSE to analyze bias-variance tradeoff."
      ],
      "metadata": {
        "id": "k4t6ZCMb2eR9"
      }
    },
    {
      "cell_type": "markdown",
      "metadata": {
        "id": "cf8515f0"
      },
      "source": [
        "# Task\n",
        "Generate a synthetic regression dataset, split it into training and testing sets, train KNN regressors with Euclidean and Manhattan distances (K=5), compare their MSE, train KNN regressors with different K values (1, 5, 10, 20, 50), calculate their MSE, and plot K vs. MSE to analyze the bias-variance tradeoff."
      ]
    },
    {
      "cell_type": "markdown",
      "metadata": {
        "id": "0a9ebe56"
      },
      "source": [
        "## Generate a synthetic regression dataset\n",
        "\n",
        "### Subtask:\n",
        "Generate a synthetic regression dataset using `sklearn.datasets.make_regression`.\n"
      ]
    },
    {
      "cell_type": "markdown",
      "metadata": {
        "id": "9ee91d09"
      },
      "source": [
        "**Reasoning**:\n",
        "Generate a synthetic regression dataset with the specified parameters.\n",
        "\n"
      ]
    },
    {
      "cell_type": "code",
      "metadata": {
        "colab": {
          "base_uri": "https://localhost:8080/"
        },
        "id": "2921a394",
        "outputId": "47131d44-0894-46ab-ef83-a7e4c0e6348d"
      },
      "source": [
        "from sklearn.datasets import make_regression\n",
        "\n",
        "# Generate synthetic regression dataset\n",
        "X, y = make_regression(n_samples=500, n_features=10, random_state=42)\n",
        "\n",
        "# Print the shapes of X and y\n",
        "print(f\"Shape of X: {X.shape}\")\n",
        "print(f\"Shape of y: {y.shape}\")"
      ],
      "execution_count": 16,
      "outputs": [
        {
          "output_type": "stream",
          "name": "stdout",
          "text": [
            "Shape of X: (500, 10)\n",
            "Shape of y: (500,)\n"
          ]
        }
      ]
    },
    {
      "cell_type": "markdown",
      "metadata": {
        "id": "7e6ec410"
      },
      "source": [
        "**Reasoning**:\n",
        "The subtask of generating the synthetic dataset is complete. The next logical step according to the overall task is to split the data.\n",
        "\n"
      ]
    },
    {
      "cell_type": "code",
      "metadata": {
        "colab": {
          "base_uri": "https://localhost:8080/"
        },
        "id": "55c38ba2",
        "outputId": "083d186b-e890-4065-dd25-ff99669739eb"
      },
      "source": [
        "from sklearn.model_selection import train_test_split\n",
        "\n",
        "# Split the data into training and testing sets (70% train, 30% test)\n",
        "X_train, X_test, y_train, y_test = train_test_split(X, y, test_size=0.3, random_state=42)\n",
        "\n",
        "# Print the shapes of the split data\n",
        "print(f\"Shape of X_train: {X_train.shape}\")\n",
        "print(f\"Shape of X_test: {X_test.shape}\")\n",
        "print(f\"Shape of y_train: {y_train.shape}\")\n",
        "print(f\"Shape of y_test: {y_test.shape}\")"
      ],
      "execution_count": 17,
      "outputs": [
        {
          "output_type": "stream",
          "name": "stdout",
          "text": [
            "Shape of X_train: (350, 10)\n",
            "Shape of X_test: (150, 10)\n",
            "Shape of y_train: (350,)\n",
            "Shape of y_test: (150,)\n"
          ]
        }
      ]
    },
    {
      "cell_type": "markdown",
      "metadata": {
        "id": "90c8bb97"
      },
      "source": [
        "**Reasoning**:\n",
        "The data has been generated and split. The next step is to train KNN regressors with different distance metrics (Euclidean and Manhattan) using K=5 and compare their Mean Squared Error.\n",
        "\n"
      ]
    },
    {
      "cell_type": "code",
      "metadata": {
        "colab": {
          "base_uri": "https://localhost:8080/"
        },
        "id": "0cfaf184",
        "outputId": "cbc72fb4-784c-42f4-e624-6b9cd4f95f5f"
      },
      "source": [
        "from sklearn.neighbors import KNeighborsRegressor\n",
        "from sklearn.metrics import mean_squared_error\n",
        "\n",
        "# Train KNN regressor with Euclidean distance (K=5)\n",
        "knn_euclidean = KNeighborsRegressor(n_neighbors=5, metric='euclidean')\n",
        "knn_euclidean.fit(X_train, y_train)\n",
        "y_pred_euclidean = knn_euclidean.predict(X_test)\n",
        "mse_euclidean = mean_squared_error(y_test, y_pred_euclidean)\n",
        "print(f\"Mean Squared Error (Euclidean distance, K=5): {mse_euclidean:.4f}\")\n",
        "\n",
        "# Train KNN regressor with Manhattan distance (K=5)\n",
        "knn_manhattan = KNeighborsRegressor(n_neighbors=5, metric='manhattan')\n",
        "knn_manhattan.fit(X_train, y_train)\n",
        "y_pred_manhattan = knn_manhattan.predict(X_test)\n",
        "mse_manhattan = mean_squared_error(y_test, y_pred_manhattan)\n",
        "print(f\"Mean Squared Error (Manhattan distance, K=5): {mse_manhattan:.4f}\")"
      ],
      "execution_count": 18,
      "outputs": [
        {
          "output_type": "stream",
          "name": "stdout",
          "text": [
            "Mean Squared Error (Euclidean distance, K=5): 5515.4576\n",
            "Mean Squared Error (Manhattan distance, K=5): 6475.5664\n"
          ]
        }
      ]
    },
    {
      "cell_type": "markdown",
      "metadata": {
        "id": "70e74675"
      },
      "source": [
        "**Reasoning**:\n",
        "Train KNN regressors with different K values (1, 5, 10, 20, 50), calculate their MSE, and store the results for plotting.\n",
        "\n"
      ]
    },
    {
      "cell_type": "code",
      "metadata": {
        "colab": {
          "base_uri": "https://localhost:8080/"
        },
        "id": "6dda3fd9",
        "outputId": "4f390dfd-5bcf-4cea-f06c-7f7702ff8199"
      },
      "source": [
        "k_values = [1, 5, 10, 20, 50]\n",
        "mse_values = []\n",
        "\n",
        "for k in k_values:\n",
        "    knn = KNeighborsRegressor(n_neighbors=k)\n",
        "    knn.fit(X_train, y_train)\n",
        "    y_pred = knn.predict(X_test)\n",
        "    mse = mean_squared_error(y_test, y_pred)\n",
        "    mse_values.append(mse)\n",
        "    print(f\"Mean Squared Error (K={k}): {mse:.4f}\")"
      ],
      "execution_count": 19,
      "outputs": [
        {
          "output_type": "stream",
          "name": "stdout",
          "text": [
            "Mean Squared Error (K=1): 8141.8436\n",
            "Mean Squared Error (K=5): 5515.4576\n",
            "Mean Squared Error (K=10): 5899.3009\n",
            "Mean Squared Error (K=20): 6459.2398\n",
            "Mean Squared Error (K=50): 8211.7716\n"
          ]
        }
      ]
    },
    {
      "cell_type": "markdown",
      "metadata": {
        "id": "460f3d1a"
      },
      "source": [
        "**Reasoning**:\n",
        "Plot the K values against the corresponding MSE values to visualize the bias-variance tradeoff.\n",
        "\n"
      ]
    },
    {
      "cell_type": "code",
      "metadata": {
        "colab": {
          "base_uri": "https://localhost:8080/",
          "height": 564
        },
        "id": "1ceb49a8",
        "outputId": "5624229d-144f-4a82-ce30-4a9acf7e71e1"
      },
      "source": [
        "import matplotlib.pyplot as plt\n",
        "\n",
        "# Plot K vs. MSE\n",
        "plt.figure(figsize=(10, 6))\n",
        "plt.plot(k_values, mse_values, marker='o', linestyle='-')\n",
        "plt.xlabel('Number of Neighbors (K)')\n",
        "plt.ylabel('Mean Squared Error (MSE)')\n",
        "plt.title('KNN Regressor: K vs. MSE (Bias-Variance Tradeoff)')\n",
        "plt.xticks(k_values)\n",
        "plt.grid(True)\n",
        "plt.show()"
      ],
      "execution_count": 20,
      "outputs": [
        {
          "output_type": "display_data",
          "data": {
            "text/plain": [
              "<Figure size 1000x600 with 1 Axes>"
            ],
            "image/png": "[encoded data removed]"
          },
          "metadata": {}
        }
      ]
    },
    {
      "cell_type": "markdown",
      "metadata": {
        "id": "e241b8a4"
      },
      "source": [
        "## Summary:\n",
        "\n",
        "### Data Analysis Key Findings\n",
        "\n",
        "*   A synthetic regression dataset containing 500 samples and 10 features was generated and split into training (350 samples) and testing (150 samples) sets.\n",
        "*   When using K=5, the KNN regressor with Euclidean distance (\\~5515.46) achieved a lower Mean Squared Error (MSE) on the test set compared to the KNN regressor with Manhattan distance (\\~6475.57).\n",
        "*   Evaluating KNN regressors with different K values showed that K=5 yielded the lowest MSE (\\~5515.46) among the tested values (1, 5, 10, 20, 50). The MSE generally increased for K values smaller and larger than 5, demonstrating the bias-variance tradeoff.\n",
        "\n",
        "### Insights or Next Steps\n",
        "\n",
        "*   For this specific synthetic dataset, Euclidean distance and K=5 appear to be optimal parameters for the KNN regressor in terms of minimizing MSE.\n",
        "*   Further steps could involve exploring a wider range of K values, using cross-validation for more robust parameter tuning, or investigating other regression models.\n"
      ]
    }
  ]
}