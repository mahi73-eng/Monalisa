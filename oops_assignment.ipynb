{
  "nbformat": 4,
  "nbformat_minor": 0,
  "metadata": {
    "colab": {
      "provenance": []
    },
    "kernelspec": {
      "name": "python3",
      "display_name": "Python 3"
    },
    "language_info": {
      "name": "python"
    }
  },
  "cells": [
    {
      "cell_type": "markdown",
      "source": [
        "**1. What is Object-Oriented Programming (OOPS)?**\n",
        "\n",
        "Object-Oriented Programming or OOPs refers to languages that use objects in programming. Object-oriented programming aims to implement real-world entities like inheritance, hiding, polymorphism, etc in programming. The main aim of OOP is to bind together the data and the functions that operate on them so that no other part of the code can access this data except that function.\n",
        "\n",
        "Key Concepts in OOP:\n",
        "\n",
        "Classes:\n",
        "Blueprints or templates for creating objects, defining their properties (data) and behaviors (functions).\n",
        "\n",
        "Objects:\n",
        "Instances of classes, representing specific entities in the system.\n",
        "\n",
        "Inheritance:\n",
        "Allows a class to inherit properties and behaviors from another class, promoting code reuse and creating a hierarchical relationship between classes.\n",
        "\n",
        "Encapsulation:\n",
        "Bundling data (attributes) and methods (functions) that operate on the data within a class, hiding internal details and protecting data from external access.\n",
        "\n",
        "Polymorphism:\n",
        "The ability of objects of different classes to respond to the same method call in their own way, providing flexibility and adaptability.\n",
        "\n",
        "Abstraction:\n",
        "Hiding complex implementation details and exposing only essential information to the user, simplifying interaction with objects."
      ],
      "metadata": {
        "id": "4Cd8eyEtDxKo"
      }
    },
    {
      "cell_type": "markdown",
      "source": [
        "**2. What is a class in OOPS?**\n",
        "\n",
        "In Object-Oriented Programming (OOP), a class serves as a blueprint or template for creating objects. It defines the common structure and behavior that all objects of that class will possess.\n",
        "\n",
        "User-Defined Data Type:\n",
        "A class is essentially a user-defined data type that groups together related data (attributes) and functions (methods) that operate on that data.\n",
        "\n",
        "Attributes (Data Members):\n",
        "These are variables that store the state or characteristics of an object. For example, in a Car class, attributes might include color, make, and model.\n",
        "\n",
        "Methods (Member Functions):\n",
        "These are functions defined within the class that represent the behaviors or actions an object of that class can perform. For instance, a Car class might have methods like start(), accelerate(), or brake().\n",
        "\n",
        "Logical Structure:\n",
        "A class is a logical construct that defines the properties and behaviors, but it does not occupy memory until an object (an instance of the class) is created from it."
      ],
      "metadata": {
        "id": "ct3lYp3rEV-8"
      }
    },
    {
      "cell_type": "markdown",
      "source": [
        "**3.What is an object in OOP?**\n",
        "\n",
        "In Object-Oriented Programming (OOP), an object is a fundamental building block that represents a real-world entity or concept within a program. It is an instance of a class, which acts as a blueprint or template defining the structure and behavior of objects of that type.\n",
        "\n",
        "Example:\n",
        "Consider a Car class. This class defines general attributes like color, make, model, and methods like start(), accelerate(), brake().\n",
        "An object of the Car class would be a specific car, such as:\n",
        "Code\n",
        "\n",
        "myCar = new Car(\"blue\", \"Toyota\", \"Camry\");"
      ],
      "metadata": {
        "id": "ergFtrTrFgIZ"
      }
    },
    {
      "cell_type": "markdown",
      "source": [
        "**4.What is the difference between abstraction and encapsulation?**\n",
        "Abstraction and encapsulation are both key concepts in object-oriented programming, but they address different aspects of hiding complexity. Abstraction focuses on exposing only the essential features of an object to the user, hiding the complex implementation details. Encapsulation, on the other hand, focuses on bundling the data (attributes) and methods (functions) that operate on that data within a single unit (like a class) and restricting direct access to the internal state."
      ],
      "metadata": {
        "id": "CrZXBrk6GCzk"
      }
    },
    {
      "cell_type": "markdown",
      "source": [
        "**5.What are dunder methods in Python?**\n",
        "\n",
        "Dunder methods, also known as magic methods or special methods, in Python are special reserved methods that are surrounded by double underscores (e.g., __init__, __str__, __add__). These methods allow you to define how instances of your classes behave when they are used with built-in Python functions or operators.\n",
        "\n",
        "Dunder methods allow you to define how your custom objects behave with built-in operators like arithmetic operators (+, -, *), comparison operators (==, <, >), and others. For example, __add__ defines the behavior of the + operator for instances of your class."
      ],
      "metadata": {
        "id": "KUcDob_yGddp"
      }
    },
    {
      "cell_type": "markdown",
      "source": [
        "**6. Explain the concept of inheritance in OOP?**\n",
        "\n",
        "Inheritance in Object-Oriented Programming (OOP) is a fundamental concept that allows a new class to derive properties and behaviors from an existing class. This creates a hierarchical relationship where the new class, known as the subclass, derived class, or child class, inherits attributes (data members) and methods (functions) from the existing class, referred to as the superclass, base class, or parent class.\n",
        "\n",
        "The core idea of inheritance is to promote code reusability and establish an \"is-a\" relationship between classes. For example, a \"Dog\" is a \"Mammal,\" and a \"Mammal\" is an \"Animal.\" This hierarchy allows common functionalities to be defined once in a superclass and then inherited by multiple subclasses, reducing redundancy and improving code organization and maintainability."
      ],
      "metadata": {
        "id": "UB9Pov30HyVQ"
      }
    },
    {
      "cell_type": "markdown",
      "source": [
        "**7.What is polymorphism in OOP?**\n",
        "\n",
        "Polymorphism in object-oriented programming (OOP) refers to the ability of an object to take on many forms. It allows objects of different classes to be treated as objects of a common type, enabling flexibility and code reusability. Essentially, it means that a single function or method can behave differently based on the object it's acting upon.\n",
        "\n",
        "Imagine a Shape class and subclasses like Circle, Square, and Triangle. You can have a method called draw() that is defined in the Shape class and overridden in each subclass. When you call draw() on a Shape object, it will call the appropriate draw() method based on the actual type of the shape (e.g., the Circle's draw() method if it's a circle object).\n",
        "\n",
        "\n"
      ],
      "metadata": {
        "id": "X3V8sMFRIZQv"
      }
    },
    {
      "cell_type": "markdown",
      "source": [
        "**8.How is encapsulation achieved in Python?**\n",
        "\n",
        "Encapsulation is a Python technique for combining data and functions into a\n",
        "single object. A class, for instance, contains all the data (methods and variables). Encapsulation refers to the\n",
        "broad concealment of an object's internal representation from areas outside of its specification.\n",
        "Assume, for instance, that you combine methods that provide read or write access with an attribute that is\n",
        "hidden from view on the exterior of an object. Then, you may limit who has access to the object's internal\n",
        "state and hide particular pieces of information. Without giving the program complete access to all of a\n",
        "class's variables, encapsulation provides a mechanism for us to obtain the necessary variable. This method is\n",
        "used to shield an object's data from other objects.\n",
        "\n",
        "Access Modifier in python : A class's data members and methods can be made private or protected in\n",
        "order to achieve encapsulation. Direct access modifiers like public, private, and protected don't exist in Python,\n",
        "though. Single and double underscores can be used to accomplish this.\n",
        "Modifiers for access control restrict use of a class's variables and methods. Private, public, and protected\n",
        "are the three different access modifier types that Python offers."
      ],
      "metadata": {
        "id": "aVRZ3Z2sItoz"
      }
    },
    {
      "cell_type": "markdown",
      "source": [
        "**9. What is a constructor in Python?**\n",
        "\n",
        "In Python, a constructor is a special method used to initialize new objects of a class. When an object (an instance) of a class is created, the constructor is automatically invoked. Its primary purpose is to set up the initial state of the object by assigning values to its attributes or performing any necessary setup logic.\n",
        "\n",
        "In Python, the constructor method is always named __init__. It is a part of the class definition and takes at least one argument, self, which refers to the instance of the class being created."
      ],
      "metadata": {
        "id": "myRejVeoJW4p"
      }
    },
    {
      "cell_type": "markdown",
      "source": [
        "**10. What are class and static methods in Python?**\n",
        "\n",
        "Class methods are methods that are bound to the class and not the instance of the class. They can access or\n",
        "modify class state that applies across all instances of the class. Class methods are defined using the\n",
        "@classmethod decorator.\n",
        "\n",
        "Class methods are associated with the class rather than a specific instance. They operate on class-level data that applies to all instances of the class.\n",
        "Class methods can access and modify class variables, which are shared by all\n",
        "instances of the class. This makes them useful for tasks that involve manipulating shared data.Class methods are often used to create utility functions that perform operations related to the\n",
        "class but don't depend on specific instance data.\n",
        "\n",
        "\n",
        "Static methods are methods that belong to the class and don't access or modify class or instance state. They\n",
        "are defined using the @staticmethod decorator.static methods are used when you don't need access to class or instance state, and class\n",
        "methods are used when you need to access or modify class-level attributes."
      ],
      "metadata": {
        "id": "4XB8kVZ0JpCr"
      }
    },
    {
      "cell_type": "markdown",
      "source": [
        "**11.What is method overloading in Python?**\n",
        "\n",
        "Python does not support method overloading by default. If you define multiple methods with the same name, only the latest definition will be used."
      ],
      "metadata": {
        "id": "vKPy4DKlKhke"
      }
    },
    {
      "cell_type": "markdown",
      "source": [
        "**12. What is method overriding in OOP?**\n",
        "\n",
        "Method overriding : In Python, method overriding is the process of providing a different implementation for a method that is already defined in the superclass within a subclass. It enables the subclass to define its own version of a method with the same name and parameters as the method in the superclass. When a method is overridden, the subclass implements the method in its own way, which\n",
        "overrides the behaviour defined in the superclass. The subclass can then alter or expand the functionality of the inherited method.\n",
        "\n",
        "When a subclass object is used to call the overridden method during runtime, the subclass implementation is invoked rather than the superclass implementation."
      ],
      "metadata": {
        "id": "tPXBwaeiLhQx"
      }
    },
    {
      "cell_type": "markdown",
      "source": [
        "**13.What is a property decorator in Python?**\n",
        "\n",
        "A property decorator in Python, denoted by @property, is a built-in decorator that allows a method within a class to be accessed and managed as if it were an attribute. It provides a \"Pythonic\" way to implement getters, setters, and deleters for class attributes, encapsulating the logic associated with accessing, modifying, or deleting an attribute without directly exposing the underlying data.\n",
        "\n",
        "Key aspects of the @property decorator:\n",
        "\n",
        "Encapsulation:\n",
        "It promotes encapsulation by allowing you to control how an attribute is accessed and modified. Instead of directly exposing an attribute, you can define methods (getter, setter, deleter) that handle the interactions.\n",
        "\n",
        "Getter:\n",
        "The @property decorator itself marks a method as the \"getter\" for a property. When you access the property, this method is automatically called.\n",
        "\n",
        "Setter:\n",
        "You can define a \"setter\" method for the property using @<property_name>.setter. This method is invoked when you assign a value to the property. It's often used for validation or transformation of the assigned value.\n",
        "\n",
        "Deleter:\n",
        "Similarly, a \"deleter\" method can be defined using @<property_name>.deleter. This method is called when you use the del keyword on the property."
      ],
      "metadata": {
        "id": "o3W4dBR4MHEm"
      }
    },
    {
      "cell_type": "markdown",
      "source": [
        "**14.Why is polymorphism important in OOP?**\n",
        "\n",
        "Polymorphism is crucial in object-oriented programming (OOP) because it enables code flexibility, reusability, and maintainability by allowing objects of different types to be treated as objects of a common type. This means you can write code that works with a general interface, without needing to know the specific type of object it's interacting with, leading to more adaptable and efficient software.\n",
        "\n",
        "Code Reusability and Reduced Redundancy:\n",
        "Polymorphism allows you to write a single method that can be used with multiple object types, reducing the need to write separate methods for each type.\n",
        "For example, a \"draw\" method could be implemented differently for a circle, square, or triangle, but you can still call draw() on any of them through a generic shape interface.\n",
        "\n",
        "Flexibility and Extensibility:\n",
        "You can easily add new classes (like a new shape) without modifying existing code that uses the common interface, making your code more adaptable to changes.\n",
        "This means you can extend your program without breaking existing functionality.\n",
        "\n",
        "Abstraction:\n",
        "Polymorphism promotes abstraction by hiding the specific implementation details of each object behind a common interface.\n",
        "You can interact with objects based on what they can do (their methods) rather than how they do it."
      ],
      "metadata": {
        "id": "uxESjGsVM6d_"
      }
    },
    {
      "cell_type": "markdown",
      "source": [
        "**15.What is an abstract class in Python?**\n",
        "\n",
        "An abstract class in Python is a class that cannot be instantiated directly and serves as a blueprint for other classes. It is used to define a common interface for its subclasses, ensuring that they implement specific methods.\n",
        "\n",
        "Cannot be instantiated:\n",
        "You cannot create an object directly from an abstract class. It exists solely to be inherited by other classes.\n",
        "\n",
        "Defines a common interface:\n",
        "It establishes a set of methods that its subclasses must implement. These are known as abstract methods.\n",
        "\n",
        "Uses the abc module:\n",
        "Python achieves abstract classes through the abc (Abstract Base Classes) module, by inheriting from ABC and using the @abstractmethod decorator for abstract methods."
      ],
      "metadata": {
        "id": "ZTdG_1RnNWJn"
      }
    },
    {
      "cell_type": "markdown",
      "source": [
        "**16.What are the advantages of OOP?**\n",
        "\n",
        "Modularity and Organization:\n",
        "OOP promotes modular design through encapsulation, where data and methods are bundled together within objects. This makes code easier to understand, debug, and maintain.\n",
        "\n",
        "Reusability:\n",
        "Inheritance allows for code reuse by creating new classes based on existing ones, reducing redundancy and development time.\n",
        "\n",
        "Flexibility and Extensibility:\n",
        "OOP's polymorphism allows objects to be treated in different ways based on their type, enabling flexible and adaptable code. New functionalities can be added easily through new classes or modifications to existing ones.\n",
        "\n",
        "Maintainability:\n",
        "OOP's modular structure and reusability features make it easier to update, modify, and maintain code, especially in large projects.\n",
        "\n",
        "Collaboration:\n",
        "OOP facilitates collaboration among developers, as different team members can work on separate objects or modules without interfering with each other's work.\n",
        "\n",
        "Data hiding and security:\n",
        "Encapsulation hides the internal workings of an object, protecting data from unwanted external access and modification, enhancing security."
      ],
      "metadata": {
        "id": "hs3HLGRBNwjj"
      }
    },
    {
      "cell_type": "markdown",
      "source": [
        "**17.What is the difference between a class variable and an instance variable?**\n",
        "\n",
        "The primary distinction between a class variable and an instance variable lies in their scope, storage, and how they are accessed.\n",
        "\n",
        "Class Variable:\n",
        "\n",
        "Scope and Sharing:\n",
        "A class variable is shared by all instances of a class. There is only one copy of a class variable, and any changes to it are reflected across all objects created from that class.\n",
        "\n",
        "Declaration:\n",
        "In languages like Java, they are declared using the static keyword. In Python, they are declared directly within the class definition but outside of any methods.\n",
        "\n",
        "Access:\n",
        "They are typically accessed using the class name itself (e.g., ClassName.variable_name).\n",
        "\n",
        "Instance Variable:\n",
        "\n",
        "Scope and Sharing:\n",
        "An instance variable is unique to each instance (object) of a class. Each object has its own independent copy of the instance variables.\n",
        "\n",
        "Declaration:\n",
        "In most object-oriented languages, they are declared within the class but are associated with specific instances, often initialized within the constructor (e.g., __init__ in Python).\n",
        "\n",
        "Access:\n",
        "They are accessed using an object reference (e.g., object_name.variable_name)."
      ],
      "metadata": {
        "id": "Xhk9wLoZODKE"
      }
    },
    {
      "cell_type": "markdown",
      "source": [
        "**18.What is multiple inheritance in Python?**\n",
        "\n",
        "Multiple inheritance in Python is a feature of object-oriented programming that allows a class to inherit attributes and methods from more than one parent (or base) class. This means a single child class can combine functionalities and characteristics from multiple distinct sources.\n",
        "\n",
        "    class ParentClass1:\n",
        "        # attributes and methods\n",
        "\n",
        "    class ParentClass2:\n",
        "        # attributes and methods\n",
        "\n",
        "    class ChildClass(ParentClass1, ParentClass2):\n",
        "        # attributes and methods of ChildClass, plus those inherited from ParentClass1 and ParentClass2"
      ],
      "metadata": {
        "id": "EKK3m-VeOtBj"
      }
    },
    {
      "cell_type": "markdown",
      "source": [
        "**19.Explain the purpose of ‘’__str__’ and ‘__repr__’ ‘ methods in Python**\n",
        "\n",
        "__repr__(self): This method is called when the repr() function is used on an instance of the class. It\n",
        "should return an unambiguous string representation of the object, which can be used to recreate the\n",
        "object.\n",
        "\n",
        "__str__(self): This method is called when the str() function is used on an instance of the class. It should\n",
        "return a string representation of the object."
      ],
      "metadata": {
        "id": "lD2B6kzoPaQL"
      }
    },
    {
      "cell_type": "markdown",
      "source": [
        "**20.What is the significance of the ‘super()’ function in Python?**\n",
        "\n",
        "The super() function in Python holds significant importance in the context of object-oriented programming, particularly concerning inheritance. Its primary significance lies in providing a mechanism to access methods and attributes of a parent or superclass from a child or subclass.\n",
        "\n",
        "super() allows a subclass to call methods defined in its parent class, including the __init__ constructor, without explicitly naming the parent class. This is crucial for initializing inherited attributes and reusing parent class logic."
      ],
      "metadata": {
        "id": "8Ojri0tEPwOK"
      }
    },
    {
      "cell_type": "markdown",
      "source": [
        "**21.What is the significance of the __del__ method in Python?**\n",
        "\n",
        "The __del__ method in Python serves as a destructor for a class. Its significance lies in providing a mechanism to perform cleanup actions when an object is about to be destroyed or garbage-collected.\n",
        "\n",
        "The primary use case for __del__ is to release or close external resources that an object might be holding. This includes:\n",
        "Closing open file handles.\n",
        "Disconnecting from network connections or databases.\n",
        "Releasing locks or other system resources."
      ],
      "metadata": {
        "id": "LpEmpNSEQG21"
      }
    },
    {
      "cell_type": "markdown",
      "source": [
        "**22.What is the difference between @staticmethod and @classmethod in Python?**\n",
        "\n",
        "The primary difference between @staticmethod and @classmethod in Python lies in their access to the class and its instances.\n",
        "\n",
        "@classmethod:\n",
        "Takes the class itself (cls) as its first implicit argument.\n",
        "Can access and modify class-level attributes and call other class methods.\n",
        "Commonly used for factory methods (creating instances in different ways) or methods that operate on class-level data.\n",
        "\n",
        "@staticmethod:\n",
        "Does not take any implicit first argument (neither self nor cls).\n",
        "Cannot access or modify class-level attributes or instance-level attributes directly.\n",
        "Behaves like a regular function that is logically grouped within a class, often used for utility functions that do not depend on the class or instance state.\n",
        "\n",
        "\n",
        "@classmethod: is bound to the class and has knowledge of the class state.\n",
        "\n",
        "@staticmethod: is independent of both the class and its instances, serving as a utility function within the class's namespace."
      ],
      "metadata": {
        "id": "VXFCLV0FQcu9"
      }
    },
    {
      "cell_type": "markdown",
      "source": [
        "**23.How does polymorphism work in Python with inheritance?**\n",
        "\n",
        "Polymorphism in Python, when combined with inheritance, primarily manifests through method overriding. This allows subclasses to provide their own specific implementations of methods that are already defined in their parent (superclass).\n",
        "\n",
        "Here's how it works:\n",
        "\n",
        "Inheritance establishes the relationship:\n",
        "A subclass inherits methods and attributes from its superclass. This means the subclass initially has access to the superclass's methods.\n",
        "\n",
        "Method Overriding:\n",
        "If a subclass needs to behave differently for a particular method inherited from its superclass, it can redefine that method with the same name. This is known as method overriding. When an instance of the subclass calls that method, the subclass's version will be executed instead of the superclass's version.\n",
        "\n",
        "Dynamic Binding (Runtime Polymorphism):\n",
        "Python determines which method to call at runtime based on the actual type of the object, not the type of the variable referencing it. This means you can have a collection of objects of different but related types (e.g., a list containing instances of a superclass and its subclasses), and when you call a common method on each object in the collection, the appropriate overridden method for each object's specific type will be executed.\n",
        "\n"
      ],
      "metadata": {
        "id": "9q_BqGHnQyO2"
      }
    },
    {
      "cell_type": "markdown",
      "source": [
        "**24.What is method chaining in Python OOP?**\n",
        "\n",
        "Method chaining in Python Object-Oriented Programming (OOP) is a technique that allows for the sequential invocation of multiple methods on the same object within a single line of code. This is achieved by having each method in the chain return the object itself (typically self) after performing its operation.\n",
        "\n"
      ],
      "metadata": {
        "id": "TkkOnnJ_RLRX"
      }
    },
    {
      "cell_type": "markdown",
      "source": [
        "**25. What is the purpose of the __call__ method in Python?**\n",
        "\n",
        "The __call__ method in Python allows instances of a class to be invoked or called as if they were regular functions. When this method is defined within a class, calling an object of that class (e.g., my_object()) automatically triggers the execution of the __call__ method."
      ],
      "metadata": {
        "id": "-H7ZrmOyRlxz"
      }
    },
    {
      "cell_type": "code",
      "source": [
        "'''1. Create a parent class Animal with a method speak() that prints a generic message. Create a child class Dog\n",
        "that overrides the speak() method to print \"Bark!\".'''\n",
        "\n",
        "class Animal:\n",
        "    def speak(self):\n",
        "        print(\" Animal sound is:\")\n",
        "\n",
        "class Dog(Animal):\n",
        "    def speak(self):\n",
        "        print(\"Bark!\")\n",
        "\n",
        "\n",
        "a_obj = Animal()\n",
        "d_obj = Dog()\n",
        "\n",
        "a_obj.speak()\n",
        "d_obj.speak()\n"
      ],
      "metadata": {
        "colab": {
          "base_uri": "https://localhost:8080/"
        },
        "id": "4NGD9PsmR8JR",
        "outputId": "e3029ed1-d87e-46f3-860b-8e29a48f0ec5"
      },
      "execution_count": 2,
      "outputs": [
        {
          "output_type": "stream",
          "name": "stdout",
          "text": [
            " Animal sound is:\n",
            "Bark!\n"
          ]
        }
      ]
    },
    {
      "cell_type": "code",
      "source": [
        "''' 2. Write a program to create an abstract class Shape with a method area(). Derive classes Circle and Rectangle\n",
        " from it and implement the area() method in both.'''\n",
        "\n",
        "from abc import ABC, abstractmethod\n",
        "import math\n",
        "\n",
        "class Shape(ABC):\n",
        "    @abstractmethod\n",
        "    def area(self):\n",
        "        pass\n",
        "\n",
        "class Circle(Shape):\n",
        "    def __init__(self, radius):\n",
        "        self.radius = radius\n",
        "\n",
        "    def area(self):\n",
        "        return math.pi * self.radius**2\n",
        "\n",
        "class Rectangle(Shape):\n",
        "    def __init__(self, width, height):\n",
        "        self.width = width\n",
        "        self.height = height\n",
        "\n",
        "    def area(self):\n",
        "        return self.width * self.height\n",
        "\n",
        "\n",
        "cir = Circle(5)\n",
        "rect = Rectangle(4, 6)\n",
        "\n",
        "print(f\"Area of Circle: {cir.area()}\")\n",
        "print(f\"Area of Rectangle: {rect.area()}\")"
      ],
      "metadata": {
        "colab": {
          "base_uri": "https://localhost:8080/"
        },
        "id": "9XOcFCcOU4Xf",
        "outputId": "8d2f1ddd-9fb7-4a87-d283-60cfe7348ad9"
      },
      "execution_count": 3,
      "outputs": [
        {
          "output_type": "stream",
          "name": "stdout",
          "text": [
            "Area of Circle: 78.53981633974483\n",
            "Area of Rectangle: 24\n"
          ]
        }
      ]
    },
    {
      "cell_type": "code",
      "source": [
        "'''3. Implement a multi-level inheritance scenario where a class Vehicle has an attribute type. Derive a class Car\n",
        " and further derive a class ElectricCar that adds a battery attribute'''\n",
        "\n",
        "class Vehicle:\n",
        "    def __init__(self, vehicle_type):\n",
        "        self.vehicle_type = vehicle_type\n",
        "\n",
        "class Car(Vehicle):\n",
        "    def __init__(self, vehicle_type, model):\n",
        "        super().__init__(vehicle_type)\n",
        "        self.model = model\n",
        "\n",
        "class ElectricCar(Car):\n",
        "    def __init__(self, vehicle_type, model, battery_capacity):\n",
        "        super().__init__(vehicle_type, model)\n",
        "        self.battery_capacity = battery_capacity\n",
        "\n",
        "\n",
        "my_electric_car = ElectricCar(\"car\", \"Tesla \", \"85 kWh\")\n",
        "\n",
        "print(f\"Vehicle type: {my_electric_car.vehicle_type}\")\n",
        "print(f\"Car model: {my_electric_car.model}\")\n",
        "print(f\"Battery capacity: {my_electric_car.battery_capacity}\")"
      ],
      "metadata": {
        "colab": {
          "base_uri": "https://localhost:8080/"
        },
        "id": "rZVEjYIXVe7U",
        "outputId": "b4859775-9855-4ef2-c30c-c51d960d5c1a"
      },
      "execution_count": 4,
      "outputs": [
        {
          "output_type": "stream",
          "name": "stdout",
          "text": [
            "Vehicle type: car\n",
            "Car model: Tesla \n",
            "Battery capacity: 85 kWh\n"
          ]
        }
      ]
    },
    {
      "cell_type": "code",
      "source": [
        "''' 4. Demonstrate polymorphism by creating a base class Bird with a method fly(). Create two derived classes\n",
        " Sparrow and Penguin that override the fly() method.'''\n",
        "\n",
        "class Bird:\n",
        "    def fly(self):\n",
        "        print(\"Birds can fly\")\n",
        "\n",
        "class Sparrow(Bird):\n",
        "    def fly(self):\n",
        "        print(\"Sparrows can fly high\")\n",
        "\n",
        "class Penguin(Bird):\n",
        "    def fly(self):\n",
        "        print(\"Penguins cannot fly, but they can swim\")\n",
        "\n",
        "\n",
        "bird = Bird()\n",
        "sparrow = Sparrow()\n",
        "penguin = Penguin()\n",
        "\n",
        "bird.fly()\n",
        "sparrow.fly()\n",
        "penguin.fly()"
      ],
      "metadata": {
        "colab": {
          "base_uri": "https://localhost:8080/"
        },
        "id": "yWTJWjchV6LR",
        "outputId": "5c2ec5a4-19d1-48ad-d766-2833442ad3b1"
      },
      "execution_count": 5,
      "outputs": [
        {
          "output_type": "stream",
          "name": "stdout",
          "text": [
            "Birds can fly\n",
            "Sparrows can fly high\n",
            "Penguins cannot fly, but they can swim\n"
          ]
        }
      ]
    },
    {
      "cell_type": "code",
      "source": [
        "''' 5. Write a program to demonstrate encapsulation by creating a class BankAccount with private attributes\n",
        " balance and methods to deposit, withdraw, and check balance.'''\n",
        "\n",
        "class BankAccount:\n",
        "    def __init__(self, initial_balance=0):\n",
        "        self.__balance = initial_balance\n",
        "\n",
        "    def deposit(self, amount):\n",
        "        if amount > 0:\n",
        "            self.__balance += amount\n",
        "            print(f\"Deposited: ${amount}. New balance: ${self.__balance}\")\n",
        "        else:\n",
        "            print(\"Deposit amount must be positive.\")\n",
        "\n",
        "    def withdraw(self, amount):\n",
        "        if amount > 0 and amount <= self.__balance:\n",
        "            self.__balance -= amount\n",
        "            print(f\"Withdrew: ${amount}. New balance: ${self.__balance}\")\n",
        "        elif amount > self.__balance:\n",
        "            print(\"Insufficient funds.\")\n",
        "        else:\n",
        "            print(\"Withdrawal amount must be positive.\")\n",
        "\n",
        "    def check_balance(self):\n",
        "        print(f\"Current balance: ${self.__balance}\")\n",
        "\n",
        "account = BankAccount(1000)\n",
        "account.deposit(500)\n",
        "account.withdraw(200)\n",
        "account.check_balance()\n",
        "\n"
      ],
      "metadata": {
        "id": "8G5i4w_9WeNg"
      },
      "execution_count": null,
      "outputs": []
    },
    {
      "cell_type": "code",
      "metadata": {
        "colab": {
          "base_uri": "https://localhost:8080/"
        },
        "id": "2b22dece",
        "outputId": "f4c5d157-3712-4180-fd91-21544b838af2"
      },
      "source": [
        "''' 6. Demonstrate runtime polymorphism using a method play() in a base class Instrument. Derive classes Guitar\n",
        " and Piano that implement their own version of play().'''\n",
        "\n",
        "class Instrument:\n",
        "    def play(self):\n",
        "        print(\"Playing an instrument\")\n",
        "\n",
        "class Guitar(Instrument):\n",
        "    def play(self):\n",
        "        print(\"Strumming the guitar\")\n",
        "\n",
        "class Piano(Instrument):\n",
        "    def play(self):\n",
        "        print(\"Playing the piano keys\")\n",
        "\n",
        "\n",
        "def play_instrument(instrument):\n",
        "    instrument.play()\n",
        "\n",
        "instrument = Instrument()\n",
        "guitar = Guitar()\n",
        "piano = Piano()\n",
        "\n",
        "play_instrument(instrument)\n",
        "play_instrument(guitar)\n",
        "play_instrument(piano)"
      ],
      "execution_count": 6,
      "outputs": [
        {
          "output_type": "stream",
          "name": "stdout",
          "text": [
            "Playing an instrument\n",
            "Strumming the guitar\n",
            "Playing the piano keys\n"
          ]
        }
      ]
    },
    {
      "cell_type": "code",
      "metadata": {
        "id": "9d334b50"
      },
      "source": [
        "''' 7. Create a class MathOperations with a class method add_numbers() to add two numbers and a static\n",
        " method subtract_numbers() to subtract two numbers.'''\n",
        "\n",
        "class MathOperations:\n",
        "    @classmethod\n",
        "    def add_numbers(cls, x, y):\n",
        "        return x + y\n",
        "\n",
        "    @staticmethod\n",
        "    def subtract_numbers(x, y):\n",
        "        return x - y\n",
        "\n",
        "\n",
        "print(f\"Addition using class method: {MathOperations.add_numbers(10, 5)}\")\n",
        "print(f\"Subtraction using static method: {MathOperations.subtract_numbers(10, 5)}\")"
      ],
      "execution_count": null,
      "outputs": []
    },
    {
      "cell_type": "code",
      "metadata": {
        "colab": {
          "base_uri": "https://localhost:8080/"
        },
        "id": "cdfd81a7",
        "outputId": "b1a7efc7-0c40-45bd-8fe9-9da8f1f956c1"
      },
      "source": [
        "# 8. Implement a class Person with a class method to count the total number of persons created.\n",
        "\n",
        "class Person:\n",
        "    total_persons = 0\n",
        "\n",
        "    def __init__(self, name):\n",
        "        self.name = name\n",
        "        Person.total_persons += 1\n",
        "\n",
        "    @classmethod\n",
        "    def get_total_persons(cls):\n",
        "        return cls.total_persons\n",
        "\n",
        "person1 = Person(\"Alice\")\n",
        "person2 = Person(\"Bob\")\n",
        "person3 = Person(\"Charlie\")\n",
        "\n",
        "print(f\"Total number of persons created: {Person.get_total_persons()}\")"
      ],
      "execution_count": 7,
      "outputs": [
        {
          "output_type": "stream",
          "name": "stdout",
          "text": [
            "Total number of persons created: 3\n"
          ]
        }
      ]
    },
    {
      "cell_type": "code",
      "metadata": {
        "colab": {
          "base_uri": "https://localhost:8080/"
        },
        "id": "67da7699",
        "outputId": "e7e99cb1-d9c5-400e-b124-1d8cd67185f6"
      },
      "source": [
        "''' 9. Write a class Fraction with attributes numerator and denominator. Override the str method to display the\n",
        "fraction as \"numerator/denominator\".'''\n",
        "\n",
        "class Fraction:\n",
        "    def __init__(self, numerator, denominator):\n",
        "        self.numerator = numerator\n",
        "        self.denominator = denominator\n",
        "\n",
        "    def __str__(self):\n",
        "        return f\"{self.numerator}/{self.denominator}\"\n",
        "\n",
        "\n",
        "fraction = Fraction(3, 4)\n",
        "print(fraction)"
      ],
      "execution_count": 8,
      "outputs": [
        {
          "output_type": "stream",
          "name": "stdout",
          "text": [
            "3/4\n"
          ]
        }
      ]
    },
    {
      "cell_type": "code",
      "metadata": {
        "colab": {
          "base_uri": "https://localhost:8080/"
        },
        "id": "eac1b373",
        "outputId": "6d644634-dccc-41ea-c905-2f1a1f224561"
      },
      "source": [
        "''' 10. Demonstrate operator overloading by creating a class Vector and overriding the add method to add two\n",
        " vectors.'''\n",
        "\n",
        "class Vector:\n",
        "    def __init__(self, x, y):\n",
        "        self.x = x\n",
        "        self.y = y\n",
        "\n",
        "    def __str__(self):\n",
        "        return f\"Vector({self.x}, {self.y})\"\n",
        "\n",
        "    def __add__(self, other):\n",
        "        if isinstance(other, Vector):\n",
        "            return Vector(self.x + other.x, self.y + other.y)\n",
        "\n",
        "\n",
        "\n",
        "v1 = Vector(2, 3)\n",
        "v2 = Vector(5, 7)\n",
        "\n",
        "v3 = v1 + v2\n",
        "print(f\"Vector 1: {v1}\")\n",
        "print(f\"Vector 2: {v2}\")\n",
        "print(f\"Sum of vectors: {v3}\")"
      ],
      "execution_count": 9,
      "outputs": [
        {
          "output_type": "stream",
          "name": "stdout",
          "text": [
            "Vector 1: Vector(2, 3)\n",
            "Vector 2: Vector(5, 7)\n",
            "Sum of vectors: Vector(7, 10)\n"
          ]
        }
      ]
    },
    {
      "cell_type": "code",
      "metadata": {
        "colab": {
          "base_uri": "https://localhost:8080/"
        },
        "id": "a30472c6",
        "outputId": "9ef22a36-5d36-4b75-db07-798d60604bd3"
      },
      "source": [
        "'''11. Create a class Person with attributes name and age. Add a method greet() that prints \"Hello, my name is\n",
        " {name} and I am {age} years old.\"  '''\n",
        "\n",
        "class Person:\n",
        "    def __init__(self, name, age):\n",
        "        self.name = name\n",
        "        self.age = age\n",
        "\n",
        "    def greet(self):\n",
        "        print(f\"Hello, my name is {self.name} and I am {self.age} years old.\")\n",
        "\n",
        "# Example usage\n",
        "person = Person(\"Monalisa\", 25)\n",
        "person.greet()"
      ],
      "execution_count": 10,
      "outputs": [
        {
          "output_type": "stream",
          "name": "stdout",
          "text": [
            "Hello, my name is Monalisa and I am 25 years old.\n"
          ]
        }
      ]
    },
    {
      "cell_type": "code",
      "metadata": {
        "colab": {
          "base_uri": "https://localhost:8080/"
        },
        "id": "4a3eb594",
        "outputId": "6f82830d-31fc-41b4-b63b-32e6f2ee3ec2"
      },
      "source": [
        "''' 12. Implement a class Student with attributes name and grades. Create a method average_grade() to compute\n",
        " the average of the grades.'''\n",
        "\n",
        "class Student:\n",
        "    def __init__(self, name, grades):\n",
        "        self.name = name\n",
        "        self.grades = grades\n",
        "\n",
        "    def average_grade(self):\n",
        "        if not self.grades:\n",
        "            return 0\n",
        "        return sum(self.grades) / len(self.grades)\n",
        "\n",
        "\n",
        "stu1 = Student(\"Bob\", [85, 90, 78, 92])\n",
        "stu2 = Student(\"Charlie\", [70, 75, 80, 85, 90])\n",
        "\n",
        "print(f\"{stu1.name}'s average grade: {stu1.average_grade()}\")\n",
        "print(f\"{stu2.name}'s average grade: {stu2.average_grade()}\")"
      ],
      "execution_count": 11,
      "outputs": [
        {
          "output_type": "stream",
          "name": "stdout",
          "text": [
            "Bob's average grade: 86.25\n",
            "Charlie's average grade: 80.0\n"
          ]
        }
      ]
    },
    {
      "cell_type": "code",
      "metadata": {
        "colab": {
          "base_uri": "https://localhost:8080/"
        },
        "id": "6f7e6ba0",
        "outputId": "2ba20138-27bd-4d6a-d7f3-a80a0a332a80"
      },
      "source": [
        "# 13. Create a class Rectangle with methods set_dimensions() to set the dimensions and area() to calculate the area.\n",
        "\n",
        "class Rectangle:\n",
        "    def __init__(self):\n",
        "        self.width = 0\n",
        "        self.height = 0\n",
        "\n",
        "    def set_dimensions(self, width, height):\n",
        "        self.width = width\n",
        "        self.height = height\n",
        "\n",
        "    def area(self):\n",
        "        return self.width * self.height\n",
        "\n",
        "\n",
        "rectangle = Rectangle()\n",
        "rectangle.set_dimensions(10, 5)\n",
        "print(f\"Area of the rectangle: {rectangle.area()}\")"
      ],
      "execution_count": 12,
      "outputs": [
        {
          "output_type": "stream",
          "name": "stdout",
          "text": [
            "Area of the rectangle: 50\n"
          ]
        }
      ]
    },
    {
      "cell_type": "code",
      "metadata": {
        "colab": {
          "base_uri": "https://localhost:8080/"
        },
        "id": "56322a6f",
        "outputId": "313ba93e-e787-440e-9772-d9d2d9d13de1"
      },
      "source": [
        "# 14. Create a class Employee with a method calculate_salary() that computes the salary based on hours worked and hourly rate. Create a derived class Manager that adds a bonus to the salary.\n",
        "\n",
        "class Employee:\n",
        "    def __init__(self, hours_worked, hourly_rate):\n",
        "        self.hours_worked = hours_worked\n",
        "        self.hourly_rate = hourly_rate\n",
        "\n",
        "    def calculate_salary(self):\n",
        "        return self.hours_worked * self.hourly_rate\n",
        "\n",
        "class Manager(Employee):\n",
        "    def __init__(self, hours_worked, hourly_rate, bonus):\n",
        "        super().__init__(hours_worked, hourly_rate)\n",
        "        self.bonus = bonus\n",
        "\n",
        "    def calculate_salary(self):\n",
        "        base_salary = super().calculate_salary()\n",
        "        return base_salary + self.bonus\n",
        "\n",
        "\n",
        "employee = Employee(40, 20)\n",
        "manager = Manager(40, 20, 500)\n",
        "\n",
        "print(f\"Employee salary: ${employee.calculate_salary()}\")\n",
        "print(f\"Manager salary: ${manager.calculate_salary()}\")"
      ],
      "execution_count": 13,
      "outputs": [
        {
          "output_type": "stream",
          "name": "stdout",
          "text": [
            "Employee salary: $800\n",
            "Manager salary: $1300\n"
          ]
        }
      ]
    },
    {
      "cell_type": "code",
      "metadata": {
        "colab": {
          "base_uri": "https://localhost:8080/"
        },
        "id": "f94b6d2a",
        "outputId": "49d2a10f-6740-4c2b-87c4-d58da4e74a2d"
      },
      "source": [
        "# 15. Create a class Product with attributes name, price, and quantity. Implement a method total_price() that calculates the total price of the product.\n",
        "\n",
        "class Product:\n",
        "    def __init__(self, name, price, quantity):\n",
        "        self.name = name\n",
        "        self.price = price\n",
        "        self.quantity = quantity\n",
        "\n",
        "    def total_price(self):\n",
        "        return self.price * self.quantity\n",
        "\n",
        "product1 = Product(\"Laptop\", 1200, 1)\n",
        "\n",
        "\n",
        "print(f\"Total price of {product1.name}: ${product1.total_price()}\")\n"
      ],
      "execution_count": 14,
      "outputs": [
        {
          "output_type": "stream",
          "name": "stdout",
          "text": [
            "Total price of Laptop: $1200\n"
          ]
        }
      ]
    },
    {
      "cell_type": "code",
      "metadata": {
        "colab": {
          "base_uri": "https://localhost:8080/"
        },
        "id": "372756e2",
        "outputId": "2a5ed1d9-a346-4aed-b0a9-f7c35493f03c"
      },
      "source": [
        "# 16. Create a class Animal with an abstract method sound(). Create two derived classes Cow and Sheep that implement the sound() method.\n",
        "\n",
        "from abc import ABC, abstractmethod\n",
        "\n",
        "class Animal(ABC):\n",
        "    @abstractmethod\n",
        "    def sound(self):\n",
        "        pass\n",
        "\n",
        "class Cow(Animal):\n",
        "    def sound(self):\n",
        "        return \"Moo!\"\n",
        "\n",
        "class Sheep(Animal):\n",
        "    def sound(self):\n",
        "        return \"Baa!\"\n",
        "\n",
        "\n",
        "cow = Cow()\n",
        "sheep = Sheep()\n",
        "\n",
        "print(f\"Cow says: {cow.sound()}\")\n",
        "print(f\"Sheep says: {sheep.sound()}\")"
      ],
      "execution_count": 15,
      "outputs": [
        {
          "output_type": "stream",
          "name": "stdout",
          "text": [
            "Cow says: Moo!\n",
            "Sheep says: Baa!\n"
          ]
        }
      ]
    },
    {
      "cell_type": "code",
      "metadata": {
        "colab": {
          "base_uri": "https://localhost:8080/"
        },
        "id": "de4cc945",
        "outputId": "bd2e290e-190c-4bdd-d813-0c46173c45fc"
      },
      "source": [
        "# 17. Create a class Book with attributes title, author, and year_published. Add a method get_book_info() that returns a formatted string with the book's details.\n",
        "\n",
        "class Book:\n",
        "    def __init__(self, title, author, year_published):\n",
        "        self.title = title\n",
        "        self.author = author\n",
        "        self.year_published = year_published\n",
        "\n",
        "    def get_book_info(self):\n",
        "        return f\"'{self.title}' by {self.author}, published in {self.year_published}\"\n",
        "\n",
        "\n",
        "book1 = Book(\"Conversation with friends\", \"Sally Rooney\", 2017)\n",
        "print(book1.get_book_info())"
      ],
      "execution_count": 16,
      "outputs": [
        {
          "output_type": "stream",
          "name": "stdout",
          "text": [
            "'Conversation with friends' by Sally Rooney, published in 2017\n"
          ]
        }
      ]
    },
    {
      "cell_type": "code",
      "metadata": {
        "colab": {
          "base_uri": "https://localhost:8080/"
        },
        "id": "cedb8d76",
        "outputId": "7ffd100c-6a17-4fa0-c5e7-bde2970879a3"
      },
      "source": [
        "# 18. Create a class House with attributes address and price. Create a derived class Mansion that adds an attribute number_of_rooms.\n",
        "\n",
        "class House:\n",
        "    def __init__(self, address, price):\n",
        "        self.address = address\n",
        "        self.price = price\n",
        "\n",
        "class Mansion(House):\n",
        "    def __init__(self, address, price, number_of_rooms):\n",
        "        super().__init__(address, price)\n",
        "        self.number_of_rooms = number_of_rooms\n",
        "\n",
        "my_mansion = Mansion(\"123 Luxury Lane\", 10000000, 50)\n",
        "\n",
        "print(f\"Mansion Address: {my_mansion.address}\")\n",
        "print(f\"Mansion Price: ${my_mansion.price}\")\n",
        "print(f\"Number of Rooms: {my_mansion.number_of_rooms}\")"
      ],
      "execution_count": 17,
      "outputs": [
        {
          "output_type": "stream",
          "name": "stdout",
          "text": [
            "Mansion Address: 123 Luxury Lane\n",
            "Mansion Price: $10000000\n",
            "Number of Rooms: 50\n"
          ]
        }
      ]
    }
  ]
}