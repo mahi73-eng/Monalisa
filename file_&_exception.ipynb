{
  "nbformat": 4,
  "nbformat_minor": 0,
  "metadata": {
    "colab": {
      "provenance": [],
      "collapsed_sections": [
        "tyx3dsQPql6K"
      ]
    },
    "kernelspec": {
      "name": "python3",
      "display_name": "Python 3"
    },
    "language_info": {
      "name": "python"
    }
  },
  "cells": [
    {
      "cell_type": "markdown",
      "source": [
        "**1. What is the difference between interpreted and compiled languages?**"
      ],
      "metadata": {
        "id": "Lys9hcLemD5p"
      }
    },
    {
      "cell_type": "markdown",
      "metadata": {
        "id": "d66ac1b9"
      },
      "source": [
        "**Interpreted Languages:**\n",
        "\n",
        "*   Code is executed line by line by an interpreter.\n",
        "*   Execution is generally slower compared to compiled languages.\n",
        "*   Easier to debug as errors are found at runtime.\n",
        "*   Examples: Python, JavaScript, Ruby.\n",
        "\n",
        "**Compiled Languages:**\n",
        "\n",
        "*   Code is translated into machine code before execution by a compiler.\n",
        "*   Execution is generally faster compared to interpreted languages.\n",
        "*   Debugging can be more challenging as errors are often found during compilation.\n",
        "*   Examples: C, C++, Java (Java is compiled to bytecode, which is then interpreted by the JVM)."
      ]
    },
    {
      "cell_type": "markdown",
      "source": [
        "**2. What is exception handling in Python?**"
      ],
      "metadata": {
        "id": "PD2cbvMqmfkG"
      }
    },
    {
      "cell_type": "markdown",
      "metadata": {
        "id": "ac98cdf0"
      },
      "source": [
        "**Exception Handling in Python:**\n",
        "\n",
        "Exception handling is a mechanism to deal with errors that occur during the execution of a program. These errors, called exceptions, disrupt the normal flow of the program. Python uses `try`, `except`, `else`, and `finally` blocks to handle exceptions gracefully.\n",
        "\n",
        "*   **`try` block:** This block contains the code that might raise an exception.\n",
        "*   **`except` block:** This block is executed if an exception occurs in the `try` block. You can specify the type of exception to catch.\n",
        "*   **`else` block:** This block is executed if no exception occurs in the `try` block.\n",
        "*   **`finally` block:** This block is always executed, regardless of whether an exception occurred or not. It's often used for cleanup operation."
      ]
    },
    {
      "cell_type": "markdown",
      "source": [
        "**3. What is the purpose of the finally block in exception handling?**"
      ],
      "metadata": {
        "id": "8u8z-lbOm8qb"
      }
    },
    {
      "cell_type": "markdown",
      "metadata": {
        "id": "3c8778e9"
      },
      "source": [
        "**Purpose of the `finally` block:**\n",
        "\n",
        "The `finally` block in Python's exception handling (`try...except...finally`) is used to define code that **must** be executed regardless of whether an exception occurs in the `try` block or is caught by an `except` block.\n",
        "\n",
        "Its primary purposes include:\n",
        "\n",
        "*   **Cleanup Operations:** It's commonly used for releasing external resources like closing files, database connections, or network sockets that were opened in the `try` block. This ensures that these resources are properly closed even if errors occur.\n",
        "*   **Guaranteed Execution:** The code within the `finally` block is guaranteed to run, even if there's a `return` statement in the `try` or `except` blocks, or if an unhandled exception propagates up the call stack.\n",
        "\n",
        "Here's a simple illustration:"
      ]
    },
    {
      "cell_type": "markdown",
      "source": [
        "**4. What is logging in Python?**"
      ],
      "metadata": {
        "id": "rB1TWGufnTFm"
      }
    },
    {
      "cell_type": "markdown",
      "metadata": {
        "id": "638306f1"
      },
      "source": [
        "**Logging in Python:**\n",
        "\n",
        "Logging is a way to track events that happen when software runs. It's crucial for understanding how your program behaves, debugging issues, and monitoring its performance. Python's built-in `logging` module provides a flexible framework for emitting log messages.\n",
        "\n",
        "Key concepts in Python logging:\n",
        "\n",
        "*   **Loggers:** These are the objects that your application code interacts with to create log messages. You can have multiple loggers, often organized in a hierarchical manner.\n",
        "*   **Handlers:** These determine where the log messages go (e.g., console, file, network socket).\n",
        "*   **Formatters:** These specify the layout of the log messages (e.g., including timestamps, log levels, and message content).\n",
        "*   **Log Levels:** These indicate the severity of the event being logged (e.g., `DEBUG`, `INFO`, `WARNING`, `ERROR`, `CRITICAL`).\n"
      ]
    },
    {
      "cell_type": "markdown",
      "source": [
        "**5.What is the significance of the __del__ method in Python?**"
      ],
      "metadata": {
        "id": "Ze0Ed4wDn0s6"
      }
    },
    {
      "cell_type": "markdown",
      "metadata": {
        "id": "a570a2db"
      },
      "source": [
        "**Significance of the `__del__` method in Python:**\n",
        "\n",
        "The `__del__` method, also known as the destructor, is a special method in Python classes. It is called when an object's reference count becomes zero and the object is about to be garbage collected.\n",
        "\n",
        "The primary significance of `__del__` is for performing **cleanup operations** before an object is destroyed. This can include:\n",
        "\n",
        "*   Releasing external resources: Closing files, network connections, database connections, or other resources that the object might be holding onto.\n",
        "*   Removing temporary files or directories created by the object.\n",
        "*   Performing any final actions or logging before the object is removed from memory.\n",
        "\n",
        "**Important Considerations:**\n",
        "\n",
        "*   **Unpredictable Timing:** The exact timing of when `__del__` is called is not guaranteed. Python's garbage collector runs periodically, and you cannot be certain when an object will be garbage collected and its `__del__` method invoked. This makes `__del__` unsuitable for critical cleanup tasks that must happen immediately.\n",
        "*   **Circular References:** Objects with circular references might not be garbage collected in a timely manner, or at all, which can prevent `__del__` from being called.\n",
        "*   **Exceptions in `__del__`:** If an exception occurs within the `__del__` method, it can be suppressed or lead to unpredictable behavior.\n",
        "\n",
        "Due to the unpredictable nature of garbage collection and the potential issues with `__del__`, it is generally recommended to use other mechanisms for cleanup whenever possible, such as:\n",
        "\n",
        "*   **`with` statements and context managers:** For resources that need to be acquired and released (like files).\n",
        "*   **Explicit cleanup methods:** Define a regular method (e.g., `close()`, `cleanup()`) that the user of the class must call when they are finished with the object.\n",
        "\n",
        "In summary, while `__del__` exists for cleanup, its use should be approached with caution due to the complexities of garbage collection."
      ]
    },
    {
      "cell_type": "markdown",
      "source": [
        "**6.What is the difference between import and from ... import in Python?**"
      ],
      "metadata": {
        "id": "tzvN-ku7oExP"
      }
    },
    {
      "cell_type": "markdown",
      "source": [
        "The difference between import and from ... import in Python lies in how module contents are brought into the current namespace and how they are subsequently accessed.\n",
        "\n",
        "1. import module_name:\n",
        "\n",
        "This statement imports the entire module_name into the current namespace.\n",
        "To access any function, class, or variable defined within module_name, you must use the module name as a prefix, followed by a dot (.) and the item's name (e.g., module_name.function_name(), module_name.ClassName).\n",
        "This approach helps prevent naming conflicts if different modules have items with the same name.\n",
        "\n",
        "example:\n",
        "import math\n",
        "print(math.sqrt(25))\n",
        "\n",
        "2. from module_name import item_name or from module_name import *:\n",
        "from module_name import item_name:\n",
        "\n",
        "This imports only specific item_name (e.g., a function, class, or variable) directly into the current namespace. You can then use item_name directly without the module prefix.\n",
        "\n",
        "from module_name import *:\n",
        "\n",
        "This imports all public items from module_name directly into the current namespace. This is generally discouraged as it can lead to naming conflicts and make it harder to discern where a particular item originated.\n",
        "\n",
        "Example:\n",
        "\n",
        "from math import sqrt\n",
        "print(sqrt(25))"
      ],
      "metadata": {
        "id": "tyx3dsQPql6K"
      }
    },
    {
      "cell_type": "markdown",
      "source": [
        "**7. How can you handle multiple exceptions in Python?**"
      ],
      "metadata": {
        "id": "fyiXt6k4rATq"
      }
    },
    {
      "cell_type": "code",
      "metadata": {
        "id": "331769b4"
      },
      "source": [
        "#Multiple exceptions in Python can be handled in a try-except block using a few different methods:\n",
        "#Multiple except blocks: This approach involves using separate except blocks for each specific exception type that needs distinct handling logic.\n",
        "\n",
        "\n",
        "    try:\n",
        "        # Code that might raise exceptions\n",
        "        result = 10 / 0\n",
        "        my_list = [1, 2, 3]\n",
        "        print(my_list[5])\n",
        "    except ZeroDivisionError:\n",
        "        print(\"Error: Division by zero!\")\n",
        "    except IndexError:\n",
        "        print(\"Error: Index out of range!\")\n",
        "    except Exception as e:\n",
        "        print(f\"An unexpected error occurred: {e}\")"
      ],
      "execution_count": null,
      "outputs": []
    },
    {
      "cell_type": "markdown",
      "source": [
        "**8. What is the purpose of the with statement when handling files in Python?**"
      ],
      "metadata": {
        "id": "teq-IpQdrvLC"
      }
    },
    {
      "cell_type": "markdown",
      "metadata": {
        "id": "cf98047a"
      },
      "source": [
        "The `with` statement in Python is primarily used for **resource management**, and it's particularly beneficial when dealing with file operations. Its main purpose is to ensure that resources, such as files, are properly acquired and released, even if errors occur during their use.\n",
        "\n",
        "Here's why it's significant for file handling:\n",
        "\n",
        "* **Automatic Resource Cleanup:** When you open a file using the `with` statement, Python guarantees that the file will be automatically closed when the block is exited, regardless of whether the block completes successfully or an exception is raised. This prevents resource leaks, where files remain open and consume system resources.\n",
        "\n",
        "* **Simplified Code:** It makes the code cleaner and more concise by eliminating the need for explicit `try...finally` blocks to ensure the file is closed.\n",
        "\n",
        "* **Improved Readability:** The `with` statement clearly indicates that the enclosed code is working with a resource that needs to be managed.\n",
        "\n",
        "Essentially, the `with` statement works with objects that support the context management protocol (objects that have `__enter__` and `__exit__` methods). When you use `with open(...)`, the `open()` function returns a file object that is a context manager.\n",
        "\n"
      ]
    },
    {
      "cell_type": "markdown",
      "source": [
        "**9.What is the difference between multithreading and multiprocessing?**"
      ],
      "metadata": {
        "id": "sQvnL0AxsMRt"
      }
    },
    {
      "cell_type": "markdown",
      "metadata": {
        "id": "5ae6b6b8"
      },
      "source": [
        "**Multithreading vs. Multiprocessing in Python:**\n",
        "\n",
        "Both multithreading and multiprocessing are techniques used in Python to achieve concurrency, allowing your program to perform multiple tasks seemingly at the same time. However, they differ significantly in how they achieve this and their suitability for different types of tasks.\n",
        "\n",
        "**Multithreading:**\n",
        "\n",
        "* **Threads:** In multithreading, a single process can have multiple threads. Threads within the same process share the same memory space.\n",
        "* **Concurrency:** Threads achieve concurrency by rapidly switching between different tasks within the same process. This is often referred to as \"context switching.\"\n",
        "* **Global Interpreter Lock (GIL):** In CPython (the most common implementation of Python), there's a Global Interpreter Lock (GIL). The GIL is a mutex that protects access to Python objects, preventing multiple native threads from executing Python bytecode at the same time. This means that even on multi-core processors, multithreading in CPython is not true parallelism for CPU-bound tasks. It's more suitable for I/O-bound tasks (like reading/writing files, network operations) where threads spend time waiting for external resources.\n",
        "* **Overhead:** Creating and managing threads generally has less overhead than creating and managing processes.\n",
        "* **Shared Memory:** Sharing data between threads is relatively easy since they share the same memory space, but it requires careful synchronization mechanisms (like locks) to avoid race conditions.\n",
        "\n",
        "**Multiprocessing:**\n",
        "\n",
        "* **Processes:** In multiprocessing, multiple independent processes are created. Each process has its own separate memory space.\n",
        "* **Parallelism:** Processes achieve true parallelism because each process runs in its own interpreter and is not subject to the GIL. This makes multiprocessing suitable for CPU-bound tasks that can benefit from utilizing multiple CPU cores.\n",
        "* **GIL:** The GIL does not affect multiprocessing because each process has its own GIL.\n",
        "* **Overhead:** Creating and managing processes generally has more overhead than creating and managing threads.\n",
        "* **Inter-Process Communication (IPC):** Sharing data between processes is more complex since they have separate memory spaces. It requires explicit Inter-Process Communication (IPC) mechanisms (like pipes, queues, shared memory).\n",
        "\n",
        "\n",
        "**When to use which:**\n",
        "\n",
        "* Use **multithreading** for I/O-bound tasks where your program spends most of its time waiting for input/output operations to complete.\n",
        "* Use **multiprocessing** for CPU-bound tasks that can benefit from utilizing multiple CPU cores for parallel execution."
      ]
    },
    {
      "cell_type": "markdown",
      "source": [
        "**10. What are the advantages of using logging in a program?**\n"
      ],
      "metadata": {
        "id": "7gpHYI0ysp5V"
      }
    },
    {
      "cell_type": "markdown",
      "metadata": {
        "id": "3244a6d3"
      },
      "source": [
        "**Advantages of using logging in a program:**\n",
        "\n",
        "Logging offers several significant advantages when developing and maintaining software:\n",
        "\n",
        "* **Debugging and Troubleshooting:** Logging provides a historical record of events that occurred during program execution. This is invaluable for identifying the root cause of errors, understanding the program's flow, and pinpointing where issues arise. Instead of relying solely on breakpoints or print statements, logs provide a persistent trail of information.\n",
        "\n",
        "* **Monitoring and Analysis:** Logs can be used to monitor the behavior of a running application in production. You can track performance metrics, identify bottlenecks, and analyze usage patterns. This information is crucial for optimizing the application and making informed decisions.\n",
        "\n",
        "* **Auditing and Compliance:** In many applications, especially those dealing with sensitive data or transactions, logging is essential for auditing and compliance purposes. Logs can provide a record of who did what and when, which can be critical for security investigations and meeting regulatory requirements.\n",
        "\n",
        "* **Understanding Program Flow:** Logs can help you understand how your program is executing, especially in complex systems with multiple modules or threads. By logging key events and variable values, you can trace the program's path and see how different parts interact.\n",
        "\n",
        "* **Separation of Concerns:** Logging separates the task of reporting events from the core logic of your application. This makes your code cleaner and more maintainable.\n",
        "\n",
        "* **Flexibility and Customization:** Python's `logging` module is highly configurable. You can control where logs are sent (console, file, network), what information is included in each log message, and filter messages based on their severity level.\n",
        "\n",
        "* **Post-mortem Analysis:** When a program crashes or encounters an unhandled exception, logs can provide crucial information about the state of the program leading up to the failure. This allows for effective post-mortem analysis and helps prevent similar issues in the future.\n",
        "\n",
        "In summary, incorporating logging into your programs is a best practice that significantly improves their maintainability, robustness, and observability. It's a powerful tool for understanding, debugging, and monitoring your software."
      ]
    },
    {
      "cell_type": "markdown",
      "source": [
        "**11. What is memory management in Python?**"
      ],
      "metadata": {
        "id": "AWD0pxq-tYbJ"
      }
    },
    {
      "cell_type": "markdown",
      "metadata": {
        "id": "568bdb15"
      },
      "source": [
        "**Memory Management in Python:**\n",
        "\n",
        "Memory management in Python is handled automatically by a private heap containing all Python objects and data structures. The management of this private heap is ensured by the Python memory manager.\n",
        "\n",
        "The core aspects of Python's memory management include:\n",
        "\n",
        "1.  **Reference Counting:**\n",
        "    *   This is the primary mechanism Python uses for memory management.\n",
        "    *   Every object in Python has a reference count, which is the number of variables or data structures that are currently referring to it.\n",
        "    *   When the reference count of an object drops to zero, it means there are no more references to that object, and it is no longer accessible.\n",
        "    *   At this point, the memory occupied by the object is reclaimed.\n",
        "\n",
        "2.  **Garbage Collection (Specifically, Generational Garbage Collection):**\n",
        "    *   While reference counting handles most memory deallocation, it cannot deal with circular references (where objects refer to each other, creating a cycle, and their reference counts never drop to zero even if they are no longer accessible from outside the cycle).\n",
        "    *   Python's garbage collector is a supplementary mechanism that periodically runs to detect and clean up these circular references.\n",
        "    *   It uses a generational approach, dividing objects into different \"generations\" based on how long they have been alive. Objects that have been around for a longer time are less likely to be garbage collected, which improves performance.\n",
        "\n",
        "3.  **Memory Pools:**\n",
        "    *   For smaller objects (like integers and strings), Python uses memory pools to allocate memory more efficiently.\n",
        "    *   Instead of allocating memory individually for each small object, Python pre-allocates blocks of memory and then doles out chunks from these blocks as needed. This reduces the overhead of memory allocation and deallocation.\n",
        "\n",
        "**Key Takeaways:**\n",
        "\n",
        "*   Python's memory management is mostly automatic, relieving the programmer from manual memory allocation and deallocation.\n",
        "*   Reference counting is the main mechanism, but garbage collection is essential for handling circular references.\n",
        "*   Memory pools optimize memory allocation for small objects.\n",
        "\n",
        "While Python's automatic memory management is a significant advantage, it's still important to be mindful of potential memory leaks, especially in long-running applications or when dealing with large data structures. Understanding the basics of how Python manages memory can help you write more efficient and robust code."
      ]
    },
    {
      "cell_type": "markdown",
      "source": [
        "**12.What are the basic steps involved in exception handling in Python?**\n"
      ],
      "metadata": {
        "id": "wHrmyUzWuRoa"
      }
    },
    {
      "cell_type": "markdown",
      "metadata": {
        "id": "79d4e57b"
      },
      "source": [
        "**Basic Steps Involved in Exception Handling in Python:**\n",
        "\n",
        "Exception handling in Python involves using a `try...except` block to gracefully manage errors that occur during the execution of your code. Here are the basic steps:\n",
        "\n",
        "1.  **Identify the potentially problematic code:** Determine the section of your code that might raise an exception. This could be operations like file I/O, network requests, type conversions, or any code that might encounter unexpected conditions.\n",
        "\n",
        "2.  **Place the code in a `try` block:** Enclose the potentially problematic code within a `try` block. This tells Python to monitor this block for exceptions.\n",
        "\n",
        " try:\n",
        "        result = 10 / 0\n",
        "    except ZeroDivisionError:\n",
        "        print(\"Error: Cannot divide by zero!\")"
      ]
    },
    {
      "cell_type": "markdown",
      "source": [
        "**13.Why is memory management important in Python?**"
      ],
      "metadata": {
        "id": "Lukl-AZpur5f"
      }
    },
    {
      "cell_type": "markdown",
      "metadata": {
        "id": "476db4b7"
      },
      "source": [
        "\n",
        "\n",
        "Although Python handles memory management automatically through mechanisms like reference counting and garbage collection, understanding its importance is still crucial for writing efficient and robust code. Here's why:\n",
        "\n",
        "*   **Preventing Memory Leaks:** While Python's garbage collector is designed to reclaim unused memory, it's not foolproof. Circular references, for example, can sometimes prevent objects from being garbage collected, leading to memory leaks. In long-running applications, even small memory leaks can accumulate over time, consuming system resources and potentially causing the program to slow down or crash.\n",
        "\n",
        "*   **Optimizing Performance:** Efficient memory management is directly related to program performance. If your program uses excessive memory or spends a lot of time allocating and deallocating memory, it can impact its speed and responsiveness. Understanding how Python manages memory can help you write code that minimizes memory overhead and improves performance.\n",
        "\n",
        "*   **Resource Management:** Many applications interact with external resources like files, network connections, and database connections. These resources consume system memory and need to be properly managed. While the `with` statement and context managers help with resource cleanup, understanding memory management principles reinforces the importance of releasing these resources when they are no longer needed.\n",
        "\n",
        "*   **Debugging Memory-Related Issues:** Even with automatic memory management, you might encounter memory-related issues like excessive memory consumption or unexpected program behavior due to memory allocation problems. Understanding how Python manages memory can help you diagnose and debug these issues more effectively.\n",
        "\n",
        "*   **Writing Scalable Applications:** For applications that need to handle large amounts of data or serve many users concurrently, efficient memory management is critical for scalability. Poor memory management can limit the application's ability to handle increasing workloads and lead to performance degradation.\n",
        "\n",
        "*   **Understanding the Global Interpreter Lock (GIL):** While not strictly a memory management concept, the GIL in CPython is related to how threads access Python objects in memory. Understanding the GIL is important for writing efficient multithreaded applications and recognizing when multiprocessing might be a better approach for CPU-bound tasks.\n",
        "\n",
        "In essence, while Python abstracts away many of the complexities of memory management, having a basic understanding of how it works empowers you to write better code that is more efficient, reliable, and scalable. It helps you avoid potential pitfalls and optimize your program's resource usage."
      ]
    },
    {
      "cell_type": "markdown",
      "source": [
        "**14.What is the role of try and except in exception handling?**"
      ],
      "metadata": {
        "id": "9nWeEJJtvIUa"
      }
    },
    {
      "cell_type": "markdown",
      "metadata": {
        "id": "52e24b91"
      },
      "source": [
        "**The Role of `try` and `except` in Exception Handling:**\n",
        "\n",
        "The `try` and `except` blocks are fundamental components of Python's exception handling mechanism. They work together to allow you to anticipate and gracefully handle errors that might occur during the execution of your code, preventing your program from crashing.\n",
        "\n",
        "Here's a breakdown of their roles:\n",
        "\n",
        "1.  **`try` Block:**\n",
        "    *   **Purpose:** The `try` block contains the code that you suspect might raise an exception. This is the section of your program where potential errors could occur.\n",
        "    *   **How it works:** When Python executes the code within the `try` block, it monitors this code for any exceptions. If an exception occurs, the normal flow of execution is interrupted, and Python immediately looks for a corresponding `except` block to handle the specific type of exception that was raised.\n",
        "    *   **Execution:** If no exception occurs within the `try` block, the code within the `try` block completes successfully, and the associated `except` blocks are skipped.\n",
        "\n",
        "2.  **`except` Block:**\n",
        "    *   **Purpose:** The `except` block is designed to handle specific types of exceptions that might be raised in the preceding `try` block.\n",
        "    *   **How it works:** If an exception occurs in the `try` block, Python checks the `except` blocks (in the order they appear) to see if any of them are designed to handle that particular type of exception. If a matching `except` block is found, the code within that `except` block is executed.\n",
        "    *   **Specifying Exceptions:** You can specify the type of exception you want to catch in an `except` block (e.g., `except ValueError:`). You can also handle multiple exceptions with a single `except` block by providing a tuple of exception types (e.g., `except (TypeError, NameError):`). A general `except` block without specifying an exception type will catch any type of exception, but it's generally recommended to be more specific for better error handling.\n",
        "    *   **Handling the Error:** The code within the `except` block typically contains the logic to handle the error gracefully. This might involve printing an error message, logging the error, attempting to recover from the error, or taking other appropriate actions.\n",
        "\n",
        "**In essence:**\n",
        "\n",
        "*   The `try` block is where you put the code that *might* fail.\n",
        "*   The `except` block is where you put the code to execute *if* a specific type of error occurs in the `try` block.\n",
        "\n",
        "By using `try` and `except`, you can make your Python programs more robust and resilient to unexpected issues, ensuring that they don't crash and can potentially continue running or provide informative feedback to the user when errors occur."
      ]
    },
    {
      "cell_type": "markdown",
      "source": [
        "**15.How does Python's garbage collection system work?**"
      ],
      "metadata": {
        "id": "ksocFtf0vsEB"
      }
    },
    {
      "cell_type": "markdown",
      "metadata": {
        "id": "962d20ff"
      },
      "source": [
        "\n",
        "\n",
        "Python's garbage collection system is primarily based on **reference counting**, supplemented by a **generational garbage collector** to handle circular references.\n",
        "\n",
        "Here's a breakdown of how it works:\n",
        "\n",
        "1.  **Reference Counting:**\n",
        "    *   Every object in Python has a built-in reference count. This count keeps track of the number of variables, data structures, or other objects that are currently referring to that object.\n",
        "    *   When a new reference is made to an object (e.g., assigning it to a variable), its reference count is incremented.\n",
        "    *   When a reference is removed (e.g., a variable goes out of scope, is reassigned, or explicitly deleted), the object's reference count is decremented.\n",
        "    *   When an object's reference count drops to zero, it means there are no longer any references to that object, and it is considered \"garbage.\" The memory occupied by this object is then immediately deallocated and returned to the memory manager for future use.\n",
        "\n",
        "2.  **Generational Garbage Collection:**\n",
        "    *   Reference counting is efficient for most cases, but it cannot detect and collect objects involved in **circular references**. A circular reference occurs when two or more objects refer to each other in a cycle, even if they are no longer accessible from outside the cycle. In this case, their individual reference counts will never drop to zero, and they would otherwise remain in memory indefinitely.\n",
        "    *   To address this, Python employs a generational garbage collector. This collector periodically scans for objects that are part of reference cycles and are no longer reachable from the root objects (like variables in the global scope or the call stack).\n",
        "    *   The generational aspect means that objects are grouped into different \"generations\" based on their age. Objects that have been around for a longer time are considered to be in older generations. The garbage collector focuses its efforts more frequently on newer generations, as newer objects are more likely to become garbage. This improves the performance of the garbage collection process.\n",
        "\n",
        "**In essence:**\n",
        "\n",
        "*   Reference counting is the primary and immediate mechanism for freeing up memory when objects are no longer referenced.\n",
        "*   The generational garbage collector acts as a supplementary mechanism to clean up circular references that reference counting cannot handle.\n",
        "\n"
      ]
    },
    {
      "cell_type": "markdown",
      "source": [
        "**16.What is the purpose of the else block in exception handling?**"
      ],
      "metadata": {
        "id": "k2TNYMgGwckp"
      }
    },
    {
      "cell_type": "markdown",
      "metadata": {
        "id": "2efd6026"
      },
      "source": [
        "\n",
        "\n",
        "In Python's exception handling structure (`try...except...else...finally`), the `else` block is an optional component that serves a specific purpose:\n",
        "\n",
        "*   **Purpose:** The `else` block is executed **only if no exception occurs** within the preceding `try` block.\n",
        "\n",
        "*   **How it works:** If the code inside the `try` block runs to completion without raising any exceptions, then the code inside the `else` block is executed. If an exception *is* raised in the `try` block, the `else` block is skipped, and the corresponding `except` block (if one exists for that exception type) is executed instead.\n",
        "\n",
        "*   **Use Case:** The `else` block is useful for placing code that should only run when the \"normal\" execution path of the `try` block is successful. This helps to keep the `try` block focused on the code that might raise exceptions, making the code more readable and organized.\n",
        "\n",
        "Think of it this way:\n",
        "\n",
        "*   `try`: \"Try to do this.\"\n",
        "*   `except`: \"If something goes wrong in the `try` block, do this.\"\n",
        "*   `else`: \"If everything went right in the `try` block, do this.\"\n",
        "*   `finally`: \"Regardless of what happened, always do this.\"\n",
        "\n",
        "Here's an example:"
      ]
    },
    {
      "cell_type": "code",
      "metadata": {
        "colab": {
          "base_uri": "https://localhost:8080/"
        },
        "id": "e44db741",
        "outputId": "e1d7259c-99f0-4173-a5c6-1862857cc48d"
      },
      "source": [
        "try:\n",
        "    num1 = int(input(\"Enter a number: \"))\n",
        "    num2 = int(input(\"Enter another number: \"))\n",
        "    result = num1 / num2\n",
        "except ValueError:\n",
        "    print(\"Invalid input. Please enter integers.\")\n",
        "except ZeroDivisionError:\n",
        "    print(\"Error: Cannot divide by zero.\")\n",
        "else:\n",
        "    print(f\"The result of the division is: {result}\")\n",
        "finally:\n",
        "    print(\"Execution finished.\")"
      ],
      "execution_count": null,
      "outputs": [
        {
          "output_type": "stream",
          "name": "stdout",
          "text": [
            "Enter a number: 7\n",
            "Enter another number: 6\n",
            "The result of the division is: 1.1666666666666667\n",
            "Execution finished.\n"
          ]
        }
      ]
    },
    {
      "cell_type": "markdown",
      "source": [
        "**17. What are the common logging levels in Python?**"
      ],
      "metadata": {
        "id": "jBArkcdHxLKz"
      }
    },
    {
      "cell_type": "markdown",
      "metadata": {
        "id": "49f0395c"
      },
      "source": [
        "**Common Logging Levels in Python:**\n",
        "\n",
        "The `logging` module in Python provides a set of predefined logging levels, which are used to indicate the severity of the event being logged. When you configure your logger and handlers, you can set a logging level. Only messages with a severity level equal to or higher than the configured level will be processed.\n",
        "\n",
        "Here are the standard logging levels in increasing order of severity:\n",
        "\n",
        "1.  **`DEBUG`:**\n",
        "    *   **Purpose:** Detailed information, typically only of interest when diagnosing problems.\n",
        "    *   **Use Case:** Used for fine-grained information about the program's internal state and execution flow. Useful during development and debugging.\n",
        "\n",
        "2.  **`INFO`:**\n",
        "    *   **Purpose:** Confirmation that things are working as expected.\n",
        "    *   **Use Case:** Used to record significant events in the program's execution, such as successful connections, file operations, or completion of major tasks.\n",
        "\n",
        "3.  **`WARNING`:**\n",
        "    *   **Purpose:** An indication that something unexpected happened, or indicative of a potential problem in the near future (e.g. 'disk space low'). The software is still working as expected.\n",
        "    *   **Use Case:** Used to alert about situations that are not errors but might require attention, such as deprecated features being used or configuration issues.\n",
        "\n",
        "4.  **`ERROR`:**\n",
        "    *   **Purpose:** Due to a more serious problem, the software has not been able to perform some function.\n",
        "    *   **Use Case:** Used to log errors that prevent a specific operation from completing but do not necessarily cause the entire program to crash.\n",
        "\n",
        "5.  **`CRITICAL`:**\n",
        "    *   **Purpose:** A serious error, indicating that the program itself may be unable to continue running.\n",
        "    *   **Use Case:** Used for severe errors that are likely to cause the program to terminate or become unstable, such as unrecoverable database errors or critical resource failures.\n",
        "\n",
        "Here's how you can use them in your code:"
      ]
    },
    {
      "cell_type": "code",
      "metadata": {
        "colab": {
          "base_uri": "https://localhost:8080/"
        },
        "id": "5a91f157",
        "outputId": "757bf27b-ac95-4c91-d0f2-c9cbf139dbd9"
      },
      "source": [
        "import logging\n",
        "\n",
        "logging.basicConfig(level=logging.DEBUG) # Configure the root logger to show DEBUG and higher\n",
        "\n",
        "logging.debug(\"This is a debug message.\")\n",
        "logging.info(\"This is an info message.\")\n",
        "logging.warning(\"This is a warning message.\")\n",
        "logging.error(\"This is an error message.\")\n",
        "logging.critical(\"This is a critical message.\")"
      ],
      "execution_count": null,
      "outputs": [
        {
          "output_type": "stream",
          "name": "stderr",
          "text": [
            "WARNING:root:This is a warning message.\n",
            "ERROR:root:This is an error message.\n",
            "CRITICAL:root:This is a critical message.\n"
          ]
        }
      ]
    },
    {
      "cell_type": "markdown",
      "source": [
        "**18.What is the difference between os.fork() and multiprocessing in Python?**"
      ],
      "metadata": {
        "id": "a4HJWuGjxnXQ"
      }
    },
    {
      "cell_type": "markdown",
      "metadata": {
        "id": "bc1e8f3f"
      },
      "source": [
        "**Difference between `os.fork()` and `multiprocessing` in Python:**\n",
        "\n",
        "Both `os.fork()` and the `multiprocessing` module are ways to create new processes in Python, but they differ in their approach and ease of use.\n",
        "\n",
        "**`os.fork()`:**\n",
        "\n",
        "*   **Low-level:** `os.fork()` is a low-level system call that creates a new process by duplicating the current process. The new process (child process) is an almost exact copy of the parent process.\n",
        "*   **Unix-specific:** `os.fork()` is only available on Unix-like systems (Linux, macOS, BSD). It is not available on Windows.\n",
        "*   **Copies Memory:** When `os.fork()` is called, the child process inherits a copy of the parent process's memory space. While this can be efficient due to copy-on-write mechanisms, it can also lead to complications when dealing with shared data and resources.\n",
        "*   **Requires careful handling of resources:** Resources like open files, network connections, and locks are duplicated in the child process. This requires careful management to avoid issues like multiple processes writing to the same file descriptor or deadlocks.\n",
        "*   **Inter-Process Communication (IPC) is manual:** If you need to communicate between the parent and child processes, you have to implement IPC mechanisms (like pipes or sockets) manually.\n",
        "\n",
        "**`multiprocessing` module:**\n",
        "\n",
        "*   **High-level abstraction:** The `multiprocessing` module provides a higher-level, more convenient way to create and manage processes. It abstracts away many of the complexities of using `os.fork()` directly.\n",
        "*   **Cross-platform:** The `multiprocessing` module works on both Unix-like systems and Windows, providing a consistent API for creating processes.\n",
        "*   **Manages memory implicitly:** The `multiprocessing` module handles the creation of separate memory spaces for each process. While data is not shared by default, it provides mechanisms for sharing data safely (e.g., `Value`, `Array`, `Manager`).\n",
        "*   **Provides built-in IPC:** The `multiprocessing` module offers various built-in IPC mechanisms like `Queue`, `Pipe`, and `Lock`, which simplify communication and synchronization between processes.\n",
        "*   **Easier to use:** The module provides classes and functions (like `Process`, `Pool`) that make it easier to create, start, and manage processes, as well as handle tasks like pooling processes for parallel execution.\n",
        "\n",
        "\n",
        "\n",
        "**When to use which:**\n",
        "\n",
        "*   Use **`os.fork()`** if you need fine-grained control over process creation and are working exclusively on Unix-like systems. This is often used in lower-level system programming.\n",
        "*   Use the **`multiprocessing` module** in most cases when you need to leverage multiple CPU cores for parallel execution in your Python applications. It provides a more convenient and portable way to manage processes and inter-process communication."
      ]
    },
    {
      "cell_type": "markdown",
      "source": [
        "**19. What is the importance of closing a file in Python?**"
      ],
      "metadata": {
        "id": "h6BmjkAyyVbj"
      }
    },
    {
      "cell_type": "markdown",
      "metadata": {
        "id": "5beaed18"
      },
      "source": [
        "\n",
        "\n",
        "Closing a file in Python after you've finished working with it is crucial for several reasons:\n",
        "\n",
        "1.  **Releasing System Resources:** When you open a file, the operating system allocates resources to manage that file. This includes things like file descriptors (which are essentially handles to the file) and memory buffers. If you don't close the file, these resources remain allocated even after your program has finished using the file. In programs that open many files or run for a long time, this can lead to resource exhaustion, potentially causing your program or even the entire system to slow down or become unstable.\n",
        "\n",
        "2.  **Ensuring Data is Written to Disk:** When you write data to a file, it's often initially buffered in memory by the operating system for efficiency. This means the data might not be immediately written to the physical disk. When you close a file, the buffers are typically flushed, ensuring that all the data you've written is actually saved to the file on the disk. If your program crashes or is terminated unexpectedly before the buffers are flushed, you could lose data.\n",
        "\n",
        "3.  **Preventing Data Corruption:** If a file is not properly closed, other programs or processes that try to access the same file might encounter issues. This could lead to data corruption or unexpected behavior. Closing the file ensures that it's in a consistent state for other processes.\n",
        "\n",
        "4.  **Avoiding Permissions Issues:** On some operating systems, keeping a file open can prevent other users or processes from accessing, modifying, or deleting that file due to file locking mechanisms. Closing the file releases these locks, allowing other processes to interact with the file as needed.\n",
        "\n",
        "5.  **Good Programming Practice:** Explicitly closing resources when you're finished with them is a fundamental principle of good programming. It makes your code cleaner, more predictable, and less prone to errors related to resource management.\n",
        "\n",
        "**How to ensure files are closed:**\n",
        "\n",
        "*   **The `with` statement:** The most recommended way to handle files in Python is by using the `with` statement. It automatically ensures that the file is closed when the block is exited, even if exceptions occur."
      ]
    },
    {
      "cell_type": "markdown",
      "source": [
        "**20.What is the difference between file.read() and file.readline() in Python?**"
      ],
      "metadata": {
        "id": "V0qH0LH6ywZB"
      }
    },
    {
      "cell_type": "markdown",
      "metadata": {
        "id": "c8d44306"
      },
      "source": [
        "**Difference between `file.read()` and `file.readline()` in Python:**\n",
        "\n",
        "Both `file.read()` and `file.readline()` are methods used to read content from a file object in Python, but they differ in how much data they read at a time.\n",
        "\n",
        "1.  **`file.read(size)`:**\n",
        "    *   **Purpose:** Reads the entire content of the file or a specified number of bytes/characters.\n",
        "    *   **How it works:**\n",
        "        *   If `size` is omitted or negative, it reads the entire content of the file from the current position until the end.\n",
        "        *   If `size` is a positive integer, it reads up to `size` bytes (for binary mode) or characters (for text mode) from the file.\n",
        "    *   **Return Value:** Returns the content as a string (in text mode) or bytes object (in binary mode). If the end of the file has been reached, it returns an empty string (`''`) or bytes object (`b''`)."
      ]
    },
    {
      "cell_type": "markdown",
      "metadata": {
        "id": "a3b7b529"
      },
      "source": [
        "2.  **`file.readline(size)`:**\n",
        "    *   **Purpose:** Reads a single line from the file.\n",
        "    *   **How it works:**\n",
        "        *   Reads characters from the file until it encounters a newline character (`\\n`), a carriage return (`\\r`), or the end of the file.\n",
        "        *   The newline character is kept in the returned string.\n",
        "        *   The optional `size` argument limits the number of bytes/characters to read. If a newline is encountered within `size` characters, the entire line up to and including the newline is returned.\n",
        "    *   **Return Value:** Returns the line read as a string (in text mode) or bytes object (in binary mode). If the end of the file is reached and no line is read, it returns an empty string (`''`) or bytes object (`b''`).\n"
      ]
    },
    {
      "cell_type": "markdown",
      "metadata": {
        "id": "c8dc8c2d"
      },
      "source": [
        "\n",
        "In summary, `file.read()` is for reading the whole file or a specific number of bytes/characters, while `file.readline()' is for reading one line at a time. When iterating through a file line by line, it's generally more memory-efficient to use `file.readline()` or iterate directly over the file object (which reads lines lazily) rather than reading the entire file into memory with `file.read()`."
      ]
    },
    {
      "cell_type": "markdown",
      "source": [
        "**21.What is the logging module in Python used for?**"
      ],
      "metadata": {
        "id": "geWsa8ozzhS8"
      }
    },
    {
      "cell_type": "markdown",
      "metadata": {
        "id": "7984266c"
      },
      "source": [
        "\n",
        "\n",
        "The `logging` module is a powerful and flexible built-in library in Python that provides a standard way to emit log messages from your applications. Its primary purpose is to help developers and system administrators understand the behavior of software, diagnose problems, and monitor its performance.\n",
        "\n",
        "Here's a breakdown of what the `logging` module is used for:\n",
        "\n",
        "1.  **Recording Events:** It allows you to record events that happen while your program is running. These events can be anything from simple informational messages about the program's progress to critical errors that require immediate attention.\n",
        "\n",
        "2.  **Debugging and Troubleshooting:** By strategically placing log messages throughout your code, you create a trail of information that can be invaluable for debugging and troubleshooting issues. When an error occurs, you can examine the logs to see the sequence of events leading up to the error, the values of variables at different points, and the execution path of the program.\n",
        "\n",
        "3.  **Monitoring Application Behavior:** In production environments, logging is essential for monitoring the health and performance of your applications. You can log metrics, track user activity, and identify potential bottlenecks or anomalies.\n",
        "\n",
        "4.  **Auditing and Compliance:** For applications that handle sensitive data or require a record of actions taken, logging is crucial for auditing and compliance purposes. Logs can provide a historical record of who did what and when.\n",
        "\n",
        "5.  **Separating Concerns:** The `logging` module allows you to separate the task of reporting events from the core logic of your application. This makes your code cleaner and more maintainable.\n",
        "\n",
        "6.  **Configurable Output:** You can configure the `logging` module to direct log messages to various destinations, such as the console, a file, a network socket, or even external logging services. You can also customize the format of the log messages to include information like timestamps, log levels, module names, and line numbers.\n",
        "\n",
        "7.  **Log Levels:** The module supports different logging levels (DEBUG, INFO, WARNING, ERROR, CRITICAL) to categorize messages based on their severity. This allows you to filter log output and focus on the most important messages.\n",
        "\n",
        "In essence, the `logging` module is a fundamental tool for making your Python applications more observable, maintainable, and robust. It provides a structured and standardized way to understand what's happening inside your programs."
      ]
    },
    {
      "cell_type": "markdown",
      "source": [
        "**22. What is the os module in Python used for in file handling?**"
      ],
      "metadata": {
        "id": "0ikxYedA0yHU"
      }
    },
    {
      "cell_type": "markdown",
      "metadata": {
        "id": "8fd20836"
      },
      "source": [
        "\n",
        "The `os` module in Python provides a way of using operating system-dependent functionality. While the built-in `open()` function is used for the actual reading and writing of file content, the `os` module provides functions for interacting with the file system itself, which is crucial for managing files and directories.\n",
        "\n",
        "Here are some common uses of the `os` module in file handling:\n",
        "\n",
        "1.  **Path Manipulation:** The `os.path` submodule is particularly useful for working with file and directory paths in a way that is independent of the operating system. This includes functions for:\n",
        "    *   Joining path components (`os.path.join()`)\n",
        "    *   Splitting paths into directory and file names (`os.path.split()`)\n",
        "    *   Checking if a path exists (`os.path.exists()`)\n",
        "    *   Checking if a path is a file (`os.path.isfile()`)\n",
        "    *   Checking if a path is a directory (`os.path.isdir()`)\n",
        "    *   Getting the absolute path of a file or directory (`os.path.abspath()`)\n",
        "    *   Getting the directory name of a path (`os.path.dirname()`)\n",
        "    *   Getting the base name (filename) of a path (`os.path.basename()`)\n",
        "\n",
        "2.  **Directory Operations:** The `os` module provides functions for creating, deleting, and navigating directories:\n",
        "    *   Creating a directory (`os.mkdir()`)\n",
        "    *   Creating directories recursively (`os.makedirs()`)\n",
        "    *   Removing a file (`os.remove()`)\n",
        "    *   Removing an empty directory (`os.rmdir()`)\n",
        "    *   Removing directories recursively (`os.removedirs()`)\n",
        "    *   Changing the current working directory (`os.chdir()`)\n",
        "    *   Getting the current working directory (`os.getcwd()`)\n",
        "    *   Listing the contents of a directory (`os.listdir()`)\n",
        "\n",
        "3.  **File Information:** You can use the `os` module to get information about files:\n",
        "    *   Getting file status (size, modification time, etc.) (`os.stat()`)\n",
        "    *   Changing file permissions (`os.chmod()`)\n",
        "    *   Renaming a file or directory (`os.rename()`)\n",
        "\n",
        "4.  **Environment Variables:** While not directly file handling, the `os` module is used to access environment variables, which can sometimes influence file paths or configurations (`os.environ`).\n",
        "\n",
        "In summary, the `os` module complements the built-in file handling functions by providing the tools to interact with the file system at a lower level, allowing you to manage files and directories, manipulate paths, and get file information in an operating system-agnostic way."
      ]
    },
    {
      "cell_type": "markdown",
      "source": [
        "**23.What are the challenges associated with memory management in Python?**\n"
      ],
      "metadata": {
        "id": "mXnD7LA21Nfv"
      }
    },
    {
      "cell_type": "markdown",
      "metadata": {
        "id": "22a3c7b3"
      },
      "source": [
        "\n",
        "\n",
        "While Python's automatic memory management simplifies development, there are still some challenges and considerations associated with it:\n",
        "\n",
        "1.  **Circular References:** This is the most significant challenge. As mentioned earlier, reference counting alone cannot detect and collect objects that are part of circular references. Although the generational garbage collector is designed to handle these, in complex scenarios or with certain object types, circular references can still lead to memory leaks if not managed carefully.\n",
        "\n",
        "2.  **Unpredictable Garbage Collection Timing:** The exact timing of when the garbage collector runs is not guaranteed. This can make it difficult to predict when memory will be freed, which might be a concern in applications with strict memory requirements or real-time constraints.\n",
        "\n",
        "3.  **Memory Footprint of Certain Objects:** Some Python objects, especially those dealing with large amounts of data (like lists, dictionaries, and custom objects with many attributes), can have a significant memory footprint. If not managed efficiently, this can lead to high memory consumption.\n",
        "\n",
        "4.  **Debugging Memory Leaks:** While Python provides tools for debugging, identifying and diagnosing memory leaks, especially those caused by complex circular references, can still be challenging. Tools and techniques are required to track object references and identify where memory is not being released.\n",
        "\n",
        "5.  **Integration with External Libraries:** When using external libraries, especially those written in C or C++, memory management can become more complex. If these libraries allocate memory directly and don't properly manage references with Python objects, it can lead to issues.\n",
        "\n",
        "6.  **Copying vs. Views:** Understanding when Python creates copies of objects versus when it provides views (references to the same underlying data) is important for efficient memory usage. Unnecessary copying of large data structures can consume significant memory.\n",
        "\n",
        "7.  **Serialization and Deserialization:** When serializing and deserializing Python objects (e.g., using `pickle`), you need to be mindful of how references and object states are handled to avoid creating unnecessary copies or issues with memory.\n",
        "\n",
        "8.  **Global Interpreter Lock (GIL) and Multithreading:** While not a direct memory management challenge, the GIL can impact the performance of multithreaded applications, especially CPU-bound ones. Understanding how the GIL affects shared memory access is important for writing efficient concurrent code.\n",
        "\n",
        "Despite these challenges, Python's automatic memory management is generally very effective and simplifies the development process significantly. By being aware of these potential issues and following good programming practices (like using `with` statements for resource management and avoiding unnecessary circular references), you can mitigate many of these challenges and write robust and efficient Python applications."
      ]
    },
    {
      "cell_type": "markdown",
      "source": [
        "**24.How do you raise an exception manually in Python?**"
      ],
      "metadata": {
        "id": "b_aBhfqB1zG1"
      }
    },
    {
      "cell_type": "markdown",
      "metadata": {
        "id": "ae3ee8e2"
      },
      "source": [
        "\n",
        "\n",
        "In Python, you can raise an exception manually using the `raise` statement. This is useful when you want to signal that an error condition has occurred in your code at a specific point, even if Python's built-in mechanisms haven't automatically raised an exception.\n",
        "\n",
        "The basic syntax for raising an exception is:"
      ]
    },
    {
      "cell_type": "code",
      "metadata": {
        "colab": {
          "base_uri": "https://localhost:8080/"
        },
        "id": "5036b8fd",
        "outputId": "d3154d7f-61fe-4c32-e36b-4315a66c4ee7"
      },
      "source": [
        "def divide(a, b):\n",
        "    if b == 0:\n",
        "        raise ZeroDivisionError(\"Cannot divide by zero!\")\n",
        "    return a / b\n",
        "\n",
        "try:\n",
        "    result = divide(10, 0)\n",
        "except ZeroDivisionError as e:\n",
        "    print(f\"Caught an exception: {e}\")"
      ],
      "execution_count": null,
      "outputs": [
        {
          "output_type": "stream",
          "name": "stdout",
          "text": [
            "Caught an exception: Cannot divide by zero!\n"
          ]
        }
      ]
    },
    {
      "cell_type": "markdown",
      "metadata": {
        "id": "cf5810d5"
      },
      "source": [
        "When you use the `raise` statement, the normal flow of execution is interrupted, and Python begins searching for an appropriate `except` block in the call stack to handle the raised exception. If no suitable `except` block is found, the program will terminate and display an unhandled exception traceback."
      ]
    },
    {
      "cell_type": "markdown",
      "source": [
        "**25.Why is it important to use multithreading in certain applications?**"
      ],
      "metadata": {
        "id": "ZKFm-Tv_3VcH"
      }
    },
    {
      "cell_type": "markdown",
      "metadata": {
        "id": "8dff07a8"
      },
      "source": [
        "\n",
        "\n",
        "While multiprocessing is generally preferred for CPU-bound tasks to achieve true parallelism, multithreading is still important and beneficial for certain types of applications, particularly those that are **I/O-bound**. Here's why:\n",
        "\n",
        "1.  **Handling I/O-Bound Operations:** The primary reason for using multithreading in Python (especially with CPython) is to efficiently handle I/O-bound tasks. These are tasks where the program spends a significant amount of time waiting for external resources to respond, such as:\n",
        "    *   Reading from or writing to files\n",
        "    *   Making network requests (fetching data from websites, communicating with servers)\n",
        "    *   Interacting with databases\n",
        "    *   User input\n",
        "\n",
        "    During these waiting periods, the CPU is idle. With multithreading, while one thread is waiting for an I/O operation to complete, the Global Interpreter Lock (GIL) is released, allowing other threads to run and utilize the CPU for other tasks. This prevents the program from blocking and makes it more responsive.\n",
        "\n",
        "2.  **Improved Responsiveness:** For applications with graphical user interfaces (GUIs) or network servers, multithreading can significantly improve responsiveness. For example, in a GUI application, you can use a separate thread to perform a long-running operation (like downloading a file) without freezing the main GUI thread. This keeps the user interface interactive.\n",
        "\n",
        "3.  **Simplified Concurrency for Shared Data:** Since threads within the same process share the same memory space, sharing data between them is relatively straightforward compared to multiprocessing (which requires explicit Inter-Process Communication). While this shared memory also necessitates careful synchronization to avoid race conditions, it can be simpler for tasks that involve frequent data sharing.\n",
        "\n",
        "4.  **Lower Overhead:** Creating and managing threads generally has less overhead (in terms of memory and time) than creating and managing separate processes. This can be advantageous for applications that need to create a large number of concurrent units of execution.\n",
        "\n",
        "5.  **Concurrency, Not True Parallelism (in CPython):** It's important to reiterate that due to the GIL in CPython, multithreading does not achieve true parallelism for CPU-bound tasks on multi-core processors. If your application is heavily CPU-bound (e.g., performing complex calculations), multiprocessing would be a better choice to utilize multiple cores effectively. However, for I/O-bound tasks, multithreading provides effective concurrency.\n",
        "\n",
        "In summary, multithreading is essential for Python applications that need to handle I/O-bound operations efficiently, improve responsiveness, and manage concurrency with lower overhead compared to multiprocessing. While the GIL is a limitation for CPU-bound tasks, multithreading remains a valuable tool for many common programming scenarios."
      ]
    },
    {
      "cell_type": "markdown",
      "source": [
        "**PRACTICAL QUESTIONS:**"
      ],
      "metadata": {
        "id": "8eTl8sya3_Bi"
      }
    },
    {
      "cell_type": "markdown",
      "source": [
        "**1. How can you open a file for writing in Python and write a string to it us?**"
      ],
      "metadata": {
        "id": "e-OfLuow4Np3"
      }
    },
    {
      "cell_type": "code",
      "metadata": {
        "colab": {
          "base_uri": "https://localhost:8080/"
        },
        "id": "d9e29f59",
        "outputId": "82181a09-274e-498d-f734-86df59088073"
      },
      "source": [
        "# Specify the filename\n",
        "filename = \"my_output_file.txt\"\n",
        "\n",
        "# The string you want to write to the file\n",
        "content_to_write = \"This is the content that will be written to the file.\"\n",
        "\n",
        "\n",
        "with open(filename, 'w') as file:\n",
        "    # Write the string to the file\n",
        "    file.write(content_to_write)\n",
        "\n",
        "print(f\"Successfully wrote to {filename}\")\n",
        "\n",
        "# You can verify the content by reading the file\n",
        "with open(filename, 'r') as file:\n",
        "    read_content = file.read()\n",
        "    print(\"\\nContent read from the file:\")\n",
        "    print(read_content)"
      ],
      "execution_count": null,
      "outputs": [
        {
          "output_type": "stream",
          "name": "stdout",
          "text": [
            "Successfully wrote to my_output_file.txt\n",
            "\n",
            "Content read from the file:\n",
            "This is the content that will be written to the file.\n"
          ]
        }
      ]
    },
    {
      "cell_type": "markdown",
      "source": [
        "**2.Write a Python program to read the contents of a file and print each line?**"
      ],
      "metadata": {
        "id": "c5dApPWO58d5"
      }
    },
    {
      "cell_type": "code",
      "source": [
        "def read_and_print_file_lines(filename):\n",
        "\n",
        "    try:\n",
        "        with open(filename, 'r') as file:\n",
        "            for line in file:\n",
        "                print(line.strip())\n",
        "    except FileNotFoundError:\n",
        "        print(f\"Error: The file '{filename}' was not found.\")\n",
        "    except Exception as e:\n",
        "        print(f\"An unexpected error occurred: {e}\")\n",
        "\n",
        "\n",
        "# Create a sample file for demonstration\n",
        "with open(\"sample.txt\", \"w\") as f:\n",
        "    f.write(\"This is the first line.\\n\")\n",
        "    f.write(\"This is the second line.\\n\")\n",
        "    f.write(\"And this is the third line.\")\n",
        "\n",
        "\n",
        "read_and_print_file_lines(\"sample.txt\")\n",
        "\n",
        "\n",
        "read_and_print_file_lines(\"non_existent_file.txt\")"
      ],
      "metadata": {
        "colab": {
          "base_uri": "https://localhost:8080/"
        },
        "id": "b_FfCx627Wxp",
        "outputId": "2da803a7-5117-4897-d753-3858351e5ec3"
      },
      "execution_count": null,
      "outputs": [
        {
          "output_type": "stream",
          "name": "stdout",
          "text": [
            "This is the first line.\n",
            "This is the second line.\n",
            "And this is the third line.\n",
            "Error: The file 'non_existent_file.txt' was not found.\n"
          ]
        }
      ]
    },
    {
      "cell_type": "markdown",
      "source": [
        "**3.How would you handle a case where the file doesn't exist while trying to open it for reading?**"
      ],
      "metadata": {
        "id": "k-eHlRlG7qff"
      }
    },
    {
      "cell_type": "code",
      "metadata": {
        "colab": {
          "base_uri": "https://localhost:8080/"
        },
        "id": "eec99785",
        "outputId": "06ed7cde-6318-4c8c-d15d-87c90a424e18"
      },
      "source": [
        "def read_file_safely(filename):\n",
        "\n",
        "    try:\n",
        "\n",
        "        with open(filename, 'r') as file:\n",
        "            content = file.read()\n",
        "            print(f\"Successfully read content from '{filename}':\")\n",
        "            print(content)\n",
        "    except FileNotFoundError:\n",
        "\n",
        "        print(f\"Error: The file '{filename}' was not found.\")\n",
        "    except Exception as e:\n",
        "\n",
        "        print(f\"An unexpected error occurred while reading '{filename}': {e}\")\n",
        "\n",
        "\n",
        "read_file_safely(\"existing_file.txt\")\n",
        "read_file_safely(\"non_existent_file.txt\")"
      ],
      "execution_count": null,
      "outputs": [
        {
          "output_type": "stream",
          "name": "stdout",
          "text": [
            "Error: The file 'existing_file.txt' was not found.\n",
            "Error: The file 'non_existent_file.txt' was not found.\n"
          ]
        }
      ]
    },
    {
      "cell_type": "markdown",
      "source": [
        "4.**Write a Python script that reads from one file and writes its content to another file**"
      ],
      "metadata": {
        "id": "rRp630ul9kdc"
      }
    },
    {
      "cell_type": "code",
      "metadata": {
        "colab": {
          "base_uri": "https://localhost:8080/"
        },
        "id": "f088e2d9",
        "outputId": "3630b910-d355-4bd1-b855-97bd4e0ed882"
      },
      "source": [
        "def copy_file_content(input_filename, output_filename):\n",
        "\n",
        "    try:\n",
        "\n",
        "        with open(input_filename, 'r') as infile:\n",
        "\n",
        "            with open(output_filename, 'w') as outfile:\n",
        "\n",
        "                content = infile.read()\n",
        "\n",
        "                outfile.write(content)\n",
        "\n",
        "        print(f\"Successfully copied content from '{input_filename}' to '{output_filename}'.\")\n",
        "\n",
        "    except FileNotFoundError:\n",
        "        print(f\"Error: The input file '{input_filename}' was not found.\")\n",
        "    except Exception as e:\n",
        "        print(f\"An error occurred during file copying: {e}\")\n",
        "\n",
        "# Create a dummy input file\n",
        "with open(\"input.txt\", \"w\") as f:\n",
        "    f.write(\"This is the content of the input file.\\n\")\n",
        "    f.write(\"This line will also be copied.\\n\")\n",
        "    f.write(\"And the last line.\")\n",
        "\n",
        "# Define the input and output filenames\n",
        "input_file = \"input.txt\"\n",
        "output_file = \"output.txt\"\n",
        "\n",
        "\n",
        "copy_file_content(input_file, output_file)\n",
        "\n",
        "copy_file_content(\"non_existent_input.txt\", \"another_output.txt\")"
      ],
      "execution_count": null,
      "outputs": [
        {
          "output_type": "stream",
          "name": "stdout",
          "text": [
            "Successfully copied content from 'input.txt' to 'output.txt'.\n",
            "Error: The input file 'non_existent_input.txt' was not found.\n"
          ]
        }
      ]
    },
    {
      "cell_type": "markdown",
      "source": [
        "**5.How would you catch and handle division by zero error in Python?**"
      ],
      "metadata": {
        "id": "6dq-gFb1-agU"
      }
    },
    {
      "cell_type": "code",
      "metadata": {
        "colab": {
          "base_uri": "https://localhost:8080/"
        },
        "id": "aea72fbd",
        "outputId": "0f5a01e1-aa66-44fa-a3b8-34e7e5850cc8"
      },
      "source": [
        "def safe_division(numerator, denominator):\n",
        "\n",
        "    try:\n",
        "\n",
        "        result = numerator / denominator\n",
        "        return result\n",
        "    except ZeroDivisionError:\n",
        "\n",
        "        print(\"Error: Division by zero is not allowed.\")\n",
        "        return None\n",
        "\n",
        "\n",
        "num1 = 10\n",
        "num2 = 2\n",
        "num3 = 0\n",
        "\n",
        "result1 = safe_division(num1, num2)\n",
        "if result1 is not None:\n",
        "    print(f\"{num1} divided by {num2} is: {result1}\")\n",
        "\n",
        "result2 = safe_division(num1, num3)\n",
        "if result2 is not None:\n",
        "    print(f\"{num1} divided by {num3} is: {result2}\")"
      ],
      "execution_count": null,
      "outputs": [
        {
          "output_type": "stream",
          "name": "stdout",
          "text": [
            "10 divided by 2 is: 5.0\n",
            "Error: Division by zero is not allowed.\n"
          ]
        }
      ]
    },
    {
      "cell_type": "markdown",
      "source": [
        "**6.Write a Python program that logs an error message to a log file when a division by zero exception occurs?**"
      ],
      "metadata": {
        "id": "0evttftUAsDQ"
      }
    },
    {
      "cell_type": "code",
      "metadata": {
        "id": "904c3bc0"
      },
      "source": [
        "import logging\n",
        "\n",
        "\n",
        "logging.basicConfig(filename='division_errors.log', level=logging.ERROR,\n",
        "                    format='%(asctime)s - %(levelname)s - %(message)s')\n",
        "\n",
        "def safe_division_with_logging(numerator, denominator):\n",
        "\n",
        "    try:\n",
        "        # Attempt to perform the division\n",
        "        result = numerator / denominator\n",
        "        return result\n",
        "    except ZeroDivisionError:\n",
        "        # Log the error message to the configured log file\n",
        "        logging.error(\"Attempted division by zero.\")\n",
        "        print(\"Error: Division by zero occurred. Details logged to division_errors.log\")\n",
        "        return None\n",
        "\n",
        "# Example usage:\n",
        "num1 = 10\n",
        "num2 = 2\n",
        "num3 = 0\n",
        "\n",
        "result1 = safe_division_with_logging(num1, num2)\n",
        "if result1 is not None:\n",
        "    print(f\"{num1} divided by {num2} is: {result1}\")\n",
        "\n",
        "result2 = safe_division_with_logging(num1, num3)\n",
        "if result2 is not None:\n",
        "    print(f\"{num1} divided by {num3} is: {result2}\")\n",
        "\n"
      ],
      "execution_count": null,
      "outputs": []
    },
    {
      "cell_type": "markdown",
      "source": [
        "**7.How do you log information at different levels (INFO, ERROR, WARNING) in Python using the logging module?**"
      ],
      "metadata": {
        "id": "t5BivI3sBzto"
      }
    },
    {
      "cell_type": "code",
      "metadata": {
        "colab": {
          "base_uri": "https://localhost:8080/"
        },
        "id": "2576b516",
        "outputId": "527af390-31ab-4e72-8695-26b35cf9d0b7"
      },
      "source": [
        "import logging\n",
        "\n",
        "\n",
        "logging.basicConfig(level=logging.DEBUG,\n",
        "                    format='%(asctime)s - %(name)s - %(levelname)s - %(message)s')\n",
        "\n",
        "# Log messages at different levels\n",
        "logging.debug(\"This is a debug message - useful for detailed diagnostics.\")\n",
        "logging.info(\"This is an informational message - indicates normal operation.\")\n",
        "logging.warning(\"This is a warning message - indicates a potential issue.\")\n",
        "logging.error(\"This is an error message - indicates a problem that prevented an operation.\")\n",
        "logging.critical(\"This is a critical message - indicates a severe error that might stop the program.\")\n",
        "\n"
      ],
      "execution_count": null,
      "outputs": [
        {
          "output_type": "stream",
          "name": "stderr",
          "text": [
            "WARNING:root:This is a warning message - indicates a potential issue.\n",
            "ERROR:root:This is an error message - indicates a problem that prevented an operation.\n",
            "CRITICAL:root:This is a critical message - indicates a severe error that might stop the program.\n"
          ]
        }
      ]
    },
    {
      "cell_type": "markdown",
      "source": [
        "**8.Write a program to handle a file opening error using exception handling.**"
      ],
      "metadata": {
        "id": "_MRgEkK1CeLX"
      }
    },
    {
      "cell_type": "code",
      "metadata": {
        "colab": {
          "base_uri": "https://localhost:8080/"
        },
        "id": "c3ff7268",
        "outputId": "0703f8b9-1032-45f5-8be7-cd5f4a32c82f"
      },
      "source": [
        "def safe_file_open(filename, mode='r'):\n",
        "\n",
        "    try:\n",
        "\n",
        "        file = open(filename, mode)\n",
        "        print(f\"Successfully opened file '{filename}' in mode '{mode}'.\")\n",
        "        return file\n",
        "    except FileNotFoundError:\n",
        "\n",
        "        print(f\"Error: The file '{filename}' was not found.\")\n",
        "        return None\n",
        "    except Exception as e:\n",
        "\n",
        "        print(f\"An unexpected error occurred while opening '{filename}': {e}\")\n",
        "        return None\n",
        "\n",
        "\n",
        "with open(\"my_test_file.txt\", \"w\") as f:\n",
        "    f.write(\"This is a test file.\")\n",
        "\n",
        "existing_file = safe_file_open(\"my_test_file.txt\", 'r')\n",
        "if existing_file:\n",
        "    content = existing_file.read()\n",
        "    print(f\"Content read: {content}\")\n",
        "    existing_file.close()\n",
        "\n",
        "print(\"-\" * 20)\n",
        "\n",
        "\n",
        "non_existent_file = safe_file_open(\"non_existent_file.txt\", 'r')\n",
        "if non_existent_file:\n",
        "\n",
        "    pass"
      ],
      "execution_count": null,
      "outputs": [
        {
          "output_type": "stream",
          "name": "stdout",
          "text": [
            "Successfully opened file 'my_test_file.txt' in mode 'r'.\n",
            "Content read: This is a test file.\n",
            "--------------------\n",
            "Error: The file 'non_existent_file.txt' was not found.\n"
          ]
        }
      ]
    },
    {
      "cell_type": "markdown",
      "source": [
        "**9.How can you read a file line by line and store its content in a list in Python?**"
      ],
      "metadata": {
        "id": "M9VkRc98Di28"
      }
    },
    {
      "cell_type": "code",
      "metadata": {
        "colab": {
          "base_uri": "https://localhost:8080/"
        },
        "id": "e64af896",
        "outputId": "b8a4c5a6-abc0-4efe-8f6a-eb2d6236afa1"
      },
      "source": [
        "def read_file_to_list(filename):\n",
        "\n",
        "    lines_list = []\n",
        "    try:\n",
        "\n",
        "        with open(filename, 'r') as file:\n",
        "\n",
        "            for line in file:\n",
        "\n",
        "                lines_list.append(line)\n",
        "\n",
        "        print(f\"Successfully read '{filename}' into a list.\")\n",
        "        return lines_list\n",
        "\n",
        "    except FileNotFoundError:\n",
        "        print(f\"Error: The file '{filename}' was not found.\")\n",
        "        return None\n",
        "    except Exception as e:\n",
        "        print(f\"An unexpected error occurred while reading '{filename}': {e}\")\n",
        "        return None\n",
        "\n",
        "with open(\"sample_lines.txt\", \"w\") as f:\n",
        "    f.write(\"First line.\")\n",
        "    f.write(\"Second line.\")\n",
        "    f.write(\"Third line.\")\n",
        "\n",
        "\n",
        "file_content_list = read_file_to_list(\"sample_lines.txt\")\n",
        "\n",
        "\n",
        "if file_content_list:\n",
        "    print(\"\\nContent of the list:\")\n",
        "    print(file_content_list)\n",
        "\n",
        "\n",
        "non_existent_list = read_file_to_list(\"non_existent_sample.txt\")\n",
        "print(non_existent_list)"
      ],
      "execution_count": null,
      "outputs": [
        {
          "output_type": "stream",
          "name": "stdout",
          "text": [
            "Successfully read 'sample_lines.txt' into a list.\n",
            "\n",
            "Content of the list:\n",
            "['First line.Second line.Third line.']\n",
            "Error: The file 'non_existent_sample.txt' was not found.\n",
            "None\n"
          ]
        }
      ]
    },
    {
      "cell_type": "markdown",
      "source": [
        "**10.How can you append data to an existing file in Python?**"
      ],
      "metadata": {
        "id": "dtO0sx4JER8v"
      }
    },
    {
      "cell_type": "code",
      "metadata": {
        "colab": {
          "base_uri": "https://localhost:8080/"
        },
        "id": "2a44e1df",
        "outputId": "373b255f-bac3-431c-f802-af29c27d4291"
      },
      "source": [
        "def append_to_file(filename, data_to_append):\n",
        "\n",
        "    try:\n",
        "\n",
        "        with open(filename, 'a') as file:\n",
        "\n",
        "            file.write(data_to_append)\n",
        "\n",
        "        print(f\"Successfully appended to '{filename}'.\")\n",
        "\n",
        "    except Exception as e:\n",
        "        print(f\"An error occurred while appending to '{filename}': {e}\")\n",
        "\n",
        "\n",
        "with open(\"my_append_file.txt\", \"w\") as f:\n",
        "    f.write(\"Initial content.\\n\")\n",
        "\n",
        "print(\"Initial content of my_append_file.txt:\")\n",
        "with open(\"my_append_file.txt\", \"r\") as f:\n",
        "    print(f.read())\n",
        "\n",
        "print(\"-\" * 20)\n",
        "\n",
        "\n",
        "data_to_add = \"This is the new line being appended.\\n\"\n",
        "\n",
        "\n",
        "append_to_file(\"my_append_file.txt\", data_to_add)\n",
        "\n",
        "print(\"\\nContent of my_append_file.txt after appending:\")\n",
        "with open(\"my_append_file.txt\", \"r\") as f:\n",
        "    print(f.read())\n",
        "\n",
        "print(\"-\" * 20)\n",
        "\n",
        "\n",
        "more_data = \"Adding another line.\"\n",
        "append_to_file(\"my_append_file.txt\", more_data)\n",
        "\n",
        "print(\"\\nContent of my_append_file.txt after appending more data:\")\n",
        "with open(\"my_append_file.txt\", \"r\") as f:\n",
        "    print(f.read())\n",
        "\n",
        "\n",
        "append_to_file(\"new_file_created_by_append.txt\", \"Content for the new file.\")\n",
        "print(\"\\nContent of new_file_created_by_append.txt:\")\n",
        "with open(\"new_file_created_by_append.txt\", \"r\") as f:\n",
        "    print(f.read())"
      ],
      "execution_count": null,
      "outputs": [
        {
          "output_type": "stream",
          "name": "stdout",
          "text": [
            "Initial content of my_append_file.txt:\n",
            "Initial content.\n",
            "\n",
            "--------------------\n",
            "Successfully appended to 'my_append_file.txt'.\n",
            "\n",
            "Content of my_append_file.txt after appending:\n",
            "Initial content.\n",
            "This is the new line being appended.\n",
            "\n",
            "--------------------\n",
            "Successfully appended to 'my_append_file.txt'.\n",
            "\n",
            "Content of my_append_file.txt after appending more data:\n",
            "Initial content.\n",
            "This is the new line being appended.\n",
            "Adding another line.\n",
            "Successfully appended to 'new_file_created_by_append.txt'.\n",
            "\n",
            "Content of new_file_created_by_append.txt:\n",
            "Content for the new file.\n"
          ]
        }
      ]
    },
    {
      "cell_type": "markdown",
      "source": [
        "**11. Write a Python program that uses a try-except block to handle an error when attempting to access a dictionary key that doesn't exist**"
      ],
      "metadata": {
        "id": "tvtvK0kEFCxZ"
      }
    },
    {
      "cell_type": "code",
      "metadata": {
        "colab": {
          "base_uri": "https://localhost:8080/"
        },
        "id": "1ca89106",
        "outputId": "2ab569ae-80fb-40bd-c334-8b80afd7c9bf"
      },
      "source": [
        "def get_value_from_dict(my_dict, key):\n",
        "\n",
        "    try:\n",
        "\n",
        "        value = my_dict[key]\n",
        "        print(f\"Successfully accessed key '{key}'. Value: {value}\")\n",
        "        return value\n",
        "    except KeyError:\n",
        "\n",
        "        print(f\"Error: Key '{key}' not found in the dictionary.\")\n",
        "        return None\n",
        "    except Exception as e:\n",
        "\n",
        "        print(f\"An unexpected error occurred: {e}\")\n",
        "        return None\n",
        "\n",
        "\n",
        "my_dictionary = {\"apple\": 1, \"banana\": 2, \"cherry\": 3}\n",
        "\n",
        "\n",
        "get_value_from_dict(my_dictionary, \"banana\")\n",
        "\n",
        "print(\"-\" * 20)\n",
        "\n",
        "\n",
        "get_value_from_dict(my_dictionary, \"grape\")\n",
        "\n",
        "print(\"-\" * 20)\n",
        "\n",
        "get_value_from_dict(my_dictionary, \"orange\")"
      ],
      "execution_count": null,
      "outputs": [
        {
          "output_type": "stream",
          "name": "stdout",
          "text": [
            "Successfully accessed key 'banana'. Value: 2\n",
            "--------------------\n",
            "Error: Key 'grape' not found in the dictionary.\n",
            "--------------------\n",
            "Error: Key 'orange' not found in the dictionary.\n"
          ]
        }
      ]
    },
    {
      "cell_type": "markdown",
      "source": [
        "**12. Write a program that demonstrates using multiple except blocks to handle different types of exceptions.**"
      ],
      "metadata": {
        "id": "VBCsm7xiVMg5"
      }
    },
    {
      "cell_type": "code",
      "metadata": {
        "colab": {
          "base_uri": "https://localhost:8080/"
        },
        "id": "30169fc5",
        "outputId": "b018cc60-99ad-4642-c84d-2e07e341ee8c"
      },
      "source": [
        "def demonstrate_multiple_exceptions(input_value):\n",
        "\n",
        "    try:\n",
        "\n",
        "        num = int(input_value)\n",
        "        result = 100 / num\n",
        "        my_list = [10, 20, 30]\n",
        "        item = my_list[num]\n",
        "\n",
        "        print(f\"Successful operations: Number is {num}, Result is {result}, Item is {item}\")\n",
        "\n",
        "    except ValueError:\n",
        "\n",
        "        print(f\"Error: Could not convert '{input_value}' to an integer.\")\n",
        "    except ZeroDivisionError:\n",
        "\n",
        "        print(f\"Error: Cannot divide by zero.\")\n",
        "    except IndexError:\n",
        "\n",
        "        print(f\"Error: List index out of range.\")\n",
        "    except Exception as e:\n",
        "\n",
        "        print(f\"An unexpected error occurred: {e}\")\n",
        "\n",
        "\n",
        "\n",
        "\n",
        "demonstrate_multiple_exceptions(\"5\")\n",
        "print(\"-\" * 20)\n",
        "\n",
        "demonstrate_multiple_exceptions(\"abc\")\n",
        "print(\"-\" * 20)\n",
        "\n",
        "demonstrate_multiple_exceptions(\"0\")\n",
        "print(\"-\" * 20)\n",
        "\n",
        "\n",
        "demonstrate_multiple_exceptions(\"10\")\n",
        "print(\"-\" * 20)\n",
        "\n",
        "\n",
        "demonstrate_multiple_exceptions([1, 2])"
      ],
      "execution_count": null,
      "outputs": [
        {
          "output_type": "stream",
          "name": "stdout",
          "text": [
            "Error: List index out of range.\n",
            "--------------------\n",
            "Error: Could not convert 'abc' to an integer.\n",
            "--------------------\n",
            "Error: Cannot divide by zero.\n",
            "--------------------\n",
            "Error: List index out of range.\n",
            "--------------------\n",
            "An unexpected error occurred: int() argument must be a string, a bytes-like object or a real number, not 'list'\n"
          ]
        }
      ]
    },
    {
      "cell_type": "markdown",
      "source": [
        "**13.How would you check if a file exists before attempting to read it in Python?**"
      ],
      "metadata": {
        "id": "O6RA3Q1RV3NG"
      }
    },
    {
      "cell_type": "markdown",
      "metadata": {
        "id": "1a568f14"
      },
      "source": [
        "You can use the `os.path.exists()` function from the built-in `os` module to check if a file or directory exists at a given path.\n",
        "\n",
        "Here's how you would typically use it before attempting to open a file for reading:"
      ]
    },
    {
      "cell_type": "code",
      "metadata": {
        "colab": {
          "base_uri": "https://localhost:8080/"
        },
        "id": "88d0c904",
        "outputId": "b7f1ce1a-7d56-4048-daf5-d65f00e74a2e"
      },
      "source": [
        "import os\n",
        "\n",
        "def read_file_if_exists(filename):\n",
        "\n",
        "\n",
        "    if os.path.exists(filename):\n",
        "        print(f\"File '{filename}' exists. Attempting to read...\")\n",
        "        try:\n",
        "\n",
        "            with open(filename, 'r') as file:\n",
        "                content = file.read()\n",
        "                print(\"File content:\")\n",
        "                print(content)\n",
        "        except Exception as e:\n",
        "\n",
        "            print(f\"An error occurred while reading '{filename}': {e}\")\n",
        "    else:\n",
        "        print(f\"File '{filename}' does not exist.\")\n",
        "\n",
        "\n",
        "with open(\"my_existing_file.txt\", \"w\") as f:\n",
        "    f.write(\"This file exists and will be read.\")\n",
        "\n",
        "\n",
        "read_file_if_exists(\"my_existing_file.txt\")\n",
        "\n",
        "print(\"-\" * 20)\n",
        "\n",
        "\n",
        "read_file_if_exists(\"non_existent_file.txt\")"
      ],
      "execution_count": null,
      "outputs": [
        {
          "output_type": "stream",
          "name": "stdout",
          "text": [
            "File 'my_existing_file.txt' exists. Attempting to read...\n",
            "File content:\n",
            "This file exists and will be read.\n",
            "--------------------\n",
            "File 'non_existent_file.txt' does not exist.\n"
          ]
        }
      ]
    },
    {
      "cell_type": "markdown",
      "source": [
        "14. **Write a program that uses the logging module to log both informational and error messages.**"
      ],
      "metadata": {
        "id": "JRml07xhWdAi"
      }
    },
    {
      "cell_type": "code",
      "metadata": {
        "colab": {
          "base_uri": "https://localhost:8080/"
        },
        "id": "b8a8857a",
        "outputId": "a6a8120d-f89a-4c37-c3a3-3c8ff36bee9f"
      },
      "source": [
        "import logging\n",
        "\n",
        "\n",
        "logging.basicConfig(level=logging.INFO,\n",
        "                    format='%(asctime)s - %(levelname)s - %(message)s')\n",
        "\n",
        "def perform_operation(value):\n",
        "\n",
        "    logging.info(f\"Attempting to perform operation with value: {value}\")\n",
        "    try:\n",
        "\n",
        "        result = 10 / value\n",
        "        logging.info(f\"Operation successful. Result: {result}\")\n",
        "        return result\n",
        "    except ZeroDivisionError:\n",
        "\n",
        "        logging.error(\"Error: Division by zero occurred.\")\n",
        "        print(\"Operation failed due to division by zero.\")\n",
        "        return None\n",
        "    except Exception as e:\n",
        "\n",
        "        logging.error(f\"An unexpected error occurred during operation: {e}\")\n",
        "        print(f\"Operation failed due to an unexpected error: {e}\")\n",
        "        return None\n",
        "\n",
        "\n",
        "perform_operation(2)\n",
        "\n",
        "print(\"-\" * 20)\n",
        "\n",
        "\n",
        "perform_operation(0)\n",
        "\n",
        "print(\"-\" * 20)\n",
        "\n",
        "\n",
        "perform_operation(\"abc\")\n",
        "\n",
        "print(\"-\" * 20)\n",
        "\n",
        "perform_operation(5)"
      ],
      "execution_count": null,
      "outputs": [
        {
          "output_type": "stream",
          "name": "stderr",
          "text": [
            "ERROR:root:Error: Division by zero occurred.\n",
            "ERROR:root:An unexpected error occurred during operation: unsupported operand type(s) for /: 'int' and 'str'\n"
          ]
        },
        {
          "output_type": "stream",
          "name": "stdout",
          "text": [
            "--------------------\n",
            "Operation failed due to division by zero.\n",
            "--------------------\n",
            "Operation failed due to an unexpected error: unsupported operand type(s) for /: 'int' and 'str'\n",
            "--------------------\n"
          ]
        },
        {
          "output_type": "execute_result",
          "data": {
            "text/plain": [
              "2.0"
            ]
          },
          "metadata": {},
          "execution_count": 18
        }
      ]
    },
    {
      "cell_type": "markdown",
      "source": [
        "**15.Write a Python program that prints the content of a file and handles the case when the file is empty**"
      ],
      "metadata": {
        "id": "WJrz8s0qXmES"
      }
    },
    {
      "cell_type": "code",
      "metadata": {
        "id": "2a42833c",
        "colab": {
          "base_uri": "https://localhost:8080/"
        },
        "outputId": "818245fd-8c80-4721-dc97-5733115e71b0"
      },
      "source": [
        "import os\n",
        "\n",
        "def print_file_content_handling_empty(filename):\n",
        "\n",
        "    try:\n",
        "\n",
        "        if not os.path.exists(filename):\n",
        "            print(f\"Error: The file '{filename}' was not found.\")\n",
        "            return\n",
        "\n",
        "\n",
        "        with open(filename, 'r') as file:\n",
        "            content = file.read()\n",
        "\n",
        "\n",
        "            if not content:\n",
        "                print(f\"The file '{filename}' is empty.\")\n",
        "            else:\n",
        "                print(f\"Content of '{filename}':\")\n",
        "                print(content)\n",
        "\n",
        "    except Exception as e:\n",
        "        print(f\"An unexpected error occurred while reading '{filename}': {e}\")\n",
        "\n",
        "\n",
        "with open(\"file_with_content.txt\", \"w\") as f:\n",
        "    f.write(\"This file has some content.\\n\")\n",
        "    f.write(\"Another line.\")\n",
        "\n",
        "\n",
        "with open(\"empty_file.txt\", \"w\") as f:\n",
        "    pass\n",
        "\n",
        "\n",
        "non_existent_file = \"non_existent_file_to_check.txt\"\n",
        "\n",
        "\n",
        "print_file_content_handling_empty(\"file_with_content.txt\")\n",
        "\n",
        "print(\"-\" * 20)\n",
        "\n",
        "\n",
        "print_file_content_handling_empty(\"empty_file.txt\")\n",
        "\n",
        "print(\"-\" * 20)\n",
        "\n",
        "\n",
        "print_file_content_handling_empty(non_existent_file)"
      ],
      "execution_count": 19,
      "outputs": [
        {
          "output_type": "stream",
          "name": "stdout",
          "text": [
            "Content of 'file_with_content.txt':\n",
            "This file has some content.\n",
            "Another line.\n",
            "--------------------\n",
            "The file 'empty_file.txt' is empty.\n",
            "--------------------\n",
            "Error: The file 'non_existent_file_to_check.txt' was not found.\n"
          ]
        }
      ]
    },
    {
      "cell_type": "markdown",
      "source": [
        "**17.Write a Python program to create and write a list of numbers to a file, one number per line**."
      ],
      "metadata": {
        "id": "DSXvSjFudRXU"
      }
    },
    {
      "cell_type": "code",
      "metadata": {
        "colab": {
          "base_uri": "https://localhost:8080/"
        },
        "id": "c5e59c2e",
        "outputId": "4187ca95-b727-45da-e3a2-9b120ec85b8a"
      },
      "source": [
        "def write_numbers_to_file(filename, numbers):\n",
        "\n",
        "    try:\n",
        "        with open(filename, 'w') as file:\n",
        "            for number in numbers:\n",
        "                file.write(str(number) + ' ')\n",
        "        print(f\"Successfully wrote numbers to '{filename}'.\")\n",
        "    except Exception as e:\n",
        "        print(f\"An error occurred while writing to '{filename}': {e}\")\n",
        "\n",
        "\n",
        "my_numbers = [1, 2, 3, 4, 5, 6, 7, 8, 9, 10]\n",
        "output_file = \"numbers.txt\"\n",
        "\n",
        "write_numbers_to_file(output_file, my_numbers)\n",
        "\n",
        "\n",
        "print(f\"Content of '{output_file}':\")\n",
        "with open(output_file, 'r') as file:\n",
        "    print(file.read())"
      ],
      "execution_count": 24,
      "outputs": [
        {
          "output_type": "stream",
          "name": "stdout",
          "text": [
            "Successfully wrote numbers to 'numbers.txt'.\n",
            "Content of 'numbers.txt':\n",
            "1 2 3 4 5 6 7 8 9 10 \n"
          ]
        }
      ]
    },
    {
      "cell_type": "markdown",
      "source": [
        "**18.How would you implement a basic logging setup that logs to a file with rotation after 1MB?**"
      ],
      "metadata": {
        "id": "FJbvm1Nud0Ah"
      }
    },
    {
      "cell_type": "code",
      "metadata": {
        "id": "465088e9"
      },
      "source": [
        "import logging\n",
        "from logging.handlers import RotatingFileHandler\n",
        "import os\n",
        "\n",
        "\n",
        "log_file = \"my_rotating_log.log\"\n",
        "max_bytes = 1 * 1024 * 1024\n",
        "backup_count = 5\n",
        "\n",
        "\n",
        "logger = logging.getLogger(\"my_rotating_logger\")\n",
        "logger.setLevel(logging.INFO)\n",
        "\n",
        "handler = RotatingFileHandler(log_file, maxBytes=max_bytes, backupCount=backup_count)\n",
        "\n",
        "\n",
        "formatter = logging.Formatter('%(asctime)s - %(name)s - %(levelname)s - %(message)s')\n",
        "\n",
        "\n",
        "handler.setFormatter(formatter)\n",
        "\n",
        "\n",
        "logger.addHandler(handler)\n",
        "\n",
        "\n",
        "\n",
        "print(f\"Logging messages to {log_file}. Check the directory after execution.\")\n",
        "\n",
        "\n",
        "for i in range(20000):\n",
        "    logger.info(f\"This is log message number {i + 1}. This is some dummy content to make the file larger.\")\n",
        "\n",
        "print(\"Logging complete. Check the log file and potential rotated files.\")\n",
        "\n"
      ],
      "execution_count": null,
      "outputs": []
    },
    {
      "cell_type": "markdown",
      "source": [
        "**19. Write a program that handles both IndexError and KeyError using a try-except block.**"
      ],
      "metadata": {
        "id": "doGtYr05efO1"
      }
    },
    {
      "cell_type": "code",
      "metadata": {
        "colab": {
          "base_uri": "https://localhost:8080/"
        },
        "id": "5da6610c",
        "outputId": "887e2f60-ec64-45cc-b83d-0d73d843bfe0"
      },
      "source": [
        "def demonstrate_index_and_key_error_handling(data_list, data_dict, index_to_access, key_to_access):\n",
        "\n",
        "    try:\n",
        "\n",
        "        list_element = data_list[index_to_access]\n",
        "        print(f\"Successfully accessed list element at index {index_to_access}: {list_element}\")\n",
        "\n",
        "\n",
        "        dict_value = data_dict[key_to_access]\n",
        "        print(f\"Successfully accessed dictionary value for key '{key_to_access}': {dict_value}\")\n",
        "\n",
        "    except IndexError:\n",
        "        print(f\"Error: IndexError occurred. Index {index_to_access} is out of range for the list.\")\n",
        "    except KeyError:\n",
        "        print(f\"Error: KeyError occurred. Key '{key_to_access}' not found in the dictionary.\")\n",
        "    except Exception as e:\n",
        "        print(f\"An unexpected error occurred: {e}\")\n",
        "\n",
        "\n",
        "my_list = [10, 20, 30, 40, 50]\n",
        "my_dict = {\"apple\": 1, \"banana\": 2, \"cherry\": 3}\n",
        "\n",
        "# Case 1: No errors\n",
        "print(\" Case 1: No errors ---\")\n",
        "demonstrate_index_and_key_error_handling(my_list, my_dict, 2, \"banana\")\n",
        "\n",
        "print(\"\\n Case 2: IndexError ---\")\n",
        "# Case 2: IndexError\n",
        "demonstrate_index_and_key_error_handling(my_list, my_dict, 10, \"apple\") # Index out of range\n",
        "\n",
        "print(\"\\n Case 3: KeyError ---\")\n",
        "# Case 3: KeyError\n",
        "demonstrate_index_and_key_error_handling(my_list, my_dict, 1, \"grape\") # Key not found\n",
        "\n",
        "print(\"\\n Case 4: Both potential for error (IndexError will occur first) ---\")\n",
        "# Case 4: Both potential for error (IndexError will be caught first)\n",
        "demonstrate_index_and_key_error_handling(my_list, my_dict, 10, \"grape\")\n",
        "\n",
        "print(\"\\n Case 5: Both potential for error (KeyError will occur first if list access is valid) ---\")\n",
        "# Case 5: Both potential for error (KeyError will be caught first if list access is valid)\n",
        "demonstrate_index_and_key_error_handling(my_list, my_dict, 2, \"grape\")"
      ],
      "execution_count": 27,
      "outputs": [
        {
          "output_type": "stream",
          "name": "stdout",
          "text": [
            " Case 1: No errors ---\n",
            "Successfully accessed list element at index 2: 30\n",
            "Successfully accessed dictionary value for key 'banana': 2\n",
            "\n",
            " Case 2: IndexError ---\n",
            "Error: IndexError occurred. Index 10 is out of range for the list.\n",
            "\n",
            " Case 3: KeyError ---\n",
            "Successfully accessed list element at index 1: 20\n",
            "Error: KeyError occurred. Key 'grape' not found in the dictionary.\n",
            "\n",
            " Case 4: Both potential for error (IndexError will occur first) ---\n",
            "Error: IndexError occurred. Index 10 is out of range for the list.\n",
            "\n",
            " Case 5: Both potential for error (KeyError will occur first if list access is valid) ---\n",
            "Successfully accessed list element at index 2: 30\n",
            "Error: KeyError occurred. Key 'grape' not found in the dictionary.\n"
          ]
        }
      ]
    },
    {
      "cell_type": "markdown",
      "source": [
        "**20.How would you open a file and read its contents using a context manager in Python**"
      ],
      "metadata": {
        "id": "1_tioykte_Wg"
      }
    },
    {
      "cell_type": "code",
      "metadata": {
        "colab": {
          "base_uri": "https://localhost:8080/"
        },
        "id": "363568dc",
        "outputId": "f47300e0-61d3-4308-bf78-c35c3c294220"
      },
      "source": [
        "import os\n",
        "\n",
        "def read_file_using_context_manager(filename):\n",
        "\n",
        "    try:\n",
        "\n",
        "        if not os.path.exists(filename):\n",
        "            print(f\"Error: The file '{filename}' was not found.\")\n",
        "            return\n",
        "\n",
        "\n",
        "        with open(filename, 'r') as file:\n",
        "            content = file.read()\n",
        "            print(f\"Content of '{filename}':\")\n",
        "            print(content)\n",
        "\n",
        "    except Exception as e:\n",
        "        print(f\"An unexpected error occurred while reading '{filename}': {e}\")\n",
        "\n",
        "\n",
        "with open(\"my_context_file.txt\", \"w\") as f:\n",
        "    f.write(\"This file is opened and read using a context manager.\\n\")\n",
        "    f.write(\"This ensures the file is closed automatically.\")\n",
        "\n",
        "\n",
        "read_file_using_context_manager(\"my_context_file.txt\")\n",
        "\n",
        "print(\"-\" * 20)\n",
        "\n",
        "\n",
        "read_file_using_context_manager(\"non_existent_context_file.txt\")"
      ],
      "execution_count": 28,
      "outputs": [
        {
          "output_type": "stream",
          "name": "stdout",
          "text": [
            "Content of 'my_context_file.txt':\n",
            "This file is opened and read using a context manager.\n",
            "This ensures the file is closed automatically.\n",
            "--------------------\n",
            "Error: The file 'non_existent_context_file.txt' was not found.\n"
          ]
        }
      ]
    },
    {
      "cell_type": "markdown",
      "source": [
        "**21.Write a Python program that reads a file and prints the number of occurrences of a specific word**"
      ],
      "metadata": {
        "id": "OwsE_GAuf2V2"
      }
    },
    {
      "cell_type": "code",
      "metadata": {
        "colab": {
          "base_uri": "https://localhost:8080/"
        },
        "id": "4719e897",
        "outputId": "f5f3d45c-9bf2-4c42-e0d8-58b76a4bd92e"
      },
      "source": [
        "import os\n",
        "\n",
        "def count_word_occurrences(filename, word_to_find):\n",
        "\n",
        "    try:\n",
        "        if not os.path.exists(filename):\n",
        "            print(f\"Error: The file '{filename}' was not found.\")\n",
        "            return\n",
        "\n",
        "        count = 0\n",
        "\n",
        "        with open(filename, 'r') as file:\n",
        "            content = file.read()\n",
        "\n",
        "\n",
        "            words = content.lower().split()\n",
        "\n",
        "\n",
        "            count = words.count(word_to_find.lower())\n",
        "\n",
        "        print(f\"The word '{word_to_find}' appears {count} times in '{filename}'.\")\n",
        "\n",
        "    except Exception as e:\n",
        "        print(f\"An unexpected error occurred while reading '{filename}': {e}\")\n",
        "\n",
        "\n",
        "with open(\"sample_text.txt\", \"w\") as f:\n",
        "    f.write(\"This is a sample text file.\\n\")\n",
        "    f.write(\"This file contains sample text.\\n\")\n",
        "    f.write(\"Sample is the word we will count.\\n\")\n",
        "    f.write(\"This is another line with sample.\")\n",
        "\n",
        "\n",
        "file_to_read = \"sample_text.txt\"\n",
        "word_to_count = \"sample\"\n",
        "\n",
        "\n",
        "count_word_occurrences(file_to_read, word_to_count)\n",
        "\n",
        "print(\"-\" * 20)\n",
        "\n",
        "\n",
        "count_word_occurrences(file_to_read, \"python\")\n",
        "\n",
        "print(\"-\" * 20)\n",
        "\n",
        "\n",
        "count_word_occurrences(\"non_existent_text.txt\", \"word\")"
      ],
      "execution_count": 29,
      "outputs": [
        {
          "output_type": "stream",
          "name": "stdout",
          "text": [
            "The word 'sample' appears 3 times in 'sample_text.txt'.\n",
            "--------------------\n",
            "The word 'python' appears 0 times in 'sample_text.txt'.\n",
            "--------------------\n",
            "Error: The file 'non_existent_text.txt' was not found.\n"
          ]
        }
      ]
    },
    {
      "cell_type": "markdown",
      "source": [
        "**22.How can you check if a file is empty before attempting to read its contents?**"
      ],
      "metadata": {
        "id": "k8quKp_tgaSA"
      }
    },
    {
      "cell_type": "code",
      "metadata": {
        "colab": {
          "base_uri": "https://localhost:8080/"
        },
        "id": "9008eee8",
        "outputId": "cf6aacd5-6d49-4441-bdba-aa3c7fde57f3"
      },
      "source": [
        "import os\n",
        "\n",
        "def is_file_empty_method1(filename):\n",
        "    \"\"\"Checks if a file is empty using os.path.getsize().\"\"\"\n",
        "    if not os.path.exists(filename):\n",
        "        print(f\"Error: File '{filename}' not found.\")\n",
        "        return False\n",
        "\n",
        "    if os.path.getsize(filename) == 0:\n",
        "        return True\n",
        "    else:\n",
        "        return False\n",
        "\n",
        "def is_file_empty_method2(filename):\n",
        "    \"\"\"Checks if a file is empty by reading its content.\"\"\"\n",
        "    try:\n",
        "        with open(filename, 'r') as file:\n",
        "            content = file.read()\n",
        "            if not content:\n",
        "                return True\n",
        "            else:\n",
        "                return False\n",
        "    except FileNotFoundError:\n",
        "        print(f\"Error: File '{filename}' not found.\")\n",
        "        return False # Or handle as an error\n",
        "    except Exception as e:\n",
        "        print(f\"An unexpected error occurred: {e}\")\n",
        "        return False\n",
        "\n",
        "\n",
        "\n",
        "with open(\"file_with_content.txt\", \"w\") as f:\n",
        "    f.write(\"This file has some content.\")\n",
        "\n",
        "\n",
        "with open(\"empty_file.txt\", \"w\") as f:\n",
        "    pass\n",
        "\n",
        "\n",
        "print(f\"Checking 'file_with_content.txt' using Method 1: {is_file_empty_method1('file_with_content.txt')}\")\n",
        "\n",
        "print(f\"Checking 'empty_file.txt' using Method 1: {is_file_empty_method1('empty_file.txt')}\")\n",
        "\n",
        "print(f\"Checking 'non_existent_file.txt' using Method 1: {is_file_empty_method1('non_existent_file.txt')}\")\n",
        "\n",
        "print(\"-\" * 20)\n",
        "\n",
        "print(f\"Checking 'file_with_content.txt' using Method 2: {is_file_empty_method2('file_with_content.txt')}\")\n",
        "\n",
        "print(f\"Checking 'empty_file.txt' using Method 2: {is_file_empty_method2('empty_file.txt')}\")\n",
        "\n",
        "\n",
        "print(f\"Checking 'non_existent_file.txt' using Method 2: {is_file_empty_method2('non_existent_file.txt')}\")"
      ],
      "execution_count": 30,
      "outputs": [
        {
          "output_type": "stream",
          "name": "stdout",
          "text": [
            "Checking 'file_with_content.txt' using Method 1: False\n",
            "Checking 'empty_file.txt' using Method 1: True\n",
            "Error: File 'non_existent_file.txt' not found.\n",
            "Checking 'non_existent_file.txt' using Method 1: False\n",
            "--------------------\n",
            "Checking 'file_with_content.txt' using Method 2: False\n",
            "Checking 'empty_file.txt' using Method 2: True\n",
            "Error: File 'non_existent_file.txt' not found.\n",
            "Checking 'non_existent_file.txt' using Method 2: False\n"
          ]
        }
      ]
    },
    {
      "cell_type": "markdown",
      "source": [
        "**23. Write a Python program that writes to a log file when an error occurs during file handling.**"
      ],
      "metadata": {
        "id": "NHnX8NEVg_-a"
      }
    },
    {
      "cell_type": "code",
      "metadata": {
        "colab": {
          "base_uri": "https://localhost:8080/"
        },
        "id": "99624882",
        "outputId": "7f56bea9-1e5d-4dd0-82f0-d88808bc037e"
      },
      "source": [
        "import logging\n",
        "import os\n",
        "\n",
        "logging.basicConfig(filename='file_handling_errors.log', level=logging.ERROR,\n",
        "                    format='%(asctime)s - %(levelname)s - %(message)s')\n",
        "\n",
        "def safe_file_read(filename):\n",
        "\n",
        "    try:\n",
        "        with open(filename, 'r') as file:\n",
        "            content = file.read()\n",
        "            print(f\"Successfully read content from '{filename}'.\")\n",
        "            return content\n",
        "    except FileNotFoundError:\n",
        "        logging.error(f\"Error: File '{filename}' not found.\")\n",
        "        print(f\"Error: File '{filename}' not found. Details logged to file_handling_errors.log\")\n",
        "        return None\n",
        "    except Exception as e:\n",
        "        logging.error(f\"An unexpected error occurred while reading '{filename}': {e}\")\n",
        "        print(f\"An unexpected error occurred while reading '{filename}'. Details logged to file_handling_errors.log\")\n",
        "        return None\n",
        "\n",
        "def safe_file_write(filename, content):\n",
        "\n",
        "    try:\n",
        "        with open(filename, 'w') as file:\n",
        "            file.write(content)\n",
        "            print(f\"Successfully wrote content to '{filename}'.\")\n",
        "    except Exception as e:\n",
        "        logging.error(f\"An unexpected error occurred while writing to '{filename}': {e}\")\n",
        "        print(f\"An unexpected error occurred while writing to '{filename}'. Details logged to file_handling_errors.log\")\n",
        "\n",
        "\n",
        "\n",
        "print(\"--- Attempting to read a non-existent file ---\")\n",
        "read_result = safe_file_read(\"non_existent_file_for_logging.txt\")\n",
        "if read_result is not None:\n",
        "    print(\"Read content:\", read_result)\n",
        "\n",
        "print(\"-\" * 20)\n",
        "\n",
        "\n",
        "dummy_file_to_write = \"my_writable_file_for_logging.txt\"\n",
        "safe_file_write(dummy_file_to_write, \"This is some content to write.\")\n",
        "\n",
        "print(\"-\" * 20)\n",
        "\n",
        "non_writable_path = \"/non_writable_directory/test_write.txt\"\n",
        "\n",
        "print(f\"--- Attempting to write to a potentially non-writable path ({non_writable_path}) ---\")\n",
        "\n",
        "safe_file_write(non_writable_path, \"Attempting to write here.\")\n",
        "\n",
        "print(\"\\nCheck the 'file_handling_errors.log' file for logged errors.\")"
      ],
      "execution_count": 31,
      "outputs": [
        {
          "output_type": "stream",
          "name": "stderr",
          "text": [
            "ERROR:root:Error: File 'non_existent_file_for_logging.txt' not found.\n",
            "ERROR:root:An unexpected error occurred while writing to '/non_writable_directory/test_write.txt': [Errno 2] No such file or directory: '/non_writable_directory/test_write.txt'\n"
          ]
        },
        {
          "output_type": "stream",
          "name": "stdout",
          "text": [
            "--- Attempting to read a non-existent file ---\n",
            "Error: File 'non_existent_file_for_logging.txt' not found. Details logged to file_handling_errors.log\n",
            "--------------------\n",
            "Successfully wrote content to 'my_writable_file_for_logging.txt'.\n",
            "--------------------\n",
            "--- Attempting to write to a potentially non-writable path (/non_writable_directory/test_write.txt) ---\n",
            "An unexpected error occurred while writing to '/non_writable_directory/test_write.txt'. Details logged to file_handling_errors.log\n",
            "\n",
            "Check the 'file_handling_errors.log' file for logged errors.\n"
          ]
        }
      ]
    }
  ]
}